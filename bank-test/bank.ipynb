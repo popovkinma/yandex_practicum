{
 "cells": [
  {
   "cell_type": "markdown",
   "id": "63f6b371",
   "metadata": {},
   "source": [
    "# Исследование надежности заемщиков."
   ]
  },
  {
   "cell_type": "markdown",
   "id": "83576822",
   "metadata": {},
   "source": [
    "**Цель исследования** — ответить на четыре вопроса:\n",
    "1. Есть ли зависимость между количеством детей и возвратом кредита в срок?\n",
    "2. Есть ли зависимость между семейным положением и возвратом кредита в срок?\n",
    "3. Есть ли зависимость между уровнем дохода и возвратом кредита в срок?\n",
    "4. Как разные цели кредита влияют на его возврат в срок?\n",
    "\n",
    "\n"
   ]
  },
  {
   "cell_type": "markdown",
   "id": "62b44a39",
   "metadata": {},
   "source": [
    "## Шаг 1. Обзор данных"
   ]
  },
  {
   "cell_type": "markdown",
   "id": "a332c091",
   "metadata": {},
   "source": [
    "Загрузка файла."
   ]
  },
  {
   "cell_type": "code",
   "execution_count": 1,
   "id": "0261e9cb",
   "metadata": {},
   "outputs": [],
   "source": [
    "import pandas as pd# импорт библиотеки pandas"
   ]
  },
  {
   "cell_type": "code",
   "execution_count": 2,
   "id": "96424fe7",
   "metadata": {
    "scrolled": false
   },
   "outputs": [
    {
     "data": {
      "text/html": [
       "<div>\n",
       "<style scoped>\n",
       "    .dataframe tbody tr th:only-of-type {\n",
       "        vertical-align: middle;\n",
       "    }\n",
       "\n",
       "    .dataframe tbody tr th {\n",
       "        vertical-align: top;\n",
       "    }\n",
       "\n",
       "    .dataframe thead th {\n",
       "        text-align: right;\n",
       "    }\n",
       "</style>\n",
       "<table border=\"1\" class=\"dataframe\">\n",
       "  <thead>\n",
       "    <tr style=\"text-align: right;\">\n",
       "      <th></th>\n",
       "      <th>children</th>\n",
       "      <th>days_employed</th>\n",
       "      <th>dob_years</th>\n",
       "      <th>education</th>\n",
       "      <th>education_id</th>\n",
       "      <th>family_status</th>\n",
       "      <th>family_status_id</th>\n",
       "      <th>gender</th>\n",
       "      <th>income_type</th>\n",
       "      <th>debt</th>\n",
       "      <th>total_income</th>\n",
       "      <th>purpose</th>\n",
       "    </tr>\n",
       "  </thead>\n",
       "  <tbody>\n",
       "    <tr>\n",
       "      <td>0</td>\n",
       "      <td>1</td>\n",
       "      <td>-8437.673028</td>\n",
       "      <td>42</td>\n",
       "      <td>высшее</td>\n",
       "      <td>0</td>\n",
       "      <td>женат / замужем</td>\n",
       "      <td>0</td>\n",
       "      <td>F</td>\n",
       "      <td>сотрудник</td>\n",
       "      <td>0</td>\n",
       "      <td>253875.639453</td>\n",
       "      <td>покупка жилья</td>\n",
       "    </tr>\n",
       "    <tr>\n",
       "      <td>1</td>\n",
       "      <td>1</td>\n",
       "      <td>-4024.803754</td>\n",
       "      <td>36</td>\n",
       "      <td>среднее</td>\n",
       "      <td>1</td>\n",
       "      <td>женат / замужем</td>\n",
       "      <td>0</td>\n",
       "      <td>F</td>\n",
       "      <td>сотрудник</td>\n",
       "      <td>0</td>\n",
       "      <td>112080.014102</td>\n",
       "      <td>приобретение автомобиля</td>\n",
       "    </tr>\n",
       "    <tr>\n",
       "      <td>2</td>\n",
       "      <td>0</td>\n",
       "      <td>-5623.422610</td>\n",
       "      <td>33</td>\n",
       "      <td>Среднее</td>\n",
       "      <td>1</td>\n",
       "      <td>женат / замужем</td>\n",
       "      <td>0</td>\n",
       "      <td>M</td>\n",
       "      <td>сотрудник</td>\n",
       "      <td>0</td>\n",
       "      <td>145885.952297</td>\n",
       "      <td>покупка жилья</td>\n",
       "    </tr>\n",
       "    <tr>\n",
       "      <td>3</td>\n",
       "      <td>3</td>\n",
       "      <td>-4124.747207</td>\n",
       "      <td>32</td>\n",
       "      <td>среднее</td>\n",
       "      <td>1</td>\n",
       "      <td>женат / замужем</td>\n",
       "      <td>0</td>\n",
       "      <td>M</td>\n",
       "      <td>сотрудник</td>\n",
       "      <td>0</td>\n",
       "      <td>267628.550329</td>\n",
       "      <td>дополнительное образование</td>\n",
       "    </tr>\n",
       "    <tr>\n",
       "      <td>4</td>\n",
       "      <td>0</td>\n",
       "      <td>340266.072047</td>\n",
       "      <td>53</td>\n",
       "      <td>среднее</td>\n",
       "      <td>1</td>\n",
       "      <td>гражданский брак</td>\n",
       "      <td>1</td>\n",
       "      <td>F</td>\n",
       "      <td>пенсионер</td>\n",
       "      <td>0</td>\n",
       "      <td>158616.077870</td>\n",
       "      <td>сыграть свадьбу</td>\n",
       "    </tr>\n",
       "    <tr>\n",
       "      <td>...</td>\n",
       "      <td>...</td>\n",
       "      <td>...</td>\n",
       "      <td>...</td>\n",
       "      <td>...</td>\n",
       "      <td>...</td>\n",
       "      <td>...</td>\n",
       "      <td>...</td>\n",
       "      <td>...</td>\n",
       "      <td>...</td>\n",
       "      <td>...</td>\n",
       "      <td>...</td>\n",
       "      <td>...</td>\n",
       "    </tr>\n",
       "    <tr>\n",
       "      <td>21520</td>\n",
       "      <td>1</td>\n",
       "      <td>-4529.316663</td>\n",
       "      <td>43</td>\n",
       "      <td>среднее</td>\n",
       "      <td>1</td>\n",
       "      <td>гражданский брак</td>\n",
       "      <td>1</td>\n",
       "      <td>F</td>\n",
       "      <td>компаньон</td>\n",
       "      <td>0</td>\n",
       "      <td>224791.862382</td>\n",
       "      <td>операции с жильем</td>\n",
       "    </tr>\n",
       "    <tr>\n",
       "      <td>21521</td>\n",
       "      <td>0</td>\n",
       "      <td>343937.404131</td>\n",
       "      <td>67</td>\n",
       "      <td>среднее</td>\n",
       "      <td>1</td>\n",
       "      <td>женат / замужем</td>\n",
       "      <td>0</td>\n",
       "      <td>F</td>\n",
       "      <td>пенсионер</td>\n",
       "      <td>0</td>\n",
       "      <td>155999.806512</td>\n",
       "      <td>сделка с автомобилем</td>\n",
       "    </tr>\n",
       "    <tr>\n",
       "      <td>21522</td>\n",
       "      <td>1</td>\n",
       "      <td>-2113.346888</td>\n",
       "      <td>38</td>\n",
       "      <td>среднее</td>\n",
       "      <td>1</td>\n",
       "      <td>гражданский брак</td>\n",
       "      <td>1</td>\n",
       "      <td>M</td>\n",
       "      <td>сотрудник</td>\n",
       "      <td>1</td>\n",
       "      <td>89672.561153</td>\n",
       "      <td>недвижимость</td>\n",
       "    </tr>\n",
       "    <tr>\n",
       "      <td>21523</td>\n",
       "      <td>3</td>\n",
       "      <td>-3112.481705</td>\n",
       "      <td>38</td>\n",
       "      <td>среднее</td>\n",
       "      <td>1</td>\n",
       "      <td>женат / замужем</td>\n",
       "      <td>0</td>\n",
       "      <td>M</td>\n",
       "      <td>сотрудник</td>\n",
       "      <td>1</td>\n",
       "      <td>244093.050500</td>\n",
       "      <td>на покупку своего автомобиля</td>\n",
       "    </tr>\n",
       "    <tr>\n",
       "      <td>21524</td>\n",
       "      <td>2</td>\n",
       "      <td>-1984.507589</td>\n",
       "      <td>40</td>\n",
       "      <td>среднее</td>\n",
       "      <td>1</td>\n",
       "      <td>женат / замужем</td>\n",
       "      <td>0</td>\n",
       "      <td>F</td>\n",
       "      <td>сотрудник</td>\n",
       "      <td>0</td>\n",
       "      <td>82047.418899</td>\n",
       "      <td>на покупку автомобиля</td>\n",
       "    </tr>\n",
       "  </tbody>\n",
       "</table>\n",
       "<p>21525 rows × 12 columns</p>\n",
       "</div>"
      ],
      "text/plain": [
       "       children  days_employed  dob_years education  education_id  \\\n",
       "0             1   -8437.673028         42    высшее             0   \n",
       "1             1   -4024.803754         36   среднее             1   \n",
       "2             0   -5623.422610         33   Среднее             1   \n",
       "3             3   -4124.747207         32   среднее             1   \n",
       "4             0  340266.072047         53   среднее             1   \n",
       "...         ...            ...        ...       ...           ...   \n",
       "21520         1   -4529.316663         43   среднее             1   \n",
       "21521         0  343937.404131         67   среднее             1   \n",
       "21522         1   -2113.346888         38   среднее             1   \n",
       "21523         3   -3112.481705         38   среднее             1   \n",
       "21524         2   -1984.507589         40   среднее             1   \n",
       "\n",
       "          family_status  family_status_id gender income_type  debt  \\\n",
       "0       женат / замужем                 0      F   сотрудник     0   \n",
       "1       женат / замужем                 0      F   сотрудник     0   \n",
       "2       женат / замужем                 0      M   сотрудник     0   \n",
       "3       женат / замужем                 0      M   сотрудник     0   \n",
       "4      гражданский брак                 1      F   пенсионер     0   \n",
       "...                 ...               ...    ...         ...   ...   \n",
       "21520  гражданский брак                 1      F   компаньон     0   \n",
       "21521   женат / замужем                 0      F   пенсионер     0   \n",
       "21522  гражданский брак                 1      M   сотрудник     1   \n",
       "21523   женат / замужем                 0      M   сотрудник     1   \n",
       "21524   женат / замужем                 0      F   сотрудник     0   \n",
       "\n",
       "        total_income                       purpose  \n",
       "0      253875.639453                 покупка жилья  \n",
       "1      112080.014102       приобретение автомобиля  \n",
       "2      145885.952297                 покупка жилья  \n",
       "3      267628.550329    дополнительное образование  \n",
       "4      158616.077870               сыграть свадьбу  \n",
       "...              ...                           ...  \n",
       "21520  224791.862382             операции с жильем  \n",
       "21521  155999.806512          сделка с автомобилем  \n",
       "21522   89672.561153                  недвижимость  \n",
       "21523  244093.050500  на покупку своего автомобиля  \n",
       "21524   82047.418899         на покупку автомобиля  \n",
       "\n",
       "[21525 rows x 12 columns]"
      ]
     },
     "execution_count": 2,
     "metadata": {},
     "output_type": "execute_result"
    }
   ],
   "source": [
    "df = pd.read_csv('/datasets/data.csv')# чтение файла с данными и сохранение в df\n",
    "df# получение таблицы df"
   ]
  },
  {
   "cell_type": "markdown",
   "id": "0c8d0253",
   "metadata": {},
   "source": [
    "Просмотр информации по таблице."
   ]
  },
  {
   "cell_type": "code",
   "execution_count": 3,
   "id": "8ed181e3",
   "metadata": {},
   "outputs": [
    {
     "name": "stdout",
     "output_type": "stream",
     "text": [
      "<class 'pandas.core.frame.DataFrame'>\n",
      "RangeIndex: 21525 entries, 0 to 21524\n",
      "Data columns (total 12 columns):\n",
      "children            21525 non-null int64\n",
      "days_employed       19351 non-null float64\n",
      "dob_years           21525 non-null int64\n",
      "education           21525 non-null object\n",
      "education_id        21525 non-null int64\n",
      "family_status       21525 non-null object\n",
      "family_status_id    21525 non-null int64\n",
      "gender              21525 non-null object\n",
      "income_type         21525 non-null object\n",
      "debt                21525 non-null int64\n",
      "total_income        19351 non-null float64\n",
      "purpose             21525 non-null object\n",
      "dtypes: float64(2), int64(5), object(5)\n",
      "memory usage: 2.0+ MB\n"
     ]
    },
    {
     "data": {
      "text/plain": [
       "children               0\n",
       "days_employed       2174\n",
       "dob_years              0\n",
       "education              0\n",
       "education_id           0\n",
       "family_status          0\n",
       "family_status_id       0\n",
       "gender                 0\n",
       "income_type            0\n",
       "debt                   0\n",
       "total_income        2174\n",
       "purpose                0\n",
       "dtype: int64"
      ]
     },
     "execution_count": 3,
     "metadata": {},
     "output_type": "execute_result"
    }
   ],
   "source": [
    "df.info()# получение общей информации о данных в таблице df\n",
    "df.isna().sum() # подсчёт пропусков"
   ]
  },
  {
   "cell_type": "markdown",
   "id": "939089d9",
   "metadata": {},
   "source": [
    "Пропуски значений есть в колонках \"days_employed\" и \"total_income\", пропусков одинаковое количество - 2174, около 10%,\n",
    "пропущенные значения:\n",
    "days_employed — общий трудовой стаж в днях и \n",
    "total_income — ежемесячный доход. \n",
    "Возможно эти люди никогда не работали."
   ]
  },
  {
   "cell_type": "markdown",
   "id": "900c8067",
   "metadata": {},
   "source": [
    "### Шаг 2.1 Заполнение пропусков"
   ]
  },
  {
   "cell_type": "code",
   "execution_count": 4,
   "id": "da4464f1",
   "metadata": {},
   "outputs": [
    {
     "data": {
      "text/plain": [
       "children            0\n",
       "days_employed       0\n",
       "dob_years           0\n",
       "education           0\n",
       "education_id        0\n",
       "family_status       0\n",
       "family_status_id    0\n",
       "gender              0\n",
       "income_type         0\n",
       "debt                0\n",
       "total_income        0\n",
       "purpose             0\n",
       "dtype: int64"
      ]
     },
     "execution_count": 4,
     "metadata": {},
     "output_type": "execute_result"
    }
   ],
   "source": [
    "days_employed_median = df['days_employed'].median()# медианное значение колонки days_employed\n",
    "df['days_employed'] = df['days_employed'].fillna(days_employed_median)# замена значений колонки days_employed\n",
    "\n",
    "# Старое решение\n",
    "#total_income_median = df['total_income'].median()# медианное значение колонки total_income \n",
    "#df['total_income'] = df['total_income'].fillna(total_income_median)# замена значений колонки total_income \n",
    "\n",
    "# Новое решение\n",
    "for x in df['income_type'].unique(): # цикл проходит по уникальным значениям колонки income_type содержащим тип клиента\n",
    "    df.loc[(df['income_type'] == x) & (df['total_income'].isnull()), 'total_income'] = df.loc[df['income_type'] == x, 'total_income'].median()\n",
    "# замена значений колонки total_income на медианные значения по типам клиентов\n",
    "df.isna().sum() # подсчёт пропусков\n"
   ]
  },
  {
   "cell_type": "markdown",
   "id": "978bf75f",
   "metadata": {},
   "source": [
    "Пропусков больше нет, пропуски заполнены медианным значением.\n",
    "Использование медианного значения корректно характеризует данные, когда некоторые значения сильно выделяются среди большинства."
   ]
  },
  {
   "cell_type": "markdown",
   "id": "820e42f8",
   "metadata": {},
   "source": [
    "### Шаг 2.2 Проверка данных на аномалии и исправления."
   ]
  },
  {
   "cell_type": "code",
   "execution_count": 5,
   "id": "b07b84d1",
   "metadata": {},
   "outputs": [],
   "source": [
    "df['days_employed'] = df['days_employed'].abs()# убрали отрицательные значения с помощью модуля"
   ]
  },
  {
   "cell_type": "markdown",
   "id": "db2f47e0",
   "metadata": {},
   "source": [
    "Отрицательные значения в таблице в столбце days_employed, по моему мнению, могли появиться в следствии неправильной выгрузки."
   ]
  },
  {
   "cell_type": "markdown",
   "id": "0fea8354",
   "metadata": {},
   "source": [
    "### Шаг 2.3. Изменение типов данных."
   ]
  },
  {
   "cell_type": "code",
   "execution_count": 6,
   "id": "9f24a7ae",
   "metadata": {},
   "outputs": [],
   "source": [
    "df['total_income'] = df['total_income'].astype('int64')\n",
    "# замена вещественного типа данных в столбце total_income на целочисленный тип"
   ]
  },
  {
   "cell_type": "markdown",
   "id": "116f07f9",
   "metadata": {},
   "source": [
    "### Шаг 2.4. Удаление дубликатов."
   ]
  },
  {
   "cell_type": "code",
   "execution_count": 7,
   "id": "f5699a03",
   "metadata": {},
   "outputs": [
    {
     "data": {
      "text/plain": [
       "54"
      ]
     },
     "execution_count": 7,
     "metadata": {},
     "output_type": "execute_result"
    }
   ],
   "source": [
    "df.duplicated().sum()# подсчёт явных дубликатов"
   ]
  },
  {
   "cell_type": "code",
   "execution_count": 8,
   "id": "61dea878",
   "metadata": {},
   "outputs": [
    {
     "data": {
      "text/plain": [
       "0"
      ]
     },
     "execution_count": 8,
     "metadata": {},
     "output_type": "execute_result"
    }
   ],
   "source": [
    "df = df.drop_duplicates().reset_index(drop=True)# удаление явных дубликатов (с удалением старых индексов и формированием новых)\n",
    "df.duplicated().sum()# подсчёт явных дубликатов после удаления"
   ]
  },
  {
   "cell_type": "code",
   "execution_count": 9,
   "id": "d838978d",
   "metadata": {},
   "outputs": [
    {
     "data": {
      "text/plain": [
       "array(['ВЫСШЕЕ', 'Высшее', 'НАЧАЛЬНОЕ', 'НЕОКОНЧЕННОЕ ВЫСШЕЕ',\n",
       "       'Начальное', 'Неоконченное высшее', 'СРЕДНЕЕ', 'Среднее',\n",
       "       'УЧЕНАЯ СТЕПЕНЬ', 'Ученая степень', 'высшее', 'начальное',\n",
       "       'неоконченное высшее', 'среднее', 'ученая степень'], dtype=object)"
      ]
     },
     "execution_count": 9,
     "metadata": {},
     "output_type": "execute_result"
    }
   ],
   "source": [
    "df['education'].sort_values().unique()# просмотр уникальных названий уровней образования"
   ]
  },
  {
   "cell_type": "code",
   "execution_count": 10,
   "id": "1de9485c",
   "metadata": {},
   "outputs": [],
   "source": [
    "df['education'] = df['education'].str.lower()# приводим названия к нижнему регистру"
   ]
  },
  {
   "cell_type": "code",
   "execution_count": 11,
   "id": "a3b0c559",
   "metadata": {},
   "outputs": [
    {
     "data": {
      "text/plain": [
       "array(['высшее', 'начальное', 'неоконченное высшее', 'среднее',\n",
       "       'ученая степень'], dtype=object)"
      ]
     },
     "execution_count": 11,
     "metadata": {},
     "output_type": "execute_result"
    }
   ],
   "source": [
    "df['education'].sort_values().unique()# проверяем результат"
   ]
  },
  {
   "cell_type": "code",
   "execution_count": 12,
   "id": "d66e3867",
   "metadata": {},
   "outputs": [
    {
     "data": {
      "text/plain": [
       "array([-1,  0,  1,  2,  3,  4,  5, 20])"
      ]
     },
     "execution_count": 12,
     "metadata": {},
     "output_type": "execute_result"
    }
   ],
   "source": [
    "df['children'].sort_values().unique() # Просмотр уникальных названий колличества детей"
   ]
  },
  {
   "cell_type": "code",
   "execution_count": 13,
   "id": "7c5efac5",
   "metadata": {},
   "outputs": [
    {
     "data": {
      "text/plain": [
       "children\n",
       "0     14107\n",
       "1      4856\n",
       "2      2052\n",
       "3       330\n",
       "4        41\n",
       "5         9\n",
       "20       76\n",
       "Name: income_type, dtype: int64"
      ]
     },
     "metadata": {},
     "output_type": "display_data"
    }
   ],
   "source": [
    "df['children'] = df['children'].abs() # убрали отрицательные значение с помощью модуля\n",
    "count_children = df.groupby('children')['income_type'].count() #Посчитаем колличество уникальных значений колличества детей\n",
    "display(count_children)# выведем значение на экран"
   ]
  },
  {
   "cell_type": "markdown",
   "id": "5e94f9ad",
   "metadata": {},
   "source": [
    "Думаю, что 20 детей это ошибка ввода, слишком много таких семей, больше чем с четыремя детьми."
   ]
  },
  {
   "cell_type": "code",
   "execution_count": 14,
   "id": "38b0cf49",
   "metadata": {},
   "outputs": [
    {
     "data": {
      "text/plain": [
       "children\n",
       "0    14107\n",
       "1     4856\n",
       "2     2128\n",
       "3      330\n",
       "4       41\n",
       "5        9\n",
       "Name: income_type, dtype: int64"
      ]
     },
     "metadata": {},
     "output_type": "display_data"
    }
   ],
   "source": [
    "df['children'] = df['children'].replace(20,2) # произведем замену значения колличества детей с 20 на 2\n",
    "count_children = df.groupby('children')['income_type'].count() #проверим замену\n",
    "display(count_children)"
   ]
  },
  {
   "cell_type": "markdown",
   "id": "6d7359ee",
   "metadata": {},
   "source": [
    "Замена значения количества детей с 20 на 2 произошла."
   ]
  },
  {
   "cell_type": "code",
   "execution_count": 15,
   "id": "fbe4ff6d",
   "metadata": {},
   "outputs": [
    {
     "data": {
      "text/plain": [
       "array(['Не женат / не замужем', 'в разводе', 'вдовец / вдова',\n",
       "       'гражданский брак', 'женат / замужем'], dtype=object)"
      ]
     },
     "execution_count": 15,
     "metadata": {},
     "output_type": "execute_result"
    }
   ],
   "source": [
    "df['family_status'].sort_values().unique()# просмотр уникальных названий семейного положения"
   ]
  },
  {
   "cell_type": "code",
   "execution_count": 16,
   "id": "6f51883b",
   "metadata": {},
   "outputs": [
    {
     "data": {
      "text/plain": [
       "array(['автомобили', 'автомобиль', 'высшее образование',\n",
       "       'дополнительное образование', 'жилье',\n",
       "       'заняться высшим образованием', 'заняться образованием',\n",
       "       'на покупку автомобиля', 'на покупку подержанного автомобиля',\n",
       "       'на покупку своего автомобиля', 'на проведение свадьбы',\n",
       "       'недвижимость', 'образование', 'операции с жильем',\n",
       "       'операции с коммерческой недвижимостью',\n",
       "       'операции с недвижимостью', 'операции со своей недвижимостью',\n",
       "       'покупка жилой недвижимости', 'покупка жилья',\n",
       "       'покупка жилья для сдачи', 'покупка жилья для семьи',\n",
       "       'покупка коммерческой недвижимости', 'покупка недвижимости',\n",
       "       'покупка своего жилья', 'получение высшего образования',\n",
       "       'получение дополнительного образования', 'получение образования',\n",
       "       'приобретение автомобиля', 'профильное образование',\n",
       "       'ремонт жилью', 'свадьба', 'свой автомобиль',\n",
       "       'сделка с автомобилем', 'сделка с подержанным автомобилем',\n",
       "       'строительство жилой недвижимости', 'строительство недвижимости',\n",
       "       'строительство собственной недвижимости', 'сыграть свадьбу'],\n",
       "      dtype=object)"
      ]
     },
     "execution_count": 16,
     "metadata": {},
     "output_type": "execute_result"
    }
   ],
   "source": [
    "df['purpose'].sort_values().unique()# просмотр уникальных названий целей кредита"
   ]
  },
  {
   "cell_type": "code",
   "execution_count": 17,
   "id": "8107d681",
   "metadata": {},
   "outputs": [
    {
     "data": {
      "text/plain": [
       "array(['безработный', 'в декрете', 'госслужащий', 'компаньон',\n",
       "       'пенсионер', 'предприниматель', 'сотрудник', 'студент'],\n",
       "      dtype=object)"
      ]
     },
     "execution_count": 17,
     "metadata": {},
     "output_type": "execute_result"
    }
   ],
   "source": [
    "df['income_type'].sort_values().unique()# просмотр уникальных названий типов занятости"
   ]
  },
  {
   "cell_type": "code",
   "execution_count": 18,
   "id": "fb4b407e",
   "metadata": {},
   "outputs": [
    {
     "data": {
      "text/plain": [
       "gender\n",
       "F      14189\n",
       "M       7281\n",
       "XNA        1\n",
       "Name: income_type, dtype: int64"
      ]
     },
     "execution_count": 18,
     "metadata": {},
     "output_type": "execute_result"
    }
   ],
   "source": [
    "df.groupby('gender')['income_type'].count()# посчитаем количество уникальных названий семейного положения"
   ]
  },
  {
   "cell_type": "code",
   "execution_count": 19,
   "id": "fcffb4b1",
   "metadata": {},
   "outputs": [
    {
     "data": {
      "text/plain": [
       "gender\n",
       "F    14189\n",
       "M     7282\n",
       "Name: income_type, dtype: int64"
      ]
     },
     "execution_count": 19,
     "metadata": {},
     "output_type": "execute_result"
    }
   ],
   "source": [
    "df['gender'] = df['gender'].replace('XNA','M')# заменим значение XNA на M\n",
    "df.groupby('gender')['income_type'].count()# проверим результат предыдущего действия"
   ]
  },
  {
   "cell_type": "markdown",
   "id": "79531712",
   "metadata": {},
   "source": [
    "Столбец \"семейное положение\" и \"занятости\" не требует вмешательства.\n",
    "\n",
    "Причина появления дубликатов в столбце \"образование\" - ввод данных вручную.\n",
    "\n",
    "Столбец \"дети\" содержал отрицательные значения, ошибка с 20 детьми, ошибка при вводе.\n",
    "\n",
    "В столбце \"гендер\" есть значени 'XNA' возможна ошибка при вводе или выгрузке, такое значение всего одно, думаю, что его можно заменить на любой гендер без особого влияния на конечный результат, поменяем на \"М\", так как их меньше."
   ]
  },
  {
   "cell_type": "markdown",
   "id": "250680d4",
   "metadata": {},
   "source": [
    "### Шаг 2.5. Формирование дополнительных датафреймов словарей, декомпозиция исходного датафрейма."
   ]
  },
  {
   "cell_type": "code",
   "execution_count": 20,
   "id": "0f77feeb",
   "metadata": {},
   "outputs": [
    {
     "data": {
      "text/html": [
       "<div>\n",
       "<style scoped>\n",
       "    .dataframe tbody tr th:only-of-type {\n",
       "        vertical-align: middle;\n",
       "    }\n",
       "\n",
       "    .dataframe tbody tr th {\n",
       "        vertical-align: top;\n",
       "    }\n",
       "\n",
       "    .dataframe thead th {\n",
       "        text-align: right;\n",
       "    }\n",
       "</style>\n",
       "<table border=\"1\" class=\"dataframe\">\n",
       "  <thead>\n",
       "    <tr style=\"text-align: right;\">\n",
       "      <th></th>\n",
       "      <th>education_id</th>\n",
       "      <th>education</th>\n",
       "    </tr>\n",
       "  </thead>\n",
       "  <tbody>\n",
       "    <tr>\n",
       "      <td>0</td>\n",
       "      <td>0</td>\n",
       "      <td>высшее</td>\n",
       "    </tr>\n",
       "    <tr>\n",
       "      <td>1</td>\n",
       "      <td>1</td>\n",
       "      <td>среднее</td>\n",
       "    </tr>\n",
       "    <tr>\n",
       "      <td>2</td>\n",
       "      <td>2</td>\n",
       "      <td>неоконченное высшее</td>\n",
       "    </tr>\n",
       "    <tr>\n",
       "      <td>3</td>\n",
       "      <td>3</td>\n",
       "      <td>начальное</td>\n",
       "    </tr>\n",
       "    <tr>\n",
       "      <td>4</td>\n",
       "      <td>4</td>\n",
       "      <td>ученая степень</td>\n",
       "    </tr>\n",
       "  </tbody>\n",
       "</table>\n",
       "</div>"
      ],
      "text/plain": [
       "   education_id            education\n",
       "0             0               высшее\n",
       "1             1              среднее\n",
       "2             2  неоконченное высшее\n",
       "3             3            начальное\n",
       "4             4       ученая степень"
      ]
     },
     "metadata": {},
     "output_type": "display_data"
    },
    {
     "data": {
      "text/html": [
       "<div>\n",
       "<style scoped>\n",
       "    .dataframe tbody tr th:only-of-type {\n",
       "        vertical-align: middle;\n",
       "    }\n",
       "\n",
       "    .dataframe tbody tr th {\n",
       "        vertical-align: top;\n",
       "    }\n",
       "\n",
       "    .dataframe thead th {\n",
       "        text-align: right;\n",
       "    }\n",
       "</style>\n",
       "<table border=\"1\" class=\"dataframe\">\n",
       "  <thead>\n",
       "    <tr style=\"text-align: right;\">\n",
       "      <th></th>\n",
       "      <th>family_status_id</th>\n",
       "      <th>family_status</th>\n",
       "    </tr>\n",
       "  </thead>\n",
       "  <tbody>\n",
       "    <tr>\n",
       "      <td>0</td>\n",
       "      <td>0</td>\n",
       "      <td>женат / замужем</td>\n",
       "    </tr>\n",
       "    <tr>\n",
       "      <td>1</td>\n",
       "      <td>1</td>\n",
       "      <td>гражданский брак</td>\n",
       "    </tr>\n",
       "    <tr>\n",
       "      <td>2</td>\n",
       "      <td>2</td>\n",
       "      <td>вдовец / вдова</td>\n",
       "    </tr>\n",
       "    <tr>\n",
       "      <td>3</td>\n",
       "      <td>3</td>\n",
       "      <td>в разводе</td>\n",
       "    </tr>\n",
       "    <tr>\n",
       "      <td>4</td>\n",
       "      <td>4</td>\n",
       "      <td>Не женат / не замужем</td>\n",
       "    </tr>\n",
       "  </tbody>\n",
       "</table>\n",
       "</div>"
      ],
      "text/plain": [
       "   family_status_id          family_status\n",
       "0                 0        женат / замужем\n",
       "1                 1       гражданский брак\n",
       "2                 2         вдовец / вдова\n",
       "3                 3              в разводе\n",
       "4                 4  Не женат / не замужем"
      ]
     },
     "metadata": {},
     "output_type": "display_data"
    }
   ],
   "source": [
    "df_dict_education = df[['education_id','education']]# создаем дополнительный словарь образование\n",
    "df_dict_education = df_dict_education.drop_duplicates().reset_index(drop=True).sort_values('education_id')# удаляем повторы, сортируем\n",
    "df_dict_family_status = df[['family_status_id','family_status']]# создаем дополнительный словарь семейного положения\n",
    "df_dict_family_status = df_dict_family_status.drop_duplicates().reset_index(drop=True).sort_values('family_status_id')# удаляем повторы, сортируем\n",
    "display(df_dict_education)# выводим на экран для проверки получившейся таблицы\n",
    "display(df_dict_family_status)# выводим на экран для проверки получившейся таблицы\n",
    "df=df.drop(['education', 'family_status',],axis = 1)# удаляем столбцы образование и семейный статус из основной таблицы"
   ]
  },
  {
   "cell_type": "markdown",
   "id": "65e6c594",
   "metadata": {},
   "source": [
    "### Шаг 2.6. Категоризация дохода."
   ]
  },
  {
   "cell_type": "code",
   "execution_count": 21,
   "id": "3332cd0d",
   "metadata": {},
   "outputs": [
    {
     "data": {
      "text/plain": [
       "C    16032\n",
       "B     5042\n",
       "D      350\n",
       "A       25\n",
       "E       22\n",
       "Name: total_income_category, dtype: int64"
      ]
     },
     "metadata": {},
     "output_type": "display_data"
    }
   ],
   "source": [
    "# функция распределить заемщиков на категории в соответствии с общим доходом\n",
    "    # до 30 000 - категория E\n",
    "    # от 30 001 до 50 000 - категория D\n",
    "    # от 50 001 до 200 000 - категория C\n",
    "    # от 200 001 до 1 000 000 - категория B\n",
    "    # от 1 000 001 - категория A\n",
    "def total_income_category_group(group):\n",
    "    if group <= 30000:\n",
    "        return 'E'\n",
    "    if group <= 50000:\n",
    "        return 'D'\n",
    "    if group <= 200000:\n",
    "        return 'C'\n",
    "    if group <= 1000000:\n",
    "        return 'B'\n",
    "    return 'A' \n",
    "df['total_income_category'] = df['total_income'].apply(total_income_category_group)\n",
    "# добавим столбец с результатом работы функции total_income_category_group\n",
    "\n",
    "display(df['total_income_category'].value_counts())# вывод на экран количество значений категории"
   ]
  },
  {
   "cell_type": "markdown",
   "id": "14c8916a",
   "metadata": {},
   "source": [
    "Категоризация дохода позволила выяснить, что большинство кредитов берут заёмщики с доходом от 50001 до 200000, с доходом до 30000 практически не пользуются кредитованием."
   ]
  },
  {
   "cell_type": "markdown",
   "id": "1e3e4810",
   "metadata": {},
   "source": [
    "### Шаг 2.7. Категоризация целей кредита."
   ]
  },
  {
   "cell_type": "code",
   "execution_count": 22,
   "id": "99ff1f02",
   "metadata": {},
   "outputs": [
    {
     "data": {
      "text/plain": [
       "операции с недвижимостью    10814\n",
       "операции с автомобилем       4308\n",
       "получение образования        4014\n",
       "проведение свадьбы           2335\n",
       "Name: purpose_category, dtype: int64"
      ]
     },
     "metadata": {},
     "output_type": "display_data"
    }
   ],
   "source": [
    "# функцию, которая на основании данных из столбца purpose сформирует новый столбец purpose_category\n",
    "def purpose_category(value): \n",
    "    if 'авто' in value:\n",
    "        return 'операции с автомобилем'\n",
    "    if 'обр' in value:\n",
    "        return 'получение образования'\n",
    "    if 'свадьб' in value:\n",
    "        return 'проведение свадьбы'\n",
    "    return 'операции с недвижимостью'\n",
    "\n",
    "df['purpose_category'] = df['purpose'].apply(purpose_category)\n",
    "# добавим столбец с результатом работы функции purpose_category\n",
    "\n",
    "display(df['purpose_category'].value_counts())# вывод на экран количество значений категории"
   ]
  },
  {
   "cell_type": "markdown",
   "id": "074732f5",
   "metadata": {},
   "source": [
    "Чаще всего причина взятия кредита - недвижимость."
   ]
  },
  {
   "cell_type": "markdown",
   "id": "b00c319c",
   "metadata": {},
   "source": [
    "## Ответы на вопросы."
   ]
  },
  {
   "cell_type": "markdown",
   "id": "e89a996f",
   "metadata": {},
   "source": [
    "### Вопрос 1:"
   ]
  },
  {
   "cell_type": "markdown",
   "id": "8b24cd5c",
   "metadata": {},
   "source": [
    "Есть ли зависимость между количеством детей и возвратом кредита в срок?"
   ]
  },
  {
   "cell_type": "code",
   "execution_count": 23,
   "id": "cf2403bd",
   "metadata": {},
   "outputs": [
    {
     "data": {
      "text/html": [
       "<div>\n",
       "<style scoped>\n",
       "    .dataframe tbody tr th:only-of-type {\n",
       "        vertical-align: middle;\n",
       "    }\n",
       "\n",
       "    .dataframe tbody tr th {\n",
       "        vertical-align: top;\n",
       "    }\n",
       "\n",
       "    .dataframe thead th {\n",
       "        text-align: right;\n",
       "    }\n",
       "</style>\n",
       "<table border=\"1\" class=\"dataframe\">\n",
       "  <thead>\n",
       "    <tr style=\"text-align: right;\">\n",
       "      <th></th>\n",
       "      <th>debt</th>\n",
       "    </tr>\n",
       "    <tr>\n",
       "      <th>children</th>\n",
       "      <th></th>\n",
       "    </tr>\n",
       "  </thead>\n",
       "  <tbody>\n",
       "    <tr>\n",
       "      <td>0</td>\n",
       "      <td>0.075353</td>\n",
       "    </tr>\n",
       "    <tr>\n",
       "      <td>1</td>\n",
       "      <td>0.091639</td>\n",
       "    </tr>\n",
       "    <tr>\n",
       "      <td>2</td>\n",
       "      <td>0.094925</td>\n",
       "    </tr>\n",
       "    <tr>\n",
       "      <td>3</td>\n",
       "      <td>0.081818</td>\n",
       "    </tr>\n",
       "    <tr>\n",
       "      <td>4</td>\n",
       "      <td>0.097561</td>\n",
       "    </tr>\n",
       "    <tr>\n",
       "      <td>5</td>\n",
       "      <td>0.000000</td>\n",
       "    </tr>\n",
       "  </tbody>\n",
       "</table>\n",
       "</div>"
      ],
      "text/plain": [
       "              debt\n",
       "children          \n",
       "0         0.075353\n",
       "1         0.091639\n",
       "2         0.094925\n",
       "3         0.081818\n",
       "4         0.097561\n",
       "5         0.000000"
      ]
     },
     "execution_count": 23,
     "metadata": {},
     "output_type": "execute_result"
    }
   ],
   "source": [
    "df.pivot_table(index=['children'], values='debt', aggfunc='mean')# зависимость между количеством детей и возвратом кредита в срок"
   ]
  },
  {
   "cell_type": "markdown",
   "id": "b3761b57",
   "metadata": {},
   "source": [
    "#### Вывод 1:"
   ]
  },
  {
   "cell_type": "markdown",
   "id": "77b85987",
   "metadata": {},
   "source": [
    "По количеству детей: заемщики без детей допускают меньше всех просрочек, кроме тех, у кого детей пятеро - эта категория не допускает просрочек вовсе."
   ]
  },
  {
   "cell_type": "code",
   "execution_count": 24,
   "id": "9346816b",
   "metadata": {},
   "outputs": [
    {
     "data": {
      "text/html": [
       "<div>\n",
       "<style scoped>\n",
       "    .dataframe tbody tr th:only-of-type {\n",
       "        vertical-align: middle;\n",
       "    }\n",
       "\n",
       "    .dataframe tbody tr th {\n",
       "        vertical-align: top;\n",
       "    }\n",
       "\n",
       "    .dataframe thead th {\n",
       "        text-align: right;\n",
       "    }\n",
       "</style>\n",
       "<table border=\"1\" class=\"dataframe\">\n",
       "  <thead>\n",
       "    <tr style=\"text-align: right;\">\n",
       "      <th></th>\n",
       "      <th>count</th>\n",
       "      <th>sum</th>\n",
       "      <th>mean</th>\n",
       "    </tr>\n",
       "    <tr>\n",
       "      <th>children</th>\n",
       "      <th></th>\n",
       "      <th></th>\n",
       "      <th></th>\n",
       "    </tr>\n",
       "  </thead>\n",
       "  <tbody>\n",
       "    <tr>\n",
       "      <td>0</td>\n",
       "      <td>14107</td>\n",
       "      <td>1063</td>\n",
       "      <td>0.075353</td>\n",
       "    </tr>\n",
       "    <tr>\n",
       "      <td>1</td>\n",
       "      <td>4856</td>\n",
       "      <td>445</td>\n",
       "      <td>0.091639</td>\n",
       "    </tr>\n",
       "    <tr>\n",
       "      <td>2</td>\n",
       "      <td>2128</td>\n",
       "      <td>202</td>\n",
       "      <td>0.094925</td>\n",
       "    </tr>\n",
       "    <tr>\n",
       "      <td>3</td>\n",
       "      <td>330</td>\n",
       "      <td>27</td>\n",
       "      <td>0.081818</td>\n",
       "    </tr>\n",
       "    <tr>\n",
       "      <td>4</td>\n",
       "      <td>41</td>\n",
       "      <td>4</td>\n",
       "      <td>0.097561</td>\n",
       "    </tr>\n",
       "    <tr>\n",
       "      <td>5</td>\n",
       "      <td>9</td>\n",
       "      <td>0</td>\n",
       "      <td>0.000000</td>\n",
       "    </tr>\n",
       "  </tbody>\n",
       "</table>\n",
       "</div>"
      ],
      "text/plain": [
       "          count   sum      mean\n",
       "children                       \n",
       "0         14107  1063  0.075353\n",
       "1          4856   445  0.091639\n",
       "2          2128   202  0.094925\n",
       "3           330    27  0.081818\n",
       "4            41     4  0.097561\n",
       "5             9     0  0.000000"
      ]
     },
     "execution_count": 24,
     "metadata": {},
     "output_type": "execute_result"
    }
   ],
   "source": [
    "# КОД РЕВЬЮЕРА\n",
    "\n",
    "df.groupby('children')['debt'].agg(['count','sum','mean'])"
   ]
  },
  {
   "cell_type": "code",
   "execution_count": 25,
   "id": "d1ecd2a2",
   "metadata": {},
   "outputs": [
    {
     "data": {
      "text/html": [
       "<div>\n",
       "<style scoped>\n",
       "    .dataframe tbody tr th:only-of-type {\n",
       "        vertical-align: middle;\n",
       "    }\n",
       "\n",
       "    .dataframe tbody tr th {\n",
       "        vertical-align: top;\n",
       "    }\n",
       "\n",
       "    .dataframe thead th {\n",
       "        text-align: right;\n",
       "    }\n",
       "</style>\n",
       "<table border=\"1\" class=\"dataframe\">\n",
       "  <thead>\n",
       "    <tr style=\"text-align: right;\">\n",
       "      <th></th>\n",
       "      <th>count</th>\n",
       "      <th>sum</th>\n",
       "      <th>my_mean</th>\n",
       "    </tr>\n",
       "    <tr>\n",
       "      <th>children</th>\n",
       "      <th></th>\n",
       "      <th></th>\n",
       "      <th></th>\n",
       "    </tr>\n",
       "  </thead>\n",
       "  <tbody>\n",
       "    <tr>\n",
       "      <td>0</td>\n",
       "      <td>14107</td>\n",
       "      <td>1063</td>\n",
       "      <td>7.535266</td>\n",
       "    </tr>\n",
       "    <tr>\n",
       "      <td>1</td>\n",
       "      <td>4856</td>\n",
       "      <td>445</td>\n",
       "      <td>9.163921</td>\n",
       "    </tr>\n",
       "    <tr>\n",
       "      <td>2</td>\n",
       "      <td>2128</td>\n",
       "      <td>202</td>\n",
       "      <td>9.492481</td>\n",
       "    </tr>\n",
       "    <tr>\n",
       "      <td>3</td>\n",
       "      <td>330</td>\n",
       "      <td>27</td>\n",
       "      <td>8.181818</td>\n",
       "    </tr>\n",
       "    <tr>\n",
       "      <td>4</td>\n",
       "      <td>41</td>\n",
       "      <td>4</td>\n",
       "      <td>9.756098</td>\n",
       "    </tr>\n",
       "    <tr>\n",
       "      <td>5</td>\n",
       "      <td>9</td>\n",
       "      <td>0</td>\n",
       "      <td>0.000000</td>\n",
       "    </tr>\n",
       "  </tbody>\n",
       "</table>\n",
       "</div>"
      ],
      "text/plain": [
       "          count   sum   my_mean\n",
       "children                       \n",
       "0         14107  1063  7.535266\n",
       "1          4856   445  9.163921\n",
       "2          2128   202  9.492481\n",
       "3           330    27  8.181818\n",
       "4            41     4  9.756098\n",
       "5             9     0  0.000000"
      ]
     },
     "execution_count": 25,
     "metadata": {},
     "output_type": "execute_result"
    }
   ],
   "source": [
    "# КОД РЕВЬЮЕРА\n",
    "\n",
    "def my_mean(x): return x.mean()*100\n",
    "\n",
    "# В кач-ве агрегирования можно любую функцию брать.\n",
    "df.groupby('children')['debt'].agg(['count', 'sum', my_mean])"
   ]
  },
  {
   "cell_type": "code",
   "execution_count": 26,
   "id": "f6c96aa7",
   "metadata": {},
   "outputs": [
    {
     "data": {
      "text/html": [
       "<div>\n",
       "<style scoped>\n",
       "    .dataframe tbody tr th:only-of-type {\n",
       "        vertical-align: middle;\n",
       "    }\n",
       "\n",
       "    .dataframe tbody tr th {\n",
       "        vertical-align: top;\n",
       "    }\n",
       "\n",
       "    .dataframe thead th {\n",
       "        text-align: right;\n",
       "    }\n",
       "</style>\n",
       "<table border=\"1\" class=\"dataframe\">\n",
       "  <thead>\n",
       "    <tr style=\"text-align: right;\">\n",
       "      <th></th>\n",
       "      <th>count</th>\n",
       "      <th>sum</th>\n",
       "      <th>my_mean</th>\n",
       "    </tr>\n",
       "    <tr>\n",
       "      <th>children</th>\n",
       "      <th></th>\n",
       "      <th></th>\n",
       "      <th></th>\n",
       "    </tr>\n",
       "  </thead>\n",
       "  <tbody>\n",
       "    <tr>\n",
       "      <td>0</td>\n",
       "      <td>14107</td>\n",
       "      <td>1063</td>\n",
       "      <td>7.54%</td>\n",
       "    </tr>\n",
       "    <tr>\n",
       "      <td>1</td>\n",
       "      <td>4856</td>\n",
       "      <td>445</td>\n",
       "      <td>9.16%</td>\n",
       "    </tr>\n",
       "    <tr>\n",
       "      <td>2</td>\n",
       "      <td>2128</td>\n",
       "      <td>202</td>\n",
       "      <td>9.49%</td>\n",
       "    </tr>\n",
       "    <tr>\n",
       "      <td>3</td>\n",
       "      <td>330</td>\n",
       "      <td>27</td>\n",
       "      <td>8.18%</td>\n",
       "    </tr>\n",
       "    <tr>\n",
       "      <td>4</td>\n",
       "      <td>41</td>\n",
       "      <td>4</td>\n",
       "      <td>9.76%</td>\n",
       "    </tr>\n",
       "    <tr>\n",
       "      <td>5</td>\n",
       "      <td>9</td>\n",
       "      <td>0</td>\n",
       "      <td>0.00%</td>\n",
       "    </tr>\n",
       "  </tbody>\n",
       "</table>\n",
       "</div>"
      ],
      "text/plain": [
       "          count   sum my_mean\n",
       "children                     \n",
       "0         14107  1063  7.54% \n",
       "1          4856   445  9.16% \n",
       "2          2128   202  9.49% \n",
       "3           330    27  8.18% \n",
       "4            41     4  9.76% \n",
       "5             9     0  0.00% "
      ]
     },
     "execution_count": 26,
     "metadata": {},
     "output_type": "execute_result"
    }
   ],
   "source": [
    "# КОД РЕВЬЮЕРА\n",
    "\n",
    "def my_mean(x): return '{:.2%} '.format(x.mean())\n",
    "\n",
    "df.groupby('children')['debt'].agg(['count', 'sum', my_mean])"
   ]
  },
  {
   "cell_type": "markdown",
   "id": "24c91db6",
   "metadata": {},
   "source": [
    "### Вопрос 2:"
   ]
  },
  {
   "cell_type": "markdown",
   "id": "94b8e9cc",
   "metadata": {},
   "source": [
    "Есть ли зависимость между семейным положением и возвратом кредита в срок?"
   ]
  },
  {
   "cell_type": "code",
   "execution_count": 27,
   "id": "71dfddf2",
   "metadata": {},
   "outputs": [
    {
     "data": {
      "text/html": [
       "<div>\n",
       "<style scoped>\n",
       "    .dataframe tbody tr th:only-of-type {\n",
       "        vertical-align: middle;\n",
       "    }\n",
       "\n",
       "    .dataframe tbody tr th {\n",
       "        vertical-align: top;\n",
       "    }\n",
       "\n",
       "    .dataframe thead th {\n",
       "        text-align: right;\n",
       "    }\n",
       "</style>\n",
       "<table border=\"1\" class=\"dataframe\">\n",
       "  <thead>\n",
       "    <tr style=\"text-align: right;\">\n",
       "      <th></th>\n",
       "      <th>family_status_id</th>\n",
       "      <th>debt</th>\n",
       "      <th>family_status</th>\n",
       "    </tr>\n",
       "  </thead>\n",
       "  <tbody>\n",
       "    <tr>\n",
       "      <td>0</td>\n",
       "      <td>0</td>\n",
       "      <td>0.075421</td>\n",
       "      <td>женат / замужем</td>\n",
       "    </tr>\n",
       "    <tr>\n",
       "      <td>1</td>\n",
       "      <td>1</td>\n",
       "      <td>0.093202</td>\n",
       "      <td>гражданский брак</td>\n",
       "    </tr>\n",
       "    <tr>\n",
       "      <td>2</td>\n",
       "      <td>2</td>\n",
       "      <td>0.065693</td>\n",
       "      <td>вдовец / вдова</td>\n",
       "    </tr>\n",
       "    <tr>\n",
       "      <td>3</td>\n",
       "      <td>3</td>\n",
       "      <td>0.071130</td>\n",
       "      <td>в разводе</td>\n",
       "    </tr>\n",
       "    <tr>\n",
       "      <td>4</td>\n",
       "      <td>4</td>\n",
       "      <td>0.097509</td>\n",
       "      <td>Не женат / не замужем</td>\n",
       "    </tr>\n",
       "  </tbody>\n",
       "</table>\n",
       "</div>"
      ],
      "text/plain": [
       "   family_status_id      debt          family_status\n",
       "0                 0  0.075421        женат / замужем\n",
       "1                 1  0.093202       гражданский брак\n",
       "2                 2  0.065693         вдовец / вдова\n",
       "3                 3  0.071130              в разводе\n",
       "4                 4  0.097509  Не женат / не замужем"
      ]
     },
     "metadata": {},
     "output_type": "display_data"
    }
   ],
   "source": [
    "df1 = df.pivot_table(index=['family_status_id'], values='debt', aggfunc='mean')\n",
    "# зависимость между семейным положение и возвратом кредита в срок\n",
    "display(df1.merge(df_dict_family_status, on='family_status_id', how='left'))\n",
    "# вывод таблицы с добавленными для наглядности статусами"
   ]
  },
  {
   "cell_type": "markdown",
   "id": "1b3984af",
   "metadata": {},
   "source": [
    "#### Вывод 2:"
   ]
  },
  {
   "cell_type": "markdown",
   "id": "d40795cb",
   "metadata": {},
   "source": [
    "По семейному положению: заемщики не состоящие в браке или живущие в гражданском браке чаще допускают просрочки, чем остальные категории."
   ]
  },
  {
   "cell_type": "markdown",
   "id": "ce222b6d",
   "metadata": {},
   "source": [
    "### Вопрос 3:"
   ]
  },
  {
   "cell_type": "markdown",
   "id": "32a915ba",
   "metadata": {},
   "source": [
    "Есть ли зависимость между уровнем дохода и возвратом кредита в срок?"
   ]
  },
  {
   "cell_type": "code",
   "execution_count": 28,
   "id": "589f0469",
   "metadata": {},
   "outputs": [
    {
     "data": {
      "text/html": [
       "<div>\n",
       "<style scoped>\n",
       "    .dataframe tbody tr th:only-of-type {\n",
       "        vertical-align: middle;\n",
       "    }\n",
       "\n",
       "    .dataframe tbody tr th {\n",
       "        vertical-align: top;\n",
       "    }\n",
       "\n",
       "    .dataframe thead th {\n",
       "        text-align: right;\n",
       "    }\n",
       "</style>\n",
       "<table border=\"1\" class=\"dataframe\">\n",
       "  <thead>\n",
       "    <tr style=\"text-align: right;\">\n",
       "      <th></th>\n",
       "      <th>debt</th>\n",
       "    </tr>\n",
       "    <tr>\n",
       "      <th>total_income_category</th>\n",
       "      <th></th>\n",
       "    </tr>\n",
       "  </thead>\n",
       "  <tbody>\n",
       "    <tr>\n",
       "      <td>A</td>\n",
       "      <td>0.080000</td>\n",
       "    </tr>\n",
       "    <tr>\n",
       "      <td>B</td>\n",
       "      <td>0.070607</td>\n",
       "    </tr>\n",
       "    <tr>\n",
       "      <td>C</td>\n",
       "      <td>0.084830</td>\n",
       "    </tr>\n",
       "    <tr>\n",
       "      <td>D</td>\n",
       "      <td>0.060000</td>\n",
       "    </tr>\n",
       "    <tr>\n",
       "      <td>E</td>\n",
       "      <td>0.090909</td>\n",
       "    </tr>\n",
       "  </tbody>\n",
       "</table>\n",
       "</div>"
      ],
      "text/plain": [
       "                           debt\n",
       "total_income_category          \n",
       "A                      0.080000\n",
       "B                      0.070607\n",
       "C                      0.084830\n",
       "D                      0.060000\n",
       "E                      0.090909"
      ]
     },
     "execution_count": 28,
     "metadata": {},
     "output_type": "execute_result"
    }
   ],
   "source": [
    "df.pivot_table(index=['total_income_category'], values='debt', aggfunc='mean')# зависимость между уровнем дохода и возвратом кредита в срок\n",
    "    # до 30 000 - категория E\n",
    "    # от 30 001 до 50 000 - категория D\n",
    "    # от 50 001 до 200 000 - категория C\n",
    "    # от 200 001 до 1 000 000 - категория B\n",
    "    # от 1 000 001 - категория A"
   ]
  },
  {
   "cell_type": "markdown",
   "id": "12179778",
   "metadata": {},
   "source": [
    "#### Вывод 3:"
   ]
  },
  {
   "cell_type": "markdown",
   "id": "1ba54758",
   "metadata": {},
   "source": [
    "По уровню дохода: низкий доход (до 30000) влияет в худшую сторону на возврат кредита в срок, но к примеру заемщики с доходом от 30000 до 50000 самые дисциплинированные."
   ]
  },
  {
   "cell_type": "markdown",
   "id": "76b68a30",
   "metadata": {},
   "source": [
    "### Вопрос 4:"
   ]
  },
  {
   "cell_type": "markdown",
   "id": "789a676d",
   "metadata": {},
   "source": [
    "Как разные цели кредита влияют на его возврат в срок?"
   ]
  },
  {
   "cell_type": "code",
   "execution_count": 29,
   "id": "c51bfd42",
   "metadata": {},
   "outputs": [
    {
     "data": {
      "text/html": [
       "<div>\n",
       "<style scoped>\n",
       "    .dataframe tbody tr th:only-of-type {\n",
       "        vertical-align: middle;\n",
       "    }\n",
       "\n",
       "    .dataframe tbody tr th {\n",
       "        vertical-align: top;\n",
       "    }\n",
       "\n",
       "    .dataframe thead th {\n",
       "        text-align: right;\n",
       "    }\n",
       "</style>\n",
       "<table border=\"1\" class=\"dataframe\">\n",
       "  <thead>\n",
       "    <tr style=\"text-align: right;\">\n",
       "      <th></th>\n",
       "      <th>debt</th>\n",
       "    </tr>\n",
       "    <tr>\n",
       "      <th>purpose_category</th>\n",
       "      <th></th>\n",
       "    </tr>\n",
       "  </thead>\n",
       "  <tbody>\n",
       "    <tr>\n",
       "      <td>операции с автомобилем</td>\n",
       "      <td>0.093547</td>\n",
       "    </tr>\n",
       "    <tr>\n",
       "      <td>операции с недвижимостью</td>\n",
       "      <td>0.072314</td>\n",
       "    </tr>\n",
       "    <tr>\n",
       "      <td>получение образования</td>\n",
       "      <td>0.092177</td>\n",
       "    </tr>\n",
       "    <tr>\n",
       "      <td>проведение свадьбы</td>\n",
       "      <td>0.079657</td>\n",
       "    </tr>\n",
       "  </tbody>\n",
       "</table>\n",
       "</div>"
      ],
      "text/plain": [
       "                              debt\n",
       "purpose_category                  \n",
       "операции с автомобилем    0.093547\n",
       "операции с недвижимостью  0.072314\n",
       "получение образования     0.092177\n",
       "проведение свадьбы        0.079657"
      ]
     },
     "execution_count": 29,
     "metadata": {},
     "output_type": "execute_result"
    }
   ],
   "source": [
    "df.pivot_table(index=['purpose_category'], values='debt', aggfunc='mean')# зависимость между целями кредита и возвратом кредита в срок "
   ]
  },
  {
   "cell_type": "markdown",
   "id": "b9c1ac32",
   "metadata": {},
   "source": [
    "#### Вывод 4:"
   ]
  },
  {
   "cell_type": "markdown",
   "id": "803683bc",
   "metadata": {},
   "source": [
    "По целям кредита: чаще просрочки допускают по кредитам на автомобиль и получение образования."
   ]
  },
  {
   "cell_type": "markdown",
   "id": "0659c53a",
   "metadata": {},
   "source": [
    "## Общий вывод:"
   ]
  },
  {
   "cell_type": "markdown",
   "id": "1021634b",
   "metadata": {},
   "source": [
    "Проанализировав полученные данные в ходе проекта, мы можем предоставить результаты для кредитного отдела банка. \n",
    "Задачей было выяснить, как влияниют цели кредита, семейное положение, уровень и количество детей на погашение кредитам в срок.\n",
    "1) Меньше всего просрочек допускают заемщики без детей 7,5%, заемщики с одним и более ребенком допускаю просрочки от 8,18% до 9,76%, заемщики с 5 детьми не допускают просрочек.\n",
    "\n",
    "2) Меньше всего просрочек допускают заемщики в статусе вдовец / вдова - 6,6%, далее те кто находятся в разводе - 7,1%, следующие по просрочка стоят заемщике в браке - 7,5%, больше всего просрочек допускают заемщике не состоящие в браке или состоящие в гражданском браке 9,6% и 9,3% соответственно.\n",
    "\n",
    "3) Процент просрочки по уровням дохода следующий:\n",
    "    до 30 000 - 9,1%\n",
    "    от 30 001 до 50 000 - 6%\n",
    "    от 50 001 до 200 000 - 8,5% \n",
    "    от 200 001 до 1 000 000 - 7,1%\n",
    "    от 1 000 001 - 8%\n",
    "    \n",
    "4) Меньше всего просрочек допускают заемщики берущие кредит на операции с недвижимостью - 7,2%, заемщики берущие заем на проведение свадеб - 8%, заем на образование - 9,2%, заем на автомобиль 9,4%.     \n"
   ]
  }
 ],
 "metadata": {
  "ExecuteTimeLog": [
   {
    "duration": 148,
    "start_time": "2022-02-02T14:16:28.596Z"
   },
   {
    "duration": 1271,
    "start_time": "2022-02-02T14:16:34.450Z"
   },
   {
    "duration": 67,
    "start_time": "2022-02-02T14:17:04.425Z"
   },
   {
    "duration": 733,
    "start_time": "2022-02-02T14:17:49.682Z"
   },
   {
    "duration": 85,
    "start_time": "2022-02-02T14:19:04.804Z"
   },
   {
    "duration": 277,
    "start_time": "2022-02-02T14:19:23.874Z"
   },
   {
    "duration": 100,
    "start_time": "2022-02-02T14:19:39.954Z"
   },
   {
    "duration": 91,
    "start_time": "2022-02-02T14:31:49.672Z"
   },
   {
    "duration": 16,
    "start_time": "2022-02-02T14:31:53.169Z"
   },
   {
    "duration": 549,
    "start_time": "2022-02-02T18:08:33.264Z"
   },
   {
    "duration": 1145,
    "start_time": "2022-02-02T18:08:43.192Z"
   },
   {
    "duration": 24,
    "start_time": "2022-02-02T18:08:47.268Z"
   },
   {
    "duration": 329,
    "start_time": "2022-02-02T18:08:50.228Z"
   },
   {
    "duration": 5,
    "start_time": "2022-02-02T18:09:21.457Z"
   },
   {
    "duration": 4,
    "start_time": "2022-02-02T18:09:25.865Z"
   },
   {
    "duration": 7,
    "start_time": "2022-02-02T18:09:42.678Z"
   },
   {
    "duration": 5,
    "start_time": "2022-02-02T18:10:30.115Z"
   },
   {
    "duration": 5,
    "start_time": "2022-02-02T18:10:34.686Z"
   },
   {
    "duration": 118,
    "start_time": "2022-02-02T18:10:43.282Z"
   },
   {
    "duration": 16,
    "start_time": "2022-02-02T18:10:43.404Z"
   },
   {
    "duration": 6,
    "start_time": "2022-02-02T18:10:43.424Z"
   },
   {
    "duration": 796,
    "start_time": "2022-02-02T18:10:58.801Z"
   },
   {
    "duration": 16,
    "start_time": "2022-02-02T18:10:59.600Z"
   },
   {
    "duration": 5,
    "start_time": "2022-02-02T18:10:59.619Z"
   },
   {
    "duration": 754,
    "start_time": "2022-02-02T18:12:01.597Z"
   },
   {
    "duration": 9,
    "start_time": "2022-02-02T18:12:17.956Z"
   },
   {
    "duration": 22,
    "start_time": "2022-02-02T18:13:52.623Z"
   },
   {
    "duration": 306,
    "start_time": "2022-02-02T18:15:41.761Z"
   },
   {
    "duration": 15,
    "start_time": "2022-02-02T18:15:54.413Z"
   },
   {
    "duration": 13,
    "start_time": "2022-02-02T18:16:45.775Z"
   },
   {
    "duration": 25,
    "start_time": "2022-02-02T18:17:01.408Z"
   },
   {
    "duration": 397,
    "start_time": "2022-02-03T07:56:30.857Z"
   },
   {
    "duration": 295,
    "start_time": "2022-02-03T07:56:41.873Z"
   },
   {
    "duration": 801,
    "start_time": "2022-02-03T07:57:04.142Z"
   },
   {
    "duration": 23,
    "start_time": "2022-02-03T07:57:04.946Z"
   },
   {
    "duration": 67,
    "start_time": "2022-02-03T07:57:04.972Z"
   },
   {
    "duration": 57,
    "start_time": "2022-02-03T07:57:40.292Z"
   },
   {
    "duration": 5,
    "start_time": "2022-02-03T08:24:45.171Z"
   },
   {
    "duration": 36,
    "start_time": "2022-02-03T08:24:57.263Z"
   },
   {
    "duration": 35,
    "start_time": "2022-02-03T08:26:19.272Z"
   },
   {
    "duration": 37,
    "start_time": "2022-02-03T08:26:41.514Z"
   },
   {
    "duration": 19,
    "start_time": "2022-02-03T08:30:03.072Z"
   },
   {
    "duration": 409,
    "start_time": "2022-02-03T08:30:15.799Z"
   },
   {
    "duration": 36,
    "start_time": "2022-02-03T08:30:20.623Z"
   },
   {
    "duration": 823,
    "start_time": "2022-02-03T09:58:17.532Z"
   },
   {
    "duration": 23,
    "start_time": "2022-02-03T09:58:18.358Z"
   },
   {
    "duration": 50,
    "start_time": "2022-02-03T09:58:18.385Z"
   },
   {
    "duration": 51,
    "start_time": "2022-02-03T09:58:18.438Z"
   },
   {
    "duration": 29,
    "start_time": "2022-02-03T09:58:18.493Z"
   },
   {
    "duration": 34,
    "start_time": "2022-02-03T09:58:41.501Z"
   },
   {
    "duration": 23,
    "start_time": "2022-02-03T10:08:45.122Z"
   },
   {
    "duration": 41,
    "start_time": "2022-02-03T10:09:13.248Z"
   },
   {
    "duration": 23,
    "start_time": "2022-02-03T10:10:14.695Z"
   },
   {
    "duration": 27,
    "start_time": "2022-02-03T10:10:16.816Z"
   },
   {
    "duration": 23,
    "start_time": "2022-02-03T10:10:18.725Z"
   },
   {
    "duration": 847,
    "start_time": "2022-02-03T10:10:28.817Z"
   },
   {
    "duration": 23,
    "start_time": "2022-02-03T10:10:29.666Z"
   },
   {
    "duration": 47,
    "start_time": "2022-02-03T10:10:29.695Z"
   },
   {
    "duration": 4,
    "start_time": "2022-02-03T10:10:29.745Z"
   },
   {
    "duration": 7,
    "start_time": "2022-02-03T10:10:29.752Z"
   },
   {
    "duration": 25,
    "start_time": "2022-02-03T10:10:29.761Z"
   },
   {
    "duration": 28,
    "start_time": "2022-02-03T10:10:29.825Z"
   },
   {
    "duration": 24,
    "start_time": "2022-02-03T10:10:29.856Z"
   },
   {
    "duration": 22,
    "start_time": "2022-02-03T10:11:11.352Z"
   },
   {
    "duration": 1049,
    "start_time": "2022-02-03T10:11:19.539Z"
   },
   {
    "duration": 33,
    "start_time": "2022-02-03T10:11:20.591Z"
   },
   {
    "duration": 24,
    "start_time": "2022-02-03T10:11:20.628Z"
   },
   {
    "duration": 4,
    "start_time": "2022-02-03T10:11:20.656Z"
   },
   {
    "duration": 7,
    "start_time": "2022-02-03T10:11:20.663Z"
   },
   {
    "duration": 68,
    "start_time": "2022-02-03T10:11:20.673Z"
   },
   {
    "duration": 45,
    "start_time": "2022-02-03T10:11:20.744Z"
   },
   {
    "duration": 22,
    "start_time": "2022-02-03T12:08:43.109Z"
   },
   {
    "duration": 20,
    "start_time": "2022-02-03T12:14:54.745Z"
   },
   {
    "duration": 21,
    "start_time": "2022-02-03T12:15:24.801Z"
   },
   {
    "duration": 14,
    "start_time": "2022-02-03T12:15:38.704Z"
   },
   {
    "duration": 31,
    "start_time": "2022-02-03T12:15:41.655Z"
   },
   {
    "duration": 32,
    "start_time": "2022-02-03T12:16:05.744Z"
   },
   {
    "duration": 21,
    "start_time": "2022-02-03T12:16:40.564Z"
   },
   {
    "duration": 39,
    "start_time": "2022-02-03T12:19:27.449Z"
   },
   {
    "duration": 56,
    "start_time": "2022-02-03T12:20:05.785Z"
   },
   {
    "duration": 51,
    "start_time": "2022-02-03T12:24:13.107Z"
   },
   {
    "duration": 951,
    "start_time": "2022-02-03T14:07:28.030Z"
   },
   {
    "duration": 97,
    "start_time": "2022-02-03T14:07:28.984Z"
   },
   {
    "duration": 3728,
    "start_time": "2022-02-03T14:07:25.357Z"
   },
   {
    "duration": 3724,
    "start_time": "2022-02-03T14:07:25.362Z"
   },
   {
    "duration": 3721,
    "start_time": "2022-02-03T14:07:25.366Z"
   },
   {
    "duration": 3719,
    "start_time": "2022-02-03T14:07:25.370Z"
   },
   {
    "duration": 3717,
    "start_time": "2022-02-03T14:07:25.373Z"
   },
   {
    "duration": 3710,
    "start_time": "2022-02-03T14:07:25.382Z"
   },
   {
    "duration": 3708,
    "start_time": "2022-02-03T14:07:25.385Z"
   },
   {
    "duration": 3707,
    "start_time": "2022-02-03T14:07:25.388Z"
   },
   {
    "duration": 3707,
    "start_time": "2022-02-03T14:07:25.390Z"
   },
   {
    "duration": 3705,
    "start_time": "2022-02-03T14:07:25.394Z"
   },
   {
    "duration": 3704,
    "start_time": "2022-02-03T14:07:25.396Z"
   },
   {
    "duration": 25,
    "start_time": "2022-02-03T14:08:22.235Z"
   },
   {
    "duration": 30,
    "start_time": "2022-02-03T14:10:45.175Z"
   },
   {
    "duration": 858,
    "start_time": "2022-02-03T14:10:56.027Z"
   },
   {
    "duration": 121,
    "start_time": "2022-02-03T14:10:56.888Z"
   },
   {
    "duration": 3730,
    "start_time": "2022-02-03T14:10:53.282Z"
   },
   {
    "duration": 3722,
    "start_time": "2022-02-03T14:10:53.291Z"
   },
   {
    "duration": 3721,
    "start_time": "2022-02-03T14:10:53.294Z"
   },
   {
    "duration": 3720,
    "start_time": "2022-02-03T14:10:53.296Z"
   },
   {
    "duration": 3717,
    "start_time": "2022-02-03T14:10:53.300Z"
   },
   {
    "duration": 3717,
    "start_time": "2022-02-03T14:10:53.302Z"
   },
   {
    "duration": 3716,
    "start_time": "2022-02-03T14:10:53.304Z"
   },
   {
    "duration": 3715,
    "start_time": "2022-02-03T14:10:53.307Z"
   },
   {
    "duration": 3714,
    "start_time": "2022-02-03T14:10:53.309Z"
   },
   {
    "duration": 3710,
    "start_time": "2022-02-03T14:10:53.315Z"
   },
   {
    "duration": 3708,
    "start_time": "2022-02-03T14:10:53.318Z"
   },
   {
    "duration": 1587,
    "start_time": "2022-02-03T14:11:08.085Z"
   },
   {
    "duration": 165,
    "start_time": "2022-02-03T14:11:09.675Z"
   },
   {
    "duration": 3704,
    "start_time": "2022-02-03T14:11:06.139Z"
   },
   {
    "duration": 3700,
    "start_time": "2022-02-03T14:11:06.145Z"
   },
   {
    "duration": 3697,
    "start_time": "2022-02-03T14:11:06.149Z"
   },
   {
    "duration": 3695,
    "start_time": "2022-02-03T14:11:06.153Z"
   },
   {
    "duration": 3695,
    "start_time": "2022-02-03T14:11:06.156Z"
   },
   {
    "duration": 3693,
    "start_time": "2022-02-03T14:11:06.159Z"
   },
   {
    "duration": 3691,
    "start_time": "2022-02-03T14:11:06.163Z"
   },
   {
    "duration": 3690,
    "start_time": "2022-02-03T14:11:06.166Z"
   },
   {
    "duration": 3689,
    "start_time": "2022-02-03T14:11:06.168Z"
   },
   {
    "duration": 3689,
    "start_time": "2022-02-03T14:11:06.170Z"
   },
   {
    "duration": 3687,
    "start_time": "2022-02-03T14:11:06.173Z"
   },
   {
    "duration": 814,
    "start_time": "2022-02-03T14:11:38.934Z"
   },
   {
    "duration": 24,
    "start_time": "2022-02-03T14:11:39.755Z"
   },
   {
    "duration": 45,
    "start_time": "2022-02-03T14:11:39.783Z"
   },
   {
    "duration": 4,
    "start_time": "2022-02-03T14:11:39.831Z"
   },
   {
    "duration": 7,
    "start_time": "2022-02-03T14:11:39.837Z"
   },
   {
    "duration": 28,
    "start_time": "2022-02-03T14:11:39.846Z"
   },
   {
    "duration": 71,
    "start_time": "2022-02-03T14:11:39.876Z"
   },
   {
    "duration": 21,
    "start_time": "2022-02-03T14:11:39.950Z"
   },
   {
    "duration": 16,
    "start_time": "2022-02-03T14:11:39.973Z"
   },
   {
    "duration": 57,
    "start_time": "2022-02-03T14:11:39.991Z"
   },
   {
    "duration": 36,
    "start_time": "2022-02-03T14:11:40.050Z"
   },
   {
    "duration": 48,
    "start_time": "2022-02-03T14:11:40.088Z"
   },
   {
    "duration": 57,
    "start_time": "2022-02-03T14:42:47.858Z"
   },
   {
    "duration": 29,
    "start_time": "2022-02-03T14:43:09.030Z"
   },
   {
    "duration": 32,
    "start_time": "2022-02-03T14:47:39.503Z"
   },
   {
    "duration": 418,
    "start_time": "2022-02-03T14:47:49.062Z"
   },
   {
    "duration": 527,
    "start_time": "2022-02-03T14:48:18.215Z"
   },
   {
    "duration": 336,
    "start_time": "2022-02-03T14:48:30.911Z"
   },
   {
    "duration": 841,
    "start_time": "2022-02-03T14:48:49.205Z"
   },
   {
    "duration": 25,
    "start_time": "2022-02-03T14:48:50.049Z"
   },
   {
    "duration": 46,
    "start_time": "2022-02-03T14:48:50.079Z"
   },
   {
    "duration": 4,
    "start_time": "2022-02-03T14:48:50.128Z"
   },
   {
    "duration": 7,
    "start_time": "2022-02-03T14:48:50.135Z"
   },
   {
    "duration": 27,
    "start_time": "2022-02-03T14:48:50.144Z"
   },
   {
    "duration": 71,
    "start_time": "2022-02-03T14:48:50.173Z"
   },
   {
    "duration": 22,
    "start_time": "2022-02-03T14:48:50.247Z"
   },
   {
    "duration": 16,
    "start_time": "2022-02-03T14:48:50.272Z"
   },
   {
    "duration": 52,
    "start_time": "2022-02-03T14:48:50.291Z"
   },
   {
    "duration": 38,
    "start_time": "2022-02-03T14:48:50.346Z"
   },
   {
    "duration": 453,
    "start_time": "2022-02-03T14:48:50.387Z"
   },
   {
    "duration": 833,
    "start_time": "2022-02-03T14:49:06.384Z"
   },
   {
    "duration": 23,
    "start_time": "2022-02-03T14:49:07.220Z"
   },
   {
    "duration": 17,
    "start_time": "2022-02-03T14:49:07.246Z"
   },
   {
    "duration": 4,
    "start_time": "2022-02-03T14:49:07.265Z"
   },
   {
    "duration": 6,
    "start_time": "2022-02-03T14:49:07.271Z"
   },
   {
    "duration": 59,
    "start_time": "2022-02-03T14:49:07.280Z"
   },
   {
    "duration": 45,
    "start_time": "2022-02-03T14:49:07.341Z"
   },
   {
    "duration": 40,
    "start_time": "2022-02-03T14:49:07.389Z"
   },
   {
    "duration": 16,
    "start_time": "2022-02-03T14:49:07.432Z"
   },
   {
    "duration": 32,
    "start_time": "2022-02-03T14:49:07.451Z"
   },
   {
    "duration": 64,
    "start_time": "2022-02-03T14:49:07.485Z"
   },
   {
    "duration": 76,
    "start_time": "2022-02-03T14:49:07.551Z"
   },
   {
    "duration": 671,
    "start_time": "2022-02-03T17:59:38.469Z"
   },
   {
    "duration": 16,
    "start_time": "2022-02-03T17:59:39.142Z"
   },
   {
    "duration": 13,
    "start_time": "2022-02-03T17:59:39.159Z"
   },
   {
    "duration": 2,
    "start_time": "2022-02-03T17:59:39.174Z"
   },
   {
    "duration": 5,
    "start_time": "2022-02-03T17:59:39.178Z"
   },
   {
    "duration": 16,
    "start_time": "2022-02-03T17:59:39.184Z"
   },
   {
    "duration": 29,
    "start_time": "2022-02-03T17:59:39.202Z"
   },
   {
    "duration": 40,
    "start_time": "2022-02-03T17:59:39.233Z"
   },
   {
    "duration": 11,
    "start_time": "2022-02-03T17:59:39.275Z"
   },
   {
    "duration": 29,
    "start_time": "2022-02-03T17:59:39.288Z"
   },
   {
    "duration": 29,
    "start_time": "2022-02-03T17:59:39.318Z"
   },
   {
    "duration": 54,
    "start_time": "2022-02-03T17:59:39.348Z"
   },
   {
    "duration": 830,
    "start_time": "2022-02-03T18:19:53.378Z"
   },
   {
    "duration": 10,
    "start_time": "2022-02-03T18:21:04.071Z"
   },
   {
    "duration": 24,
    "start_time": "2022-02-03T18:21:13.782Z"
   },
   {
    "duration": 633,
    "start_time": "2022-02-03T19:16:20.288Z"
   },
   {
    "duration": 15,
    "start_time": "2022-02-03T19:16:20.923Z"
   },
   {
    "duration": 12,
    "start_time": "2022-02-03T19:16:20.940Z"
   },
   {
    "duration": 3,
    "start_time": "2022-02-03T19:16:20.954Z"
   },
   {
    "duration": 3,
    "start_time": "2022-02-03T19:16:20.972Z"
   },
   {
    "duration": 17,
    "start_time": "2022-02-03T19:16:20.977Z"
   },
   {
    "duration": 28,
    "start_time": "2022-02-03T19:16:20.996Z"
   },
   {
    "duration": 17,
    "start_time": "2022-02-03T19:16:21.026Z"
   },
   {
    "duration": 10,
    "start_time": "2022-02-03T19:16:21.073Z"
   },
   {
    "duration": 25,
    "start_time": "2022-02-03T19:16:21.085Z"
   },
   {
    "duration": 40,
    "start_time": "2022-02-03T19:16:21.111Z"
   },
   {
    "duration": 49,
    "start_time": "2022-02-03T19:16:21.153Z"
   },
   {
    "duration": 22,
    "start_time": "2022-02-03T19:16:21.203Z"
   },
   {
    "duration": 7766,
    "start_time": "2022-02-03T19:29:39.887Z"
   },
   {
    "duration": 605,
    "start_time": "2022-02-03T19:29:55.815Z"
   },
   {
    "duration": 16,
    "start_time": "2022-02-03T19:29:56.421Z"
   },
   {
    "duration": 11,
    "start_time": "2022-02-03T19:29:56.438Z"
   },
   {
    "duration": 2,
    "start_time": "2022-02-03T19:29:56.451Z"
   },
   {
    "duration": 18,
    "start_time": "2022-02-03T19:29:56.455Z"
   },
   {
    "duration": 17,
    "start_time": "2022-02-03T19:29:56.474Z"
   },
   {
    "duration": 33,
    "start_time": "2022-02-03T19:29:56.493Z"
   },
   {
    "duration": 14,
    "start_time": "2022-02-03T19:29:56.527Z"
   },
   {
    "duration": 30,
    "start_time": "2022-02-03T19:29:56.543Z"
   },
   {
    "duration": 23,
    "start_time": "2022-02-03T19:29:56.575Z"
   },
   {
    "duration": 42,
    "start_time": "2022-02-03T19:29:56.599Z"
   },
   {
    "duration": 46,
    "start_time": "2022-02-03T19:29:56.642Z"
   },
   {
    "duration": 29,
    "start_time": "2022-02-03T19:29:56.689Z"
   },
   {
    "duration": 5,
    "start_time": "2022-02-03T19:32:28.801Z"
   },
   {
    "duration": 4,
    "start_time": "2022-02-03T19:32:32.369Z"
   },
   {
    "duration": 7,
    "start_time": "2022-02-03T19:32:41.115Z"
   },
   {
    "duration": 14697,
    "start_time": "2022-02-03T19:36:19.868Z"
   },
   {
    "duration": 13,
    "start_time": "2022-02-03T19:36:37.504Z"
   },
   {
    "duration": 315,
    "start_time": "2022-02-03T19:37:13.931Z"
   },
   {
    "duration": 14,
    "start_time": "2022-02-03T19:37:21.394Z"
   },
   {
    "duration": 336,
    "start_time": "2022-02-03T19:37:35.115Z"
   },
   {
    "duration": 303,
    "start_time": "2022-02-03T19:37:41.501Z"
   },
   {
    "duration": 5,
    "start_time": "2022-02-03T19:37:59.668Z"
   },
   {
    "duration": 313,
    "start_time": "2022-02-04T12:07:46.404Z"
   },
   {
    "duration": 841,
    "start_time": "2022-02-04T12:07:54.880Z"
   },
   {
    "duration": 30,
    "start_time": "2022-02-04T12:07:55.724Z"
   },
   {
    "duration": 17,
    "start_time": "2022-02-04T12:07:55.757Z"
   },
   {
    "duration": 7,
    "start_time": "2022-02-04T12:07:55.777Z"
   },
   {
    "duration": 11,
    "start_time": "2022-02-04T12:07:55.787Z"
   },
   {
    "duration": 51,
    "start_time": "2022-02-04T12:07:55.800Z"
   },
   {
    "duration": 45,
    "start_time": "2022-02-04T12:07:55.854Z"
   },
   {
    "duration": 23,
    "start_time": "2022-02-04T12:07:55.932Z"
   },
   {
    "duration": 18,
    "start_time": "2022-02-04T12:07:55.958Z"
   },
   {
    "duration": 55,
    "start_time": "2022-02-04T12:07:55.978Z"
   },
   {
    "duration": 18,
    "start_time": "2022-02-04T12:07:56.035Z"
   },
   {
    "duration": 400,
    "start_time": "2022-02-04T12:07:56.056Z"
   },
   {
    "duration": 4444,
    "start_time": "2022-02-04T12:07:52.014Z"
   },
   {
    "duration": 4442,
    "start_time": "2022-02-04T12:07:52.018Z"
   },
   {
    "duration": 4439,
    "start_time": "2022-02-04T12:07:52.022Z"
   },
   {
    "duration": 9,
    "start_time": "2022-02-04T12:08:07.358Z"
   },
   {
    "duration": 8,
    "start_time": "2022-02-04T12:08:10.398Z"
   },
   {
    "duration": 473,
    "start_time": "2022-02-04T12:11:18.247Z"
   },
   {
    "duration": 13,
    "start_time": "2022-02-04T12:11:26.039Z"
   },
   {
    "duration": 14,
    "start_time": "2022-02-04T12:18:23.038Z"
   },
   {
    "duration": 12,
    "start_time": "2022-02-04T12:23:56.518Z"
   },
   {
    "duration": 62,
    "start_time": "2022-02-04T12:27:46.825Z"
   },
   {
    "duration": 22,
    "start_time": "2022-02-04T12:28:12.896Z"
   },
   {
    "duration": 28,
    "start_time": "2022-02-04T12:28:22.361Z"
   },
   {
    "duration": 24,
    "start_time": "2022-02-04T12:28:28.543Z"
   },
   {
    "duration": 12,
    "start_time": "2022-02-04T12:28:54.569Z"
   },
   {
    "duration": 5,
    "start_time": "2022-02-04T12:30:24.583Z"
   },
   {
    "duration": 10,
    "start_time": "2022-02-04T12:30:41.543Z"
   },
   {
    "duration": 12,
    "start_time": "2022-02-04T12:30:44.447Z"
   },
   {
    "duration": 865,
    "start_time": "2022-02-04T12:30:53.385Z"
   },
   {
    "duration": 23,
    "start_time": "2022-02-04T12:30:54.253Z"
   },
   {
    "duration": 18,
    "start_time": "2022-02-04T12:30:54.279Z"
   },
   {
    "duration": 34,
    "start_time": "2022-02-04T12:30:54.300Z"
   },
   {
    "duration": 7,
    "start_time": "2022-02-04T12:30:54.337Z"
   },
   {
    "duration": 34,
    "start_time": "2022-02-04T12:30:54.347Z"
   },
   {
    "duration": 69,
    "start_time": "2022-02-04T12:30:54.383Z"
   },
   {
    "duration": 24,
    "start_time": "2022-02-04T12:30:54.455Z"
   },
   {
    "duration": 17,
    "start_time": "2022-02-04T12:30:54.482Z"
   },
   {
    "duration": 62,
    "start_time": "2022-02-04T12:30:54.501Z"
   },
   {
    "duration": 9,
    "start_time": "2022-02-04T12:30:54.566Z"
   },
   {
    "duration": 14,
    "start_time": "2022-02-04T12:30:54.577Z"
   },
   {
    "duration": 43,
    "start_time": "2022-02-04T12:30:54.593Z"
   },
   {
    "duration": 10,
    "start_time": "2022-02-04T12:30:54.638Z"
   },
   {
    "duration": 19,
    "start_time": "2022-02-04T12:30:54.651Z"
   },
   {
    "duration": 85,
    "start_time": "2022-02-04T12:30:54.673Z"
   },
   {
    "duration": 40,
    "start_time": "2022-02-04T12:30:54.761Z"
   },
   {
    "duration": 6702,
    "start_time": "2022-02-04T12:38:37.098Z"
   },
   {
    "duration": 810,
    "start_time": "2022-02-04T12:38:50.160Z"
   },
   {
    "duration": 24,
    "start_time": "2022-02-04T12:38:50.973Z"
   },
   {
    "duration": 37,
    "start_time": "2022-02-04T12:38:51.000Z"
   },
   {
    "duration": 4,
    "start_time": "2022-02-04T12:38:51.040Z"
   },
   {
    "duration": 10,
    "start_time": "2022-02-04T12:38:51.046Z"
   },
   {
    "duration": 25,
    "start_time": "2022-02-04T12:38:51.058Z"
   },
   {
    "duration": 71,
    "start_time": "2022-02-04T12:38:51.085Z"
   },
   {
    "duration": 21,
    "start_time": "2022-02-04T12:38:51.159Z"
   },
   {
    "duration": 15,
    "start_time": "2022-02-04T12:38:51.183Z"
   },
   {
    "duration": 57,
    "start_time": "2022-02-04T12:38:51.200Z"
   },
   {
    "duration": 8,
    "start_time": "2022-02-04T12:38:51.260Z"
   },
   {
    "duration": 13,
    "start_time": "2022-02-04T12:38:51.270Z"
   },
   {
    "duration": 9,
    "start_time": "2022-02-04T12:38:51.285Z"
   },
   {
    "duration": 56,
    "start_time": "2022-02-04T12:38:51.297Z"
   },
   {
    "duration": 10,
    "start_time": "2022-02-04T12:38:51.355Z"
   },
   {
    "duration": 12,
    "start_time": "2022-02-04T12:38:51.367Z"
   },
   {
    "duration": 87,
    "start_time": "2022-02-04T12:38:51.382Z"
   },
   {
    "duration": 37,
    "start_time": "2022-02-04T12:38:51.471Z"
   },
   {
    "duration": 83,
    "start_time": "2022-02-04T12:38:51.532Z"
   },
   {
    "duration": 25,
    "start_time": "2022-02-04T12:39:28.066Z"
   },
   {
    "duration": 23,
    "start_time": "2022-02-04T12:40:02.402Z"
   },
   {
    "duration": 1726,
    "start_time": "2022-02-04T12:52:52.442Z"
   },
   {
    "duration": 1678,
    "start_time": "2022-02-04T12:53:17.751Z"
   },
   {
    "duration": 991,
    "start_time": "2022-02-04T12:54:05.334Z"
   },
   {
    "duration": 13,
    "start_time": "2022-02-04T12:54:35.919Z"
   },
   {
    "duration": 38,
    "start_time": "2022-02-04T12:54:53.382Z"
   },
   {
    "duration": 37,
    "start_time": "2022-02-04T12:55:10.645Z"
   },
   {
    "duration": 84,
    "start_time": "2022-02-04T12:55:36.118Z"
   },
   {
    "duration": 42,
    "start_time": "2022-02-04T12:55:42.981Z"
   },
   {
    "duration": 30,
    "start_time": "2022-02-04T12:56:01.646Z"
   },
   {
    "duration": 1234,
    "start_time": "2022-02-04T12:58:48.477Z"
   },
   {
    "duration": 3350,
    "start_time": "2022-02-04T12:58:54.501Z"
   },
   {
    "duration": 420,
    "start_time": "2022-02-04T12:59:39.332Z"
   },
   {
    "duration": 385,
    "start_time": "2022-02-04T13:00:13.886Z"
   },
   {
    "duration": 1005,
    "start_time": "2022-02-04T13:10:45.426Z"
   },
   {
    "duration": 30,
    "start_time": "2022-02-04T13:10:58.551Z"
   },
   {
    "duration": 36,
    "start_time": "2022-02-04T13:41:55.901Z"
   },
   {
    "duration": 291,
    "start_time": "2022-02-04T14:04:40.458Z"
   },
   {
    "duration": 793,
    "start_time": "2022-02-04T14:04:47.282Z"
   },
   {
    "duration": 24,
    "start_time": "2022-02-04T14:04:48.078Z"
   },
   {
    "duration": 38,
    "start_time": "2022-02-04T14:04:48.105Z"
   },
   {
    "duration": 4,
    "start_time": "2022-02-04T14:04:48.147Z"
   },
   {
    "duration": 7,
    "start_time": "2022-02-04T14:04:48.154Z"
   },
   {
    "duration": 31,
    "start_time": "2022-02-04T14:04:48.164Z"
   },
   {
    "duration": 73,
    "start_time": "2022-02-04T14:04:48.198Z"
   },
   {
    "duration": 23,
    "start_time": "2022-02-04T14:04:48.273Z"
   },
   {
    "duration": 37,
    "start_time": "2022-02-04T14:04:48.300Z"
   },
   {
    "duration": 36,
    "start_time": "2022-02-04T14:04:48.341Z"
   },
   {
    "duration": 7,
    "start_time": "2022-02-04T14:04:48.379Z"
   },
   {
    "duration": 12,
    "start_time": "2022-02-04T14:04:48.388Z"
   },
   {
    "duration": 37,
    "start_time": "2022-02-04T14:04:48.403Z"
   },
   {
    "duration": 24,
    "start_time": "2022-02-04T14:04:48.442Z"
   },
   {
    "duration": 26,
    "start_time": "2022-02-04T14:04:48.468Z"
   },
   {
    "duration": 50,
    "start_time": "2022-02-04T14:04:48.496Z"
   },
   {
    "duration": 14,
    "start_time": "2022-02-04T14:04:48.549Z"
   },
   {
    "duration": 11,
    "start_time": "2022-02-04T14:04:48.566Z"
   },
   {
    "duration": 81,
    "start_time": "2022-02-04T14:04:48.580Z"
   },
   {
    "duration": 37,
    "start_time": "2022-02-04T14:04:48.663Z"
   },
   {
    "duration": 66,
    "start_time": "2022-02-04T14:04:48.703Z"
   },
   {
    "duration": 6,
    "start_time": "2022-02-04T14:07:55.658Z"
   },
   {
    "duration": 7,
    "start_time": "2022-02-04T14:08:01.938Z"
   },
   {
    "duration": 6,
    "start_time": "2022-02-04T14:08:14.765Z"
   },
   {
    "duration": 1061,
    "start_time": "2022-02-04T14:08:25.187Z"
   },
   {
    "duration": 25,
    "start_time": "2022-02-04T14:08:26.251Z"
   },
   {
    "duration": 18,
    "start_time": "2022-02-04T14:08:26.278Z"
   },
   {
    "duration": 4,
    "start_time": "2022-02-04T14:08:26.299Z"
   },
   {
    "duration": 5,
    "start_time": "2022-02-04T14:08:26.333Z"
   },
   {
    "duration": 28,
    "start_time": "2022-02-04T14:08:26.341Z"
   },
   {
    "duration": 75,
    "start_time": "2022-02-04T14:08:26.371Z"
   },
   {
    "duration": 23,
    "start_time": "2022-02-04T14:08:26.449Z"
   },
   {
    "duration": 18,
    "start_time": "2022-02-04T14:08:26.475Z"
   },
   {
    "duration": 60,
    "start_time": "2022-02-04T14:08:26.495Z"
   },
   {
    "duration": 8,
    "start_time": "2022-02-04T14:08:26.557Z"
   },
   {
    "duration": 15,
    "start_time": "2022-02-04T14:08:26.567Z"
   },
   {
    "duration": 9,
    "start_time": "2022-02-04T14:08:26.585Z"
   },
   {
    "duration": 53,
    "start_time": "2022-02-04T14:08:26.597Z"
   },
   {
    "duration": 26,
    "start_time": "2022-02-04T14:08:26.653Z"
   },
   {
    "duration": 51,
    "start_time": "2022-02-04T14:08:26.682Z"
   },
   {
    "duration": 12,
    "start_time": "2022-02-04T14:08:26.736Z"
   },
   {
    "duration": 13,
    "start_time": "2022-02-04T14:08:26.751Z"
   },
   {
    "duration": 91,
    "start_time": "2022-02-04T14:08:26.767Z"
   },
   {
    "duration": 44,
    "start_time": "2022-02-04T14:08:26.861Z"
   },
   {
    "duration": 44,
    "start_time": "2022-02-04T14:08:26.931Z"
   },
   {
    "duration": 8,
    "start_time": "2022-02-04T14:08:26.977Z"
   },
   {
    "duration": 6,
    "start_time": "2022-02-04T14:12:45.383Z"
   },
   {
    "duration": 6,
    "start_time": "2022-02-04T14:13:11.021Z"
   },
   {
    "duration": 7,
    "start_time": "2022-02-04T14:19:12.750Z"
   },
   {
    "duration": 920,
    "start_time": "2022-02-04T14:19:30.751Z"
   },
   {
    "duration": 25,
    "start_time": "2022-02-04T14:19:31.674Z"
   },
   {
    "duration": 45,
    "start_time": "2022-02-04T14:19:31.702Z"
   },
   {
    "duration": 9,
    "start_time": "2022-02-04T14:19:31.751Z"
   },
   {
    "duration": 10,
    "start_time": "2022-02-04T14:19:31.762Z"
   },
   {
    "duration": 27,
    "start_time": "2022-02-04T14:19:31.775Z"
   },
   {
    "duration": 78,
    "start_time": "2022-02-04T14:19:31.804Z"
   },
   {
    "duration": 22,
    "start_time": "2022-02-04T14:19:31.887Z"
   },
   {
    "duration": 48,
    "start_time": "2022-02-04T14:19:31.912Z"
   },
   {
    "duration": 40,
    "start_time": "2022-02-04T14:19:31.964Z"
   },
   {
    "duration": 12,
    "start_time": "2022-02-04T14:19:32.006Z"
   },
   {
    "duration": 26,
    "start_time": "2022-02-04T14:19:32.020Z"
   },
   {
    "duration": 22,
    "start_time": "2022-02-04T14:19:32.049Z"
   },
   {
    "duration": 31,
    "start_time": "2022-02-04T14:19:32.073Z"
   },
   {
    "duration": 50,
    "start_time": "2022-02-04T14:19:32.107Z"
   },
   {
    "duration": 22,
    "start_time": "2022-02-04T14:19:32.160Z"
   },
   {
    "duration": 11,
    "start_time": "2022-02-04T14:19:32.184Z"
   },
   {
    "duration": 46,
    "start_time": "2022-02-04T14:19:32.198Z"
   },
   {
    "duration": 55,
    "start_time": "2022-02-04T14:19:32.248Z"
   },
   {
    "duration": 61,
    "start_time": "2022-02-04T14:19:32.305Z"
   },
   {
    "duration": 63,
    "start_time": "2022-02-04T14:19:32.369Z"
   },
   {
    "duration": 10,
    "start_time": "2022-02-04T14:19:32.436Z"
   },
   {
    "duration": 6,
    "start_time": "2022-02-04T14:21:21.895Z"
   },
   {
    "duration": 26,
    "start_time": "2022-02-04T14:21:36.291Z"
   },
   {
    "duration": 356,
    "start_time": "2022-02-04T14:22:13.770Z"
   },
   {
    "duration": 25,
    "start_time": "2022-02-04T14:22:18.155Z"
   },
   {
    "duration": 6,
    "start_time": "2022-02-04T14:22:34.986Z"
   },
   {
    "duration": 9,
    "start_time": "2022-02-04T14:23:00.490Z"
   },
   {
    "duration": 272,
    "start_time": "2022-02-04T14:23:22.713Z"
   },
   {
    "duration": 250,
    "start_time": "2022-02-04T14:23:43.432Z"
   },
   {
    "duration": 256,
    "start_time": "2022-02-04T14:23:48.585Z"
   },
   {
    "duration": 334,
    "start_time": "2022-02-04T14:23:53.498Z"
   },
   {
    "duration": 8,
    "start_time": "2022-02-04T14:24:07.033Z"
   },
   {
    "duration": 11,
    "start_time": "2022-02-04T14:24:10.130Z"
   },
   {
    "duration": 8,
    "start_time": "2022-02-04T14:24:19.505Z"
   },
   {
    "duration": 11,
    "start_time": "2022-02-04T14:24:45.730Z"
   },
   {
    "duration": 9,
    "start_time": "2022-02-04T14:29:22.796Z"
   },
   {
    "duration": 3,
    "start_time": "2022-02-04T14:31:54.076Z"
   },
   {
    "duration": 94,
    "start_time": "2022-02-04T14:36:30.763Z"
   },
   {
    "duration": 316,
    "start_time": "2022-02-04T14:36:39.186Z"
   },
   {
    "duration": 20,
    "start_time": "2022-02-04T14:36:52.260Z"
   },
   {
    "duration": 18,
    "start_time": "2022-02-04T14:37:37.947Z"
   },
   {
    "duration": 274,
    "start_time": "2022-02-04T14:39:16.038Z"
   },
   {
    "duration": 260,
    "start_time": "2022-02-04T14:39:40.339Z"
   },
   {
    "duration": 266,
    "start_time": "2022-02-04T14:39:54.845Z"
   },
   {
    "duration": 382,
    "start_time": "2022-02-04T14:40:16.427Z"
   },
   {
    "duration": 45,
    "start_time": "2022-02-04T14:40:33.018Z"
   },
   {
    "duration": 306,
    "start_time": "2022-02-04T14:41:00.818Z"
   },
   {
    "duration": 30,
    "start_time": "2022-02-04T14:41:16.878Z"
   },
   {
    "duration": 297,
    "start_time": "2022-02-04T14:41:54.165Z"
   },
   {
    "duration": 10,
    "start_time": "2022-02-04T14:46:16.694Z"
   },
   {
    "duration": 11,
    "start_time": "2022-02-04T14:46:41.429Z"
   },
   {
    "duration": 4,
    "start_time": "2022-02-04T14:47:17.882Z"
   },
   {
    "duration": 24,
    "start_time": "2022-02-04T14:48:24.412Z"
   },
   {
    "duration": 260,
    "start_time": "2022-02-04T14:49:03.981Z"
   },
   {
    "duration": 282,
    "start_time": "2022-02-04T14:49:16.750Z"
   },
   {
    "duration": 250,
    "start_time": "2022-02-04T14:58:25.014Z"
   },
   {
    "duration": 253,
    "start_time": "2022-02-04T14:58:32.524Z"
   },
   {
    "duration": 19,
    "start_time": "2022-02-04T14:58:45.320Z"
   },
   {
    "duration": 264,
    "start_time": "2022-02-04T14:59:02.151Z"
   },
   {
    "duration": 269,
    "start_time": "2022-02-04T14:59:11.647Z"
   },
   {
    "duration": 17,
    "start_time": "2022-02-04T14:59:40.927Z"
   },
   {
    "duration": 39,
    "start_time": "2022-02-04T15:07:09.783Z"
   },
   {
    "duration": 35,
    "start_time": "2022-02-04T15:07:38.272Z"
   },
   {
    "duration": 37,
    "start_time": "2022-02-04T15:07:46.487Z"
   },
   {
    "duration": 75,
    "start_time": "2022-02-04T15:08:43.953Z"
   },
   {
    "duration": 61,
    "start_time": "2022-02-04T15:09:04.121Z"
   },
   {
    "duration": 283,
    "start_time": "2022-02-04T18:59:33.372Z"
   },
   {
    "duration": 668,
    "start_time": "2022-02-04T18:59:40.674Z"
   },
   {
    "duration": 19,
    "start_time": "2022-02-04T18:59:41.344Z"
   },
   {
    "duration": 16,
    "start_time": "2022-02-04T18:59:41.365Z"
   },
   {
    "duration": 17,
    "start_time": "2022-02-04T18:59:41.383Z"
   },
   {
    "duration": 16,
    "start_time": "2022-02-04T18:59:41.402Z"
   },
   {
    "duration": 17,
    "start_time": "2022-02-04T18:59:41.420Z"
   },
   {
    "duration": 31,
    "start_time": "2022-02-04T18:59:41.439Z"
   },
   {
    "duration": 17,
    "start_time": "2022-02-04T18:59:41.474Z"
   },
   {
    "duration": 12,
    "start_time": "2022-02-04T18:59:41.520Z"
   },
   {
    "duration": 32,
    "start_time": "2022-02-04T18:59:41.534Z"
   },
   {
    "duration": 7,
    "start_time": "2022-02-04T18:59:41.567Z"
   },
   {
    "duration": 10,
    "start_time": "2022-02-04T18:59:41.576Z"
   },
   {
    "duration": 36,
    "start_time": "2022-02-04T18:59:41.588Z"
   },
   {
    "duration": 18,
    "start_time": "2022-02-04T18:59:41.626Z"
   },
   {
    "duration": 19,
    "start_time": "2022-02-04T18:59:41.647Z"
   },
   {
    "duration": 26,
    "start_time": "2022-02-04T18:59:41.668Z"
   },
   {
    "duration": 28,
    "start_time": "2022-02-04T18:59:41.696Z"
   },
   {
    "duration": 13,
    "start_time": "2022-02-04T18:59:41.727Z"
   },
   {
    "duration": 43,
    "start_time": "2022-02-04T18:59:41.742Z"
   },
   {
    "duration": 26,
    "start_time": "2022-02-04T18:59:41.818Z"
   },
   {
    "duration": 28,
    "start_time": "2022-02-04T18:59:41.846Z"
   },
   {
    "duration": 72,
    "start_time": "2022-02-04T18:59:41.876Z"
   },
   {
    "duration": 18,
    "start_time": "2022-02-04T18:59:41.951Z"
   },
   {
    "duration": 336,
    "start_time": "2022-02-04T19:00:53.236Z"
   },
   {
    "duration": 21,
    "start_time": "2022-02-04T19:00:58.114Z"
   },
   {
    "duration": 19,
    "start_time": "2022-02-04T19:01:44.845Z"
   },
   {
    "duration": 270,
    "start_time": "2022-02-04T19:04:14.653Z"
   },
   {
    "duration": 657,
    "start_time": "2022-02-04T19:05:29.049Z"
   },
   {
    "duration": 20,
    "start_time": "2022-02-04T19:05:29.708Z"
   },
   {
    "duration": 15,
    "start_time": "2022-02-04T19:05:29.730Z"
   },
   {
    "duration": 27,
    "start_time": "2022-02-04T19:05:29.747Z"
   },
   {
    "duration": 28,
    "start_time": "2022-02-04T19:05:29.776Z"
   },
   {
    "duration": 32,
    "start_time": "2022-02-04T19:05:29.806Z"
   },
   {
    "duration": 33,
    "start_time": "2022-02-04T19:05:29.840Z"
   },
   {
    "duration": 17,
    "start_time": "2022-02-04T19:05:29.876Z"
   },
   {
    "duration": 27,
    "start_time": "2022-02-04T19:05:29.896Z"
   },
   {
    "duration": 32,
    "start_time": "2022-02-04T19:05:29.924Z"
   },
   {
    "duration": 14,
    "start_time": "2022-02-04T19:05:29.958Z"
   },
   {
    "duration": 11,
    "start_time": "2022-02-04T19:05:29.973Z"
   },
   {
    "duration": 26,
    "start_time": "2022-02-04T19:05:29.986Z"
   },
   {
    "duration": 33,
    "start_time": "2022-02-04T19:05:30.014Z"
   },
   {
    "duration": 26,
    "start_time": "2022-02-04T19:05:30.049Z"
   },
   {
    "duration": 28,
    "start_time": "2022-02-04T19:05:30.078Z"
   },
   {
    "duration": 31,
    "start_time": "2022-02-04T19:05:30.108Z"
   },
   {
    "duration": 31,
    "start_time": "2022-02-04T19:05:30.141Z"
   },
   {
    "duration": 49,
    "start_time": "2022-02-04T19:05:30.174Z"
   },
   {
    "duration": 40,
    "start_time": "2022-02-04T19:05:30.224Z"
   },
   {
    "duration": 46,
    "start_time": "2022-02-04T19:05:30.266Z"
   },
   {
    "duration": 58,
    "start_time": "2022-02-04T19:05:30.313Z"
   },
   {
    "duration": 104,
    "start_time": "2022-02-04T19:05:30.374Z"
   },
   {
    "duration": 704,
    "start_time": "2022-02-04T19:05:53.599Z"
   },
   {
    "duration": 19,
    "start_time": "2022-02-04T19:05:54.305Z"
   },
   {
    "duration": 12,
    "start_time": "2022-02-04T19:05:54.326Z"
   },
   {
    "duration": 3,
    "start_time": "2022-02-04T19:05:54.340Z"
   },
   {
    "duration": 6,
    "start_time": "2022-02-04T19:05:54.345Z"
   },
   {
    "duration": 20,
    "start_time": "2022-02-04T19:05:54.353Z"
   },
   {
    "duration": 48,
    "start_time": "2022-02-04T19:05:54.375Z"
   },
   {
    "duration": 19,
    "start_time": "2022-02-04T19:05:54.425Z"
   },
   {
    "duration": 11,
    "start_time": "2022-02-04T19:05:54.447Z"
   },
   {
    "duration": 27,
    "start_time": "2022-02-04T19:05:54.461Z"
   },
   {
    "duration": 30,
    "start_time": "2022-02-04T19:05:54.490Z"
   },
   {
    "duration": 9,
    "start_time": "2022-02-04T19:05:54.521Z"
   },
   {
    "duration": 6,
    "start_time": "2022-02-04T19:05:54.532Z"
   },
   {
    "duration": 14,
    "start_time": "2022-02-04T19:05:54.540Z"
   },
   {
    "duration": 18,
    "start_time": "2022-02-04T19:05:54.556Z"
   },
   {
    "duration": 47,
    "start_time": "2022-02-04T19:05:54.576Z"
   },
   {
    "duration": 7,
    "start_time": "2022-02-04T19:05:54.625Z"
   },
   {
    "duration": 11,
    "start_time": "2022-02-04T19:05:54.634Z"
   },
   {
    "duration": 35,
    "start_time": "2022-02-04T19:05:54.647Z"
   },
   {
    "duration": 49,
    "start_time": "2022-02-04T19:05:54.684Z"
   },
   {
    "duration": 26,
    "start_time": "2022-02-04T19:05:54.735Z"
   },
   {
    "duration": 65,
    "start_time": "2022-02-04T19:05:54.764Z"
   },
   {
    "duration": 22,
    "start_time": "2022-02-04T19:05:54.831Z"
   },
   {
    "duration": 19,
    "start_time": "2022-02-04T19:06:52.976Z"
   },
   {
    "duration": 23,
    "start_time": "2022-02-04T19:07:09.214Z"
   },
   {
    "duration": 29,
    "start_time": "2022-02-04T19:08:53.969Z"
   },
   {
    "duration": 381,
    "start_time": "2022-02-04T19:08:59.198Z"
   },
   {
    "duration": 24,
    "start_time": "2022-02-04T19:09:22.347Z"
   },
   {
    "duration": 25,
    "start_time": "2022-02-04T19:09:56.757Z"
   },
   {
    "duration": 380,
    "start_time": "2022-02-04T19:12:58.510Z"
   },
   {
    "duration": 263,
    "start_time": "2022-02-04T19:13:17.466Z"
   },
   {
    "duration": 279,
    "start_time": "2022-02-04T19:13:26.833Z"
   },
   {
    "duration": 23,
    "start_time": "2022-02-04T19:14:04.968Z"
   },
   {
    "duration": 22,
    "start_time": "2022-02-04T19:14:18.078Z"
   },
   {
    "duration": 3,
    "start_time": "2022-02-05T11:19:39.126Z"
   },
   {
    "duration": 285,
    "start_time": "2022-02-05T11:25:09.635Z"
   },
   {
    "duration": 601,
    "start_time": "2022-02-05T11:25:16.261Z"
   },
   {
    "duration": 18,
    "start_time": "2022-02-05T11:25:16.864Z"
   },
   {
    "duration": 29,
    "start_time": "2022-02-05T11:25:16.884Z"
   },
   {
    "duration": 4,
    "start_time": "2022-02-05T11:25:16.915Z"
   },
   {
    "duration": 8,
    "start_time": "2022-02-05T11:25:16.920Z"
   },
   {
    "duration": 22,
    "start_time": "2022-02-05T11:25:16.929Z"
   },
   {
    "duration": 30,
    "start_time": "2022-02-05T11:25:16.953Z"
   },
   {
    "duration": 36,
    "start_time": "2022-02-05T11:25:16.985Z"
   },
   {
    "duration": 12,
    "start_time": "2022-02-05T11:25:17.023Z"
   },
   {
    "duration": 26,
    "start_time": "2022-02-05T11:25:17.037Z"
   },
   {
    "duration": 7,
    "start_time": "2022-02-05T11:25:17.064Z"
   },
   {
    "duration": 9,
    "start_time": "2022-02-05T11:25:17.072Z"
   },
   {
    "duration": 36,
    "start_time": "2022-02-05T11:25:17.083Z"
   },
   {
    "duration": 17,
    "start_time": "2022-02-05T11:25:17.120Z"
   },
   {
    "duration": 19,
    "start_time": "2022-02-05T11:25:17.138Z"
   },
   {
    "duration": 17,
    "start_time": "2022-02-05T11:25:17.158Z"
   },
   {
    "duration": 40,
    "start_time": "2022-02-05T11:25:17.176Z"
   },
   {
    "duration": 9,
    "start_time": "2022-02-05T11:25:17.217Z"
   },
   {
    "duration": 46,
    "start_time": "2022-02-05T11:25:17.227Z"
   },
   {
    "duration": 39,
    "start_time": "2022-02-05T11:25:17.275Z"
   },
   {
    "duration": 23,
    "start_time": "2022-02-05T11:25:17.316Z"
   },
   {
    "duration": 44,
    "start_time": "2022-02-05T11:25:17.341Z"
   },
   {
    "duration": 40,
    "start_time": "2022-02-05T11:25:17.387Z"
   },
   {
    "duration": 266,
    "start_time": "2022-02-05T11:25:17.429Z"
   },
   {
    "duration": 19,
    "start_time": "2022-02-05T11:25:26.450Z"
   },
   {
    "duration": 2,
    "start_time": "2022-02-05T11:27:36.944Z"
   },
   {
    "duration": 20,
    "start_time": "2022-02-05T11:30:02.882Z"
   },
   {
    "duration": 24,
    "start_time": "2022-02-05T11:31:02.764Z"
   },
   {
    "duration": 20,
    "start_time": "2022-02-05T11:37:15.455Z"
   },
   {
    "duration": 30,
    "start_time": "2022-02-05T11:37:29.809Z"
   },
   {
    "duration": 5517,
    "start_time": "2022-02-05T11:39:06.136Z"
   },
   {
    "duration": 23,
    "start_time": "2022-02-05T11:39:52.672Z"
   },
   {
    "duration": 24,
    "start_time": "2022-02-05T11:41:21.465Z"
   },
   {
    "duration": 217,
    "start_time": "2022-02-05T11:47:24.727Z"
   },
   {
    "duration": 58,
    "start_time": "2022-02-05T11:47:53.424Z"
   },
   {
    "duration": 269,
    "start_time": "2022-02-05T11:48:01.949Z"
   },
   {
    "duration": 231,
    "start_time": "2022-02-05T11:48:18.844Z"
   },
   {
    "duration": 241,
    "start_time": "2022-02-05T11:48:27.520Z"
   },
   {
    "duration": 24,
    "start_time": "2022-02-05T11:48:42.125Z"
   },
   {
    "duration": 23,
    "start_time": "2022-02-05T11:49:18.285Z"
   },
   {
    "duration": 23,
    "start_time": "2022-02-05T11:54:02.035Z"
   },
   {
    "duration": 192,
    "start_time": "2022-02-05T11:58:01.664Z"
   },
   {
    "duration": 6,
    "start_time": "2022-02-05T11:58:24.153Z"
   },
   {
    "duration": 3,
    "start_time": "2022-02-05T12:00:16.193Z"
   },
   {
    "duration": 6,
    "start_time": "2022-02-05T12:00:33.815Z"
   },
   {
    "duration": 6,
    "start_time": "2022-02-05T12:02:44.660Z"
   },
   {
    "duration": 21,
    "start_time": "2022-02-05T12:04:23.793Z"
   },
   {
    "duration": 23,
    "start_time": "2022-02-05T12:04:32.411Z"
   },
   {
    "duration": 211,
    "start_time": "2022-02-05T12:05:15.082Z"
   },
   {
    "duration": 23,
    "start_time": "2022-02-05T12:05:31.437Z"
   },
   {
    "duration": 25,
    "start_time": "2022-02-05T12:05:42.495Z"
   },
   {
    "duration": 6,
    "start_time": "2022-02-05T12:06:47.581Z"
   },
   {
    "duration": 8,
    "start_time": "2022-02-05T12:07:57.146Z"
   },
   {
    "duration": 13,
    "start_time": "2022-02-05T12:10:43.232Z"
   },
   {
    "duration": 14,
    "start_time": "2022-02-05T12:10:49.884Z"
   },
   {
    "duration": 15,
    "start_time": "2022-02-05T12:11:28.091Z"
   },
   {
    "duration": 14,
    "start_time": "2022-02-05T12:11:49.198Z"
   },
   {
    "duration": 14,
    "start_time": "2022-02-05T12:12:18.964Z"
   },
   {
    "duration": 69,
    "start_time": "2022-02-05T12:31:05.164Z"
   },
   {
    "duration": 12,
    "start_time": "2022-02-05T12:44:05.013Z"
   },
   {
    "duration": 6,
    "start_time": "2022-02-05T12:44:16.232Z"
   },
   {
    "duration": 7,
    "start_time": "2022-02-05T12:44:28.688Z"
   },
   {
    "duration": 639,
    "start_time": "2022-02-05T12:44:36.888Z"
   },
   {
    "duration": 19,
    "start_time": "2022-02-05T12:44:37.529Z"
   },
   {
    "duration": 12,
    "start_time": "2022-02-05T12:44:37.550Z"
   },
   {
    "duration": 3,
    "start_time": "2022-02-05T12:44:37.564Z"
   },
   {
    "duration": 6,
    "start_time": "2022-02-05T12:44:37.569Z"
   },
   {
    "duration": 47,
    "start_time": "2022-02-05T12:44:37.576Z"
   },
   {
    "duration": 36,
    "start_time": "2022-02-05T12:44:37.626Z"
   },
   {
    "duration": 16,
    "start_time": "2022-02-05T12:44:37.664Z"
   },
   {
    "duration": 39,
    "start_time": "2022-02-05T12:44:37.682Z"
   },
   {
    "duration": 28,
    "start_time": "2022-02-05T12:44:37.722Z"
   },
   {
    "duration": 6,
    "start_time": "2022-02-05T12:44:37.751Z"
   },
   {
    "duration": 8,
    "start_time": "2022-02-05T12:44:37.758Z"
   },
   {
    "duration": 9,
    "start_time": "2022-02-05T12:44:37.767Z"
   },
   {
    "duration": 43,
    "start_time": "2022-02-05T12:44:37.778Z"
   },
   {
    "duration": 20,
    "start_time": "2022-02-05T12:44:37.823Z"
   },
   {
    "duration": 16,
    "start_time": "2022-02-05T12:44:37.845Z"
   },
   {
    "duration": 8,
    "start_time": "2022-02-05T12:44:37.863Z"
   },
   {
    "duration": 10,
    "start_time": "2022-02-05T12:44:37.872Z"
   },
   {
    "duration": 63,
    "start_time": "2022-02-05T12:44:37.883Z"
   },
   {
    "duration": 23,
    "start_time": "2022-02-05T12:44:37.947Z"
   },
   {
    "duration": 56,
    "start_time": "2022-02-05T12:44:37.971Z"
   },
   {
    "duration": 14,
    "start_time": "2022-02-05T12:44:38.029Z"
   },
   {
    "duration": 13,
    "start_time": "2022-02-05T12:44:38.046Z"
   },
   {
    "duration": 14,
    "start_time": "2022-02-05T12:44:38.061Z"
   },
   {
    "duration": 47,
    "start_time": "2022-02-05T12:44:38.076Z"
   },
   {
    "duration": 26,
    "start_time": "2022-02-05T12:56:17.900Z"
   },
   {
    "duration": 13,
    "start_time": "2022-02-05T12:56:34.422Z"
   },
   {
    "duration": 14,
    "start_time": "2022-02-05T12:57:27.947Z"
   },
   {
    "duration": 267,
    "start_time": "2022-02-05T12:59:53.820Z"
   },
   {
    "duration": 612,
    "start_time": "2022-02-05T13:00:01.352Z"
   },
   {
    "duration": 1145,
    "start_time": "2022-02-05T13:00:01.966Z"
   },
   {
    "duration": 13,
    "start_time": "2022-02-05T13:00:03.114Z"
   },
   {
    "duration": 8,
    "start_time": "2022-02-05T13:00:03.129Z"
   },
   {
    "duration": 14,
    "start_time": "2022-02-05T13:00:03.138Z"
   },
   {
    "duration": 18,
    "start_time": "2022-02-05T13:00:03.154Z"
   },
   {
    "duration": 48,
    "start_time": "2022-02-05T13:00:03.173Z"
   },
   {
    "duration": 16,
    "start_time": "2022-02-05T13:00:03.222Z"
   },
   {
    "duration": 28,
    "start_time": "2022-02-05T13:00:03.242Z"
   },
   {
    "duration": 47,
    "start_time": "2022-02-05T13:00:03.272Z"
   },
   {
    "duration": 17,
    "start_time": "2022-02-05T13:00:03.321Z"
   },
   {
    "duration": 16,
    "start_time": "2022-02-05T13:00:03.339Z"
   },
   {
    "duration": 12,
    "start_time": "2022-02-05T13:00:03.356Z"
   },
   {
    "duration": 37,
    "start_time": "2022-02-05T13:00:03.370Z"
   },
   {
    "duration": 24,
    "start_time": "2022-02-05T13:00:03.411Z"
   },
   {
    "duration": 26,
    "start_time": "2022-02-05T13:00:03.436Z"
   },
   {
    "duration": 23,
    "start_time": "2022-02-05T13:00:03.464Z"
   },
   {
    "duration": 28,
    "start_time": "2022-02-05T13:00:03.489Z"
   },
   {
    "duration": 53,
    "start_time": "2022-02-05T13:00:03.519Z"
   },
   {
    "duration": 14,
    "start_time": "2022-02-05T13:00:03.574Z"
   },
   {
    "duration": 30,
    "start_time": "2022-02-05T13:00:03.590Z"
   },
   {
    "duration": 27,
    "start_time": "2022-02-05T13:00:03.621Z"
   },
   {
    "duration": 11,
    "start_time": "2022-02-05T13:00:03.650Z"
   },
   {
    "duration": 27,
    "start_time": "2022-02-05T13:00:03.663Z"
   },
   {
    "duration": 17,
    "start_time": "2022-02-05T13:00:03.691Z"
   },
   {
    "duration": 14,
    "start_time": "2022-02-05T13:26:27.442Z"
   },
   {
    "duration": 263,
    "start_time": "2022-02-05T13:26:43.006Z"
   },
   {
    "duration": 17,
    "start_time": "2022-02-05T13:26:48.875Z"
   },
   {
    "duration": 26,
    "start_time": "2022-02-05T13:29:47.144Z"
   },
   {
    "duration": 37,
    "start_time": "2022-02-05T13:29:53.658Z"
   },
   {
    "duration": 58,
    "start_time": "2022-02-05T13:30:17.962Z"
   },
   {
    "duration": 19,
    "start_time": "2022-02-05T13:30:30.375Z"
   },
   {
    "duration": 17,
    "start_time": "2022-02-05T13:30:48.282Z"
   },
   {
    "duration": 643,
    "start_time": "2022-02-05T13:36:31.221Z"
   },
   {
    "duration": 18,
    "start_time": "2022-02-05T13:36:31.866Z"
   },
   {
    "duration": 12,
    "start_time": "2022-02-05T13:36:31.886Z"
   },
   {
    "duration": 4,
    "start_time": "2022-02-05T13:36:31.912Z"
   },
   {
    "duration": 6,
    "start_time": "2022-02-05T13:36:31.917Z"
   },
   {
    "duration": 16,
    "start_time": "2022-02-05T13:36:31.925Z"
   },
   {
    "duration": 29,
    "start_time": "2022-02-05T13:36:31.943Z"
   },
   {
    "duration": 39,
    "start_time": "2022-02-05T13:36:31.974Z"
   },
   {
    "duration": 11,
    "start_time": "2022-02-05T13:36:32.015Z"
   },
   {
    "duration": 25,
    "start_time": "2022-02-05T13:36:32.028Z"
   },
   {
    "duration": 5,
    "start_time": "2022-02-05T13:36:32.055Z"
   },
   {
    "duration": 7,
    "start_time": "2022-02-05T13:36:32.062Z"
   },
   {
    "duration": 7,
    "start_time": "2022-02-05T13:36:32.071Z"
   },
   {
    "duration": 16,
    "start_time": "2022-02-05T13:36:32.113Z"
   },
   {
    "duration": 17,
    "start_time": "2022-02-05T13:36:32.131Z"
   },
   {
    "duration": 18,
    "start_time": "2022-02-05T13:36:32.150Z"
   },
   {
    "duration": 8,
    "start_time": "2022-02-05T13:36:32.170Z"
   },
   {
    "duration": 9,
    "start_time": "2022-02-05T13:36:32.213Z"
   },
   {
    "duration": 22,
    "start_time": "2022-02-05T13:36:32.224Z"
   },
   {
    "duration": 14,
    "start_time": "2022-02-05T13:36:32.247Z"
   },
   {
    "duration": 14,
    "start_time": "2022-02-05T13:36:32.262Z"
   },
   {
    "duration": 43,
    "start_time": "2022-02-05T13:36:32.277Z"
   },
   {
    "duration": 15,
    "start_time": "2022-02-05T13:36:32.323Z"
   },
   {
    "duration": 13,
    "start_time": "2022-02-05T13:36:32.339Z"
   },
   {
    "duration": 13,
    "start_time": "2022-02-05T13:36:32.354Z"
   },
   {
    "duration": 847,
    "start_time": "2022-02-12T15:18:08.841Z"
   },
   {
    "duration": 23,
    "start_time": "2022-02-12T15:18:09.691Z"
   },
   {
    "duration": 16,
    "start_time": "2022-02-12T15:18:09.717Z"
   },
   {
    "duration": 25,
    "start_time": "2022-02-12T15:18:09.736Z"
   },
   {
    "duration": 5,
    "start_time": "2022-02-12T15:18:09.763Z"
   },
   {
    "duration": 26,
    "start_time": "2022-02-12T15:18:09.771Z"
   },
   {
    "duration": 69,
    "start_time": "2022-02-12T15:18:09.800Z"
   },
   {
    "duration": 21,
    "start_time": "2022-02-12T15:18:09.872Z"
   },
   {
    "duration": 15,
    "start_time": "2022-02-12T15:18:09.897Z"
   },
   {
    "duration": 60,
    "start_time": "2022-02-12T15:18:09.916Z"
   },
   {
    "duration": 7,
    "start_time": "2022-02-12T15:18:09.979Z"
   },
   {
    "duration": 10,
    "start_time": "2022-02-12T15:18:09.989Z"
   },
   {
    "duration": 9,
    "start_time": "2022-02-12T15:18:10.001Z"
   },
   {
    "duration": 61,
    "start_time": "2022-02-12T15:18:10.012Z"
   },
   {
    "duration": 23,
    "start_time": "2022-02-12T15:18:10.075Z"
   },
   {
    "duration": 21,
    "start_time": "2022-02-12T15:18:10.100Z"
   },
   {
    "duration": 37,
    "start_time": "2022-02-12T15:18:10.123Z"
   },
   {
    "duration": 13,
    "start_time": "2022-02-12T15:18:10.162Z"
   },
   {
    "duration": 32,
    "start_time": "2022-02-12T15:18:10.177Z"
   },
   {
    "duration": 54,
    "start_time": "2022-02-12T15:18:10.212Z"
   },
   {
    "duration": 24,
    "start_time": "2022-02-12T15:18:10.268Z"
   },
   {
    "duration": 20,
    "start_time": "2022-02-12T15:18:10.294Z"
   },
   {
    "duration": 51,
    "start_time": "2022-02-12T15:18:10.316Z"
   },
   {
    "duration": 17,
    "start_time": "2022-02-12T15:18:10.370Z"
   },
   {
    "duration": 20,
    "start_time": "2022-02-12T15:18:10.390Z"
   },
   {
    "duration": 15,
    "start_time": "2022-02-12T15:21:40.686Z"
   },
   {
    "duration": 20,
    "start_time": "2022-02-12T15:21:47.467Z"
   },
   {
    "duration": 19,
    "start_time": "2022-02-12T15:21:54.797Z"
   },
   {
    "duration": 641,
    "start_time": "2022-02-13T11:41:59.421Z"
   },
   {
    "duration": 18,
    "start_time": "2022-02-13T11:42:00.064Z"
   },
   {
    "duration": 68,
    "start_time": "2022-02-13T11:42:00.087Z"
   },
   {
    "duration": 3,
    "start_time": "2022-02-13T11:42:00.157Z"
   },
   {
    "duration": 6,
    "start_time": "2022-02-13T11:42:00.161Z"
   },
   {
    "duration": 19,
    "start_time": "2022-02-13T11:42:00.169Z"
   },
   {
    "duration": 45,
    "start_time": "2022-02-13T11:42:00.189Z"
   },
   {
    "duration": 14,
    "start_time": "2022-02-13T11:42:00.237Z"
   },
   {
    "duration": 17,
    "start_time": "2022-02-13T11:42:00.253Z"
   },
   {
    "duration": 33,
    "start_time": "2022-02-13T11:42:00.271Z"
   },
   {
    "duration": 11,
    "start_time": "2022-02-13T11:42:00.305Z"
   },
   {
    "duration": 40,
    "start_time": "2022-02-13T11:42:00.317Z"
   },
   {
    "duration": 7,
    "start_time": "2022-02-13T11:42:00.359Z"
   },
   {
    "duration": 20,
    "start_time": "2022-02-13T11:42:00.368Z"
   },
   {
    "duration": 18,
    "start_time": "2022-02-13T11:42:00.389Z"
   },
   {
    "duration": 14,
    "start_time": "2022-02-13T11:42:00.409Z"
   },
   {
    "duration": 19,
    "start_time": "2022-02-13T11:42:00.425Z"
   },
   {
    "duration": 10,
    "start_time": "2022-02-13T11:42:00.446Z"
   },
   {
    "duration": 22,
    "start_time": "2022-02-13T11:42:00.458Z"
   },
   {
    "duration": 12,
    "start_time": "2022-02-13T11:42:00.482Z"
   },
   {
    "duration": 27,
    "start_time": "2022-02-13T11:42:00.496Z"
   },
   {
    "duration": 44,
    "start_time": "2022-02-13T11:42:00.525Z"
   },
   {
    "duration": 11,
    "start_time": "2022-02-13T11:42:00.572Z"
   },
   {
    "duration": 14,
    "start_time": "2022-02-13T11:42:00.585Z"
   },
   {
    "duration": 15,
    "start_time": "2022-02-13T11:42:00.601Z"
   },
   {
    "duration": 16,
    "start_time": "2022-02-13T11:42:00.619Z"
   },
   {
    "duration": 13,
    "start_time": "2022-02-13T11:42:00.637Z"
   },
   {
    "duration": 18,
    "start_time": "2022-02-13T11:42:00.652Z"
   },
   {
    "duration": 694,
    "start_time": "2022-02-13T11:50:11.258Z"
   },
   {
    "duration": 19,
    "start_time": "2022-02-13T11:50:11.954Z"
   },
   {
    "duration": 69,
    "start_time": "2022-02-13T11:50:11.978Z"
   },
   {
    "duration": 4,
    "start_time": "2022-02-13T11:50:12.049Z"
   },
   {
    "duration": 10,
    "start_time": "2022-02-13T11:50:12.055Z"
   },
   {
    "duration": 22,
    "start_time": "2022-02-13T11:50:12.067Z"
   },
   {
    "duration": 42,
    "start_time": "2022-02-13T11:50:12.093Z"
   },
   {
    "duration": 18,
    "start_time": "2022-02-13T11:50:12.137Z"
   },
   {
    "duration": 13,
    "start_time": "2022-02-13T11:50:12.156Z"
   },
   {
    "duration": 53,
    "start_time": "2022-02-13T11:50:12.170Z"
   },
   {
    "duration": 11,
    "start_time": "2022-02-13T11:50:12.225Z"
   },
   {
    "duration": 11,
    "start_time": "2022-02-13T11:50:12.238Z"
   },
   {
    "duration": 12,
    "start_time": "2022-02-13T11:50:12.251Z"
   },
   {
    "duration": 17,
    "start_time": "2022-02-13T11:50:12.265Z"
   },
   {
    "duration": 36,
    "start_time": "2022-02-13T11:50:12.284Z"
   },
   {
    "duration": 17,
    "start_time": "2022-02-13T11:50:12.322Z"
   },
   {
    "duration": 7,
    "start_time": "2022-02-13T11:50:12.342Z"
   },
   {
    "duration": 8,
    "start_time": "2022-02-13T11:50:12.351Z"
   },
   {
    "duration": 66,
    "start_time": "2022-02-13T11:50:12.360Z"
   },
   {
    "duration": 15,
    "start_time": "2022-02-13T11:50:12.428Z"
   },
   {
    "duration": 14,
    "start_time": "2022-02-13T11:50:12.444Z"
   },
   {
    "duration": 17,
    "start_time": "2022-02-13T11:50:12.462Z"
   },
   {
    "duration": 41,
    "start_time": "2022-02-13T11:50:12.481Z"
   },
   {
    "duration": 12,
    "start_time": "2022-02-13T11:50:12.523Z"
   },
   {
    "duration": 11,
    "start_time": "2022-02-13T11:50:12.537Z"
   },
   {
    "duration": 16,
    "start_time": "2022-02-13T11:50:12.549Z"
   },
   {
    "duration": 55,
    "start_time": "2022-02-13T11:50:12.567Z"
   },
   {
    "duration": 20,
    "start_time": "2022-02-13T11:50:12.624Z"
   },
   {
    "duration": 3,
    "start_time": "2022-02-13T11:52:24.266Z"
   },
   {
    "duration": 60,
    "start_time": "2022-02-13T11:59:22.417Z"
   },
   {
    "duration": 573,
    "start_time": "2022-02-13T13:01:05.233Z"
   },
   {
    "duration": 73,
    "start_time": "2022-02-13T13:01:05.809Z"
   },
   {
    "duration": 18,
    "start_time": "2022-02-13T13:01:05.884Z"
   },
   {
    "duration": 51,
    "start_time": "2022-02-13T13:01:05.913Z"
   },
   {
    "duration": 4,
    "start_time": "2022-02-13T13:01:05.965Z"
   },
   {
    "duration": 5,
    "start_time": "2022-02-13T13:01:05.971Z"
   },
   {
    "duration": 43,
    "start_time": "2022-02-13T13:01:05.978Z"
   },
   {
    "duration": 31,
    "start_time": "2022-02-13T13:01:06.024Z"
   },
   {
    "duration": 16,
    "start_time": "2022-02-13T13:01:06.057Z"
   },
   {
    "duration": 12,
    "start_time": "2022-02-13T13:01:06.075Z"
   },
   {
    "duration": 27,
    "start_time": "2022-02-13T13:01:06.113Z"
   },
   {
    "duration": 7,
    "start_time": "2022-02-13T13:01:06.142Z"
   },
   {
    "duration": 7,
    "start_time": "2022-02-13T13:01:06.151Z"
   },
   {
    "duration": 7,
    "start_time": "2022-02-13T13:01:06.160Z"
   },
   {
    "duration": 51,
    "start_time": "2022-02-13T13:01:06.169Z"
   },
   {
    "duration": 28,
    "start_time": "2022-02-13T13:01:06.223Z"
   },
   {
    "duration": 18,
    "start_time": "2022-02-13T13:01:06.253Z"
   },
   {
    "duration": 7,
    "start_time": "2022-02-13T13:01:06.273Z"
   },
   {
    "duration": 34,
    "start_time": "2022-02-13T13:01:06.282Z"
   },
   {
    "duration": 22,
    "start_time": "2022-02-13T13:01:06.318Z"
   },
   {
    "duration": 13,
    "start_time": "2022-02-13T13:01:06.341Z"
   },
   {
    "duration": 13,
    "start_time": "2022-02-13T13:01:06.356Z"
   },
   {
    "duration": 48,
    "start_time": "2022-02-13T13:01:06.372Z"
   },
   {
    "duration": 10,
    "start_time": "2022-02-13T13:01:06.422Z"
   },
   {
    "duration": 13,
    "start_time": "2022-02-13T13:01:06.434Z"
   },
   {
    "duration": 11,
    "start_time": "2022-02-13T13:01:06.449Z"
   },
   {
    "duration": 15,
    "start_time": "2022-02-13T13:01:06.462Z"
   },
   {
    "duration": 44,
    "start_time": "2022-02-13T13:01:06.479Z"
   },
   {
    "duration": 13,
    "start_time": "2022-02-13T13:01:06.525Z"
   }
  ],
  "kernelspec": {
   "display_name": "Python 3 (ipykernel)",
   "language": "python",
   "name": "python3"
  },
  "language_info": {
   "codemirror_mode": {
    "name": "ipython",
    "version": 3
   },
   "file_extension": ".py",
   "mimetype": "text/x-python",
   "name": "python",
   "nbconvert_exporter": "python",
   "pygments_lexer": "ipython3",
   "version": "3.7.8"
  },
  "toc": {
   "base_numbering": 1,
   "nav_menu": {},
   "number_sections": true,
   "sideBar": true,
   "skip_h1_title": true,
   "title_cell": "Table of Contents",
   "title_sidebar": "Contents",
   "toc_cell": false,
   "toc_position": {
    "height": "calc(100% - 180px)",
    "left": "10px",
    "top": "150px",
    "width": "292px"
   },
   "toc_section_display": true,
   "toc_window_display": true
  }
 },
 "nbformat": 4,
 "nbformat_minor": 5
}
