{
 "cells": [
  {
   "cell_type": "markdown",
   "metadata": {},
   "source": [
    "# Банки — Анализ оттока клиентов.\n",
    "\n",
    "    \n",
    "# Декомпозиция.\n",
    "\n",
    "\n",
    "# Задача :\n",
    "\n",
    "Проанализируйте клиентов регионального банка и выделите портрет клиентов, которые склонны уходить из банка.\n",
    "\n",
    "1) Загрузка данных и предоработка данных\n",
    "   - Исследовать пропущенные значения;\n",
    "   - Исследовать соответствие типов;\n",
    "   - Исследовать дубликаты;\n",
    "   - Проверить корректность наименований колонок;\n",
    "   - Переименовать колонки;\n",
    "   - Удалить дубликаты;\n",
    "   - Привести типы;\n",
    "   - Заменить пропущенные значения;\n",
    "      \n",
    "2) Исследовательский анализ данных \n",
    "   - Исследовать признаки, изучить средние значения и стандартные отклонения;\n",
    "   - Исследовать выбросы;\n",
    "   - Удалить некорректные данные при необходимости;\n",
    "   \n",
    "3) Портрет клиента\n",
    "   - Разбить клиентов на группы;\n",
    "   - Посмотреть на средние значения признаков в группах; \n",
    "   - Построить графики и распределения признаков для тех;\n",
    "   - Построить матрицу корреляций;\n",
    "   - Опиcать портрет клиента;\n",
    "   - Построить модель прогнозирования оттока пользователей;\n",
    "   - Сделать кластеризацию пользователей;\n",
    "   \n",
    "4) Формулировка и проверка статистических гипотез\n",
    "   - Проверить гипотезы различия дохода между теми клиентами, которые ушли и теми, которые остались.\n",
    "   - Формулирование и проверка статистической гипотезы относительно представленных данных\n",
    "   \n",
    "5) Общий вывод\n",
    "   - Вывод;\n",
    "   - Рекомендации;"
   ]
  },
  {
   "cell_type": "markdown",
   "metadata": {},
   "source": [
    "Колонки:\n",
    "\n",
    "- `user_id` — идентификатор пользователя,\n",
    "- `score` — баллы кредитного скоринга,\n",
    "- `City` — город,\n",
    "- `Gender` — пол,\n",
    "- `Age` — возраст,\n",
    "- `Objects` — количество объектов в собственности,\n",
    "- `Balance` — баланс на счёте,\n",
    "- `Products` — количество продуктов, которыми пользуется клиент,\n",
    "- `Credit_Card` — есть ли кредитная карта,\n",
    "- `Loyalty` — активный клиент,\n",
    "- `estimated_salary` — заработная плата клиента,\n",
    "- `Churn` — ушёл или нет."
   ]
  },
  {
   "cell_type": "markdown",
   "metadata": {},
   "source": [
    "## Загрузка данных и предоработка данных."
   ]
  },
  {
   "cell_type": "code",
   "execution_count": 1,
   "metadata": {
    "scrolled": true
   },
   "outputs": [],
   "source": [
    "# загрузим библиотеки\n",
    "import pandas as pd\n",
    "import seaborn as sns\n",
    "import matplotlib.pyplot as plt\n",
    "from scipy import stats as st\n",
    "\n",
    "from sklearn.linear_model import LogisticRegression\n",
    "from sklearn.ensemble import RandomForestClassifier\n",
    "from sklearn.model_selection import train_test_split\n",
    "from sklearn.metrics import accuracy_score, precision_score, recall_score\n",
    "from sklearn.preprocessing import StandardScaler\n",
    "from sklearn.cluster import KMeans\n",
    "from scipy.cluster.hierarchy import dendrogram, linkage\n",
    "\n",
    "import warnings\n",
    "warnings.filterwarnings(\"ignore\", category=FutureWarning)\n",
    "warnings.filterwarnings(\"ignore\", category=UserWarning)\n",
    "\n",
    "pd.set_option('display.float_format', lambda x: '%.2f' % x) # вывод 2 знака после запятой"
   ]
  },
  {
   "cell_type": "code",
   "execution_count": 2,
   "metadata": {
    "scrolled": true
   },
   "outputs": [
    {
     "data": {
      "text/html": [
       "<div>\n",
       "<style scoped>\n",
       "    .dataframe tbody tr th:only-of-type {\n",
       "        vertical-align: middle;\n",
       "    }\n",
       "\n",
       "    .dataframe tbody tr th {\n",
       "        vertical-align: top;\n",
       "    }\n",
       "\n",
       "    .dataframe thead th {\n",
       "        text-align: right;\n",
       "    }\n",
       "</style>\n",
       "<table border=\"1\" class=\"dataframe\">\n",
       "  <thead>\n",
       "    <tr style=\"text-align: right;\">\n",
       "      <th></th>\n",
       "      <th>userid</th>\n",
       "      <th>score</th>\n",
       "      <th>City</th>\n",
       "      <th>Gender</th>\n",
       "      <th>Age</th>\n",
       "      <th>Objects</th>\n",
       "      <th>Balance</th>\n",
       "      <th>Products</th>\n",
       "      <th>CreditCard</th>\n",
       "      <th>Loyalty</th>\n",
       "      <th>estimated_salary</th>\n",
       "      <th>Churn</th>\n",
       "    </tr>\n",
       "  </thead>\n",
       "  <tbody>\n",
       "    <tr>\n",
       "      <th>0</th>\n",
       "      <td>15677338</td>\n",
       "      <td>619</td>\n",
       "      <td>Ярославль</td>\n",
       "      <td>Ж</td>\n",
       "      <td>42</td>\n",
       "      <td>2</td>\n",
       "      <td>NaN</td>\n",
       "      <td>1</td>\n",
       "      <td>1</td>\n",
       "      <td>1</td>\n",
       "      <td>101348.88</td>\n",
       "      <td>1</td>\n",
       "    </tr>\n",
       "    <tr>\n",
       "      <th>1</th>\n",
       "      <td>15690047</td>\n",
       "      <td>608</td>\n",
       "      <td>Рыбинск</td>\n",
       "      <td>Ж</td>\n",
       "      <td>41</td>\n",
       "      <td>1</td>\n",
       "      <td>83807.86</td>\n",
       "      <td>1</td>\n",
       "      <td>0</td>\n",
       "      <td>1</td>\n",
       "      <td>112542.58</td>\n",
       "      <td>0</td>\n",
       "    </tr>\n",
       "    <tr>\n",
       "      <th>2</th>\n",
       "      <td>15662040</td>\n",
       "      <td>502</td>\n",
       "      <td>Ярославль</td>\n",
       "      <td>Ж</td>\n",
       "      <td>42</td>\n",
       "      <td>8</td>\n",
       "      <td>159660.80</td>\n",
       "      <td>3</td>\n",
       "      <td>1</td>\n",
       "      <td>0</td>\n",
       "      <td>113931.57</td>\n",
       "      <td>1</td>\n",
       "    </tr>\n",
       "    <tr>\n",
       "      <th>3</th>\n",
       "      <td>15744090</td>\n",
       "      <td>699</td>\n",
       "      <td>Ярославль</td>\n",
       "      <td>Ж</td>\n",
       "      <td>39</td>\n",
       "      <td>1</td>\n",
       "      <td>NaN</td>\n",
       "      <td>2</td>\n",
       "      <td>0</td>\n",
       "      <td>0</td>\n",
       "      <td>93826.63</td>\n",
       "      <td>0</td>\n",
       "    </tr>\n",
       "    <tr>\n",
       "      <th>4</th>\n",
       "      <td>15780624</td>\n",
       "      <td>850</td>\n",
       "      <td>Рыбинск</td>\n",
       "      <td>Ж</td>\n",
       "      <td>43</td>\n",
       "      <td>2</td>\n",
       "      <td>125510.82</td>\n",
       "      <td>1</td>\n",
       "      <td>1</td>\n",
       "      <td>1</td>\n",
       "      <td>79084.10</td>\n",
       "      <td>0</td>\n",
       "    </tr>\n",
       "  </tbody>\n",
       "</table>\n",
       "</div>"
      ],
      "text/plain": [
       "     userid  score       City Gender  Age  Objects   Balance  Products  \\\n",
       "0  15677338    619  Ярославль      Ж   42        2       NaN         1   \n",
       "1  15690047    608    Рыбинск      Ж   41        1  83807.86         1   \n",
       "2  15662040    502  Ярославль      Ж   42        8 159660.80         3   \n",
       "3  15744090    699  Ярославль      Ж   39        1       NaN         2   \n",
       "4  15780624    850    Рыбинск      Ж   43        2 125510.82         1   \n",
       "\n",
       "   CreditCard  Loyalty  estimated_salary  Churn  \n",
       "0           1        1         101348.88      1  \n",
       "1           0        1         112542.58      0  \n",
       "2           1        0         113931.57      1  \n",
       "3           0        0          93826.63      0  \n",
       "4           1        1          79084.10      0  "
      ]
     },
     "metadata": {},
     "output_type": "display_data"
    }
   ],
   "source": [
    "# загрузим файл\n",
    "#df=pd.read_csv(r'C:\\Users\\categoria\\Downloads\\bank_dataset.csv') # загрузка локально\n",
    "df=pd.read_csv('/datasets/bank_dataset.csv') # для практикума\n",
    "display(df.head())"
   ]
  },
  {
   "cell_type": "code",
   "execution_count": 3,
   "metadata": {
    "scrolled": true
   },
   "outputs": [
    {
     "name": "stdout",
     "output_type": "stream",
     "text": [
      "<class 'pandas.core.frame.DataFrame'>\n",
      "RangeIndex: 10000 entries, 0 to 9999\n",
      "Data columns (total 12 columns):\n",
      " #   Column            Non-Null Count  Dtype  \n",
      "---  ------            --------------  -----  \n",
      " 0   userid            10000 non-null  int64  \n",
      " 1   score             10000 non-null  int64  \n",
      " 2   City              10000 non-null  object \n",
      " 3   Gender            10000 non-null  object \n",
      " 4   Age               10000 non-null  int64  \n",
      " 5   Objects           10000 non-null  int64  \n",
      " 6   Balance           6383 non-null   float64\n",
      " 7   Products          10000 non-null  int64  \n",
      " 8   CreditCard        10000 non-null  int64  \n",
      " 9   Loyalty           10000 non-null  int64  \n",
      " 10  estimated_salary  10000 non-null  float64\n",
      " 11  Churn             10000 non-null  int64  \n",
      "dtypes: float64(2), int64(8), object(2)\n",
      "memory usage: 937.6+ KB\n"
     ]
    }
   ],
   "source": [
    "df.info()"
   ]
  },
  {
   "cell_type": "markdown",
   "metadata": {},
   "source": [
    "Баланс имеет большое кол-во пустых значений.\n",
    "\n",
    "Типы значений соответствуют."
   ]
  },
  {
   "cell_type": "code",
   "execution_count": 4,
   "metadata": {
    "scrolled": true
   },
   "outputs": [
    {
     "data": {
      "text/html": [
       "<div>\n",
       "<style scoped>\n",
       "    .dataframe tbody tr th:only-of-type {\n",
       "        vertical-align: middle;\n",
       "    }\n",
       "\n",
       "    .dataframe tbody tr th {\n",
       "        vertical-align: top;\n",
       "    }\n",
       "\n",
       "    .dataframe thead th {\n",
       "        text-align: right;\n",
       "    }\n",
       "</style>\n",
       "<table border=\"1\" class=\"dataframe\">\n",
       "  <thead>\n",
       "    <tr style=\"text-align: right;\">\n",
       "      <th></th>\n",
       "      <th>userid</th>\n",
       "      <th>score</th>\n",
       "      <th>city</th>\n",
       "      <th>gender</th>\n",
       "      <th>age</th>\n",
       "      <th>objects</th>\n",
       "      <th>balance</th>\n",
       "      <th>products</th>\n",
       "      <th>creditcard</th>\n",
       "      <th>loyalty</th>\n",
       "      <th>estimated_salary</th>\n",
       "      <th>churn</th>\n",
       "    </tr>\n",
       "  </thead>\n",
       "  <tbody>\n",
       "    <tr>\n",
       "      <th>0</th>\n",
       "      <td>15677338</td>\n",
       "      <td>619</td>\n",
       "      <td>Ярославль</td>\n",
       "      <td>Ж</td>\n",
       "      <td>42</td>\n",
       "      <td>2</td>\n",
       "      <td>NaN</td>\n",
       "      <td>1</td>\n",
       "      <td>1</td>\n",
       "      <td>1</td>\n",
       "      <td>101348.88</td>\n",
       "      <td>1</td>\n",
       "    </tr>\n",
       "    <tr>\n",
       "      <th>1</th>\n",
       "      <td>15690047</td>\n",
       "      <td>608</td>\n",
       "      <td>Рыбинск</td>\n",
       "      <td>Ж</td>\n",
       "      <td>41</td>\n",
       "      <td>1</td>\n",
       "      <td>83807.86</td>\n",
       "      <td>1</td>\n",
       "      <td>0</td>\n",
       "      <td>1</td>\n",
       "      <td>112542.58</td>\n",
       "      <td>0</td>\n",
       "    </tr>\n",
       "    <tr>\n",
       "      <th>2</th>\n",
       "      <td>15662040</td>\n",
       "      <td>502</td>\n",
       "      <td>Ярославль</td>\n",
       "      <td>Ж</td>\n",
       "      <td>42</td>\n",
       "      <td>8</td>\n",
       "      <td>159660.80</td>\n",
       "      <td>3</td>\n",
       "      <td>1</td>\n",
       "      <td>0</td>\n",
       "      <td>113931.57</td>\n",
       "      <td>1</td>\n",
       "    </tr>\n",
       "    <tr>\n",
       "      <th>3</th>\n",
       "      <td>15744090</td>\n",
       "      <td>699</td>\n",
       "      <td>Ярославль</td>\n",
       "      <td>Ж</td>\n",
       "      <td>39</td>\n",
       "      <td>1</td>\n",
       "      <td>NaN</td>\n",
       "      <td>2</td>\n",
       "      <td>0</td>\n",
       "      <td>0</td>\n",
       "      <td>93826.63</td>\n",
       "      <td>0</td>\n",
       "    </tr>\n",
       "    <tr>\n",
       "      <th>4</th>\n",
       "      <td>15780624</td>\n",
       "      <td>850</td>\n",
       "      <td>Рыбинск</td>\n",
       "      <td>Ж</td>\n",
       "      <td>43</td>\n",
       "      <td>2</td>\n",
       "      <td>125510.82</td>\n",
       "      <td>1</td>\n",
       "      <td>1</td>\n",
       "      <td>1</td>\n",
       "      <td>79084.10</td>\n",
       "      <td>0</td>\n",
       "    </tr>\n",
       "  </tbody>\n",
       "</table>\n",
       "</div>"
      ],
      "text/plain": [
       "     userid  score       city gender  age  objects   balance  products  \\\n",
       "0  15677338    619  Ярославль      Ж   42        2       NaN         1   \n",
       "1  15690047    608    Рыбинск      Ж   41        1  83807.86         1   \n",
       "2  15662040    502  Ярославль      Ж   42        8 159660.80         3   \n",
       "3  15744090    699  Ярославль      Ж   39        1       NaN         2   \n",
       "4  15780624    850    Рыбинск      Ж   43        2 125510.82         1   \n",
       "\n",
       "   creditcard  loyalty  estimated_salary  churn  \n",
       "0           1        1         101348.88      1  \n",
       "1           0        1         112542.58      0  \n",
       "2           1        0         113931.57      1  \n",
       "3           0        0          93826.63      0  \n",
       "4           1        1          79084.10      0  "
      ]
     },
     "metadata": {},
     "output_type": "display_data"
    }
   ],
   "source": [
    "# приведем названия столбцов в нижний регистр\n",
    "df.columns=df.columns.str.lower()\n",
    "display(df.head())"
   ]
  },
  {
   "cell_type": "code",
   "execution_count": 5,
   "metadata": {
    "scrolled": true
   },
   "outputs": [
    {
     "data": {
      "text/html": [
       "<div>\n",
       "<style scoped>\n",
       "    .dataframe tbody tr th:only-of-type {\n",
       "        vertical-align: middle;\n",
       "    }\n",
       "\n",
       "    .dataframe tbody tr th {\n",
       "        vertical-align: top;\n",
       "    }\n",
       "\n",
       "    .dataframe thead th {\n",
       "        text-align: right;\n",
       "    }\n",
       "</style>\n",
       "<table border=\"1\" class=\"dataframe\">\n",
       "  <thead>\n",
       "    <tr style=\"text-align: right;\">\n",
       "      <th></th>\n",
       "      <th>user_id</th>\n",
       "      <th>score</th>\n",
       "      <th>city</th>\n",
       "      <th>gender</th>\n",
       "      <th>age</th>\n",
       "      <th>objects</th>\n",
       "      <th>balance</th>\n",
       "      <th>products</th>\n",
       "      <th>credit_card</th>\n",
       "      <th>loyalty</th>\n",
       "      <th>estimated_salary</th>\n",
       "      <th>churn</th>\n",
       "    </tr>\n",
       "  </thead>\n",
       "  <tbody>\n",
       "    <tr>\n",
       "      <th>0</th>\n",
       "      <td>15677338</td>\n",
       "      <td>619</td>\n",
       "      <td>Ярославль</td>\n",
       "      <td>Ж</td>\n",
       "      <td>42</td>\n",
       "      <td>2</td>\n",
       "      <td>NaN</td>\n",
       "      <td>1</td>\n",
       "      <td>1</td>\n",
       "      <td>1</td>\n",
       "      <td>101348.88</td>\n",
       "      <td>1</td>\n",
       "    </tr>\n",
       "    <tr>\n",
       "      <th>1</th>\n",
       "      <td>15690047</td>\n",
       "      <td>608</td>\n",
       "      <td>Рыбинск</td>\n",
       "      <td>Ж</td>\n",
       "      <td>41</td>\n",
       "      <td>1</td>\n",
       "      <td>83807.86</td>\n",
       "      <td>1</td>\n",
       "      <td>0</td>\n",
       "      <td>1</td>\n",
       "      <td>112542.58</td>\n",
       "      <td>0</td>\n",
       "    </tr>\n",
       "    <tr>\n",
       "      <th>2</th>\n",
       "      <td>15662040</td>\n",
       "      <td>502</td>\n",
       "      <td>Ярославль</td>\n",
       "      <td>Ж</td>\n",
       "      <td>42</td>\n",
       "      <td>8</td>\n",
       "      <td>159660.80</td>\n",
       "      <td>3</td>\n",
       "      <td>1</td>\n",
       "      <td>0</td>\n",
       "      <td>113931.57</td>\n",
       "      <td>1</td>\n",
       "    </tr>\n",
       "    <tr>\n",
       "      <th>3</th>\n",
       "      <td>15744090</td>\n",
       "      <td>699</td>\n",
       "      <td>Ярославль</td>\n",
       "      <td>Ж</td>\n",
       "      <td>39</td>\n",
       "      <td>1</td>\n",
       "      <td>NaN</td>\n",
       "      <td>2</td>\n",
       "      <td>0</td>\n",
       "      <td>0</td>\n",
       "      <td>93826.63</td>\n",
       "      <td>0</td>\n",
       "    </tr>\n",
       "    <tr>\n",
       "      <th>4</th>\n",
       "      <td>15780624</td>\n",
       "      <td>850</td>\n",
       "      <td>Рыбинск</td>\n",
       "      <td>Ж</td>\n",
       "      <td>43</td>\n",
       "      <td>2</td>\n",
       "      <td>125510.82</td>\n",
       "      <td>1</td>\n",
       "      <td>1</td>\n",
       "      <td>1</td>\n",
       "      <td>79084.10</td>\n",
       "      <td>0</td>\n",
       "    </tr>\n",
       "  </tbody>\n",
       "</table>\n",
       "</div>"
      ],
      "text/plain": [
       "    user_id  score       city gender  age  objects   balance  products  \\\n",
       "0  15677338    619  Ярославль      Ж   42        2       NaN         1   \n",
       "1  15690047    608    Рыбинск      Ж   41        1  83807.86         1   \n",
       "2  15662040    502  Ярославль      Ж   42        8 159660.80         3   \n",
       "3  15744090    699  Ярославль      Ж   39        1       NaN         2   \n",
       "4  15780624    850    Рыбинск      Ж   43        2 125510.82         1   \n",
       "\n",
       "   credit_card  loyalty  estimated_salary  churn  \n",
       "0            1        1         101348.88      1  \n",
       "1            0        1         112542.58      0  \n",
       "2            1        0         113931.57      1  \n",
       "3            0        0          93826.63      0  \n",
       "4            1        1          79084.10      0  "
      ]
     },
     "metadata": {},
     "output_type": "display_data"
    }
   ],
   "source": [
    "# переименуем столбцы\n",
    "df.rename(columns = {'userid' : 'user_id', 'creditcard' : 'credit_card'}, inplace = True)\n",
    "display(df.head())"
   ]
  },
  {
   "cell_type": "code",
   "execution_count": 6,
   "metadata": {
    "scrolled": true
   },
   "outputs": [
    {
     "data": {
      "text/plain": [
       "0"
      ]
     },
     "execution_count": 6,
     "metadata": {},
     "output_type": "execute_result"
    }
   ],
   "source": [
    "df.duplicated().sum()"
   ]
  },
  {
   "cell_type": "markdown",
   "metadata": {},
   "source": [
    "Дубликатов нет."
   ]
  },
  {
   "cell_type": "code",
   "execution_count": 7,
   "metadata": {},
   "outputs": [
    {
     "data": {
      "text/html": [
       "<div>\n",
       "<style scoped>\n",
       "    .dataframe tbody tr th:only-of-type {\n",
       "        vertical-align: middle;\n",
       "    }\n",
       "\n",
       "    .dataframe tbody tr th {\n",
       "        vertical-align: top;\n",
       "    }\n",
       "\n",
       "    .dataframe thead th {\n",
       "        text-align: right;\n",
       "    }\n",
       "</style>\n",
       "<table border=\"1\" class=\"dataframe\">\n",
       "  <thead>\n",
       "    <tr style=\"text-align: right;\">\n",
       "      <th></th>\n",
       "      <th>user_id</th>\n",
       "      <th>score</th>\n",
       "      <th>city</th>\n",
       "      <th>gender</th>\n",
       "      <th>age</th>\n",
       "      <th>objects</th>\n",
       "      <th>balance</th>\n",
       "      <th>products</th>\n",
       "      <th>credit_card</th>\n",
       "      <th>loyalty</th>\n",
       "      <th>estimated_salary</th>\n",
       "      <th>churn</th>\n",
       "    </tr>\n",
       "  </thead>\n",
       "  <tbody>\n",
       "    <tr>\n",
       "      <th>0</th>\n",
       "      <td>15677338</td>\n",
       "      <td>619</td>\n",
       "      <td>Ярославль</td>\n",
       "      <td>Ж</td>\n",
       "      <td>42</td>\n",
       "      <td>2</td>\n",
       "      <td>NaN</td>\n",
       "      <td>1</td>\n",
       "      <td>1</td>\n",
       "      <td>1</td>\n",
       "      <td>101348.88</td>\n",
       "      <td>1</td>\n",
       "    </tr>\n",
       "    <tr>\n",
       "      <th>3</th>\n",
       "      <td>15744090</td>\n",
       "      <td>699</td>\n",
       "      <td>Ярославль</td>\n",
       "      <td>Ж</td>\n",
       "      <td>39</td>\n",
       "      <td>1</td>\n",
       "      <td>NaN</td>\n",
       "      <td>2</td>\n",
       "      <td>0</td>\n",
       "      <td>0</td>\n",
       "      <td>93826.63</td>\n",
       "      <td>0</td>\n",
       "    </tr>\n",
       "    <tr>\n",
       "      <th>6</th>\n",
       "      <td>15635267</td>\n",
       "      <td>822</td>\n",
       "      <td>Ярославль</td>\n",
       "      <td>М</td>\n",
       "      <td>50</td>\n",
       "      <td>7</td>\n",
       "      <td>NaN</td>\n",
       "      <td>2</td>\n",
       "      <td>1</td>\n",
       "      <td>1</td>\n",
       "      <td>10062.80</td>\n",
       "      <td>0</td>\n",
       "    </tr>\n",
       "    <tr>\n",
       "      <th>11</th>\n",
       "      <td>15779909</td>\n",
       "      <td>497</td>\n",
       "      <td>Рыбинск</td>\n",
       "      <td>М</td>\n",
       "      <td>24</td>\n",
       "      <td>3</td>\n",
       "      <td>NaN</td>\n",
       "      <td>2</td>\n",
       "      <td>1</td>\n",
       "      <td>0</td>\n",
       "      <td>76390.01</td>\n",
       "      <td>0</td>\n",
       "    </tr>\n",
       "    <tr>\n",
       "      <th>12</th>\n",
       "      <td>15675000</td>\n",
       "      <td>476</td>\n",
       "      <td>Ярославль</td>\n",
       "      <td>Ж</td>\n",
       "      <td>34</td>\n",
       "      <td>10</td>\n",
       "      <td>NaN</td>\n",
       "      <td>2</td>\n",
       "      <td>1</td>\n",
       "      <td>0</td>\n",
       "      <td>26260.98</td>\n",
       "      <td>0</td>\n",
       "    </tr>\n",
       "  </tbody>\n",
       "</table>\n",
       "</div>"
      ],
      "text/plain": [
       "     user_id  score       city gender  age  objects  balance  products  \\\n",
       "0   15677338    619  Ярославль      Ж   42        2      NaN         1   \n",
       "3   15744090    699  Ярославль      Ж   39        1      NaN         2   \n",
       "6   15635267    822  Ярославль      М   50        7      NaN         2   \n",
       "11  15779909    497    Рыбинск      М   24        3      NaN         2   \n",
       "12  15675000    476  Ярославль      Ж   34       10      NaN         2   \n",
       "\n",
       "    credit_card  loyalty  estimated_salary  churn  \n",
       "0             1        1         101348.88      1  \n",
       "3             0        0          93826.63      0  \n",
       "6             1        1          10062.80      0  \n",
       "11            1        0          76390.01      0  \n",
       "12            1        0          26260.98      0  "
      ]
     },
     "metadata": {},
     "output_type": "display_data"
    }
   ],
   "source": [
    "# выделим данные об клиентах с отсутствующем балансом\n",
    "df_nan = df[df['balance'].isna()]\n",
    "display(df_nan.head())"
   ]
  },
  {
   "cell_type": "code",
   "execution_count": 8,
   "metadata": {},
   "outputs": [
    {
     "data": {
      "text/plain": [
       "850    78\n",
       "678    26\n",
       "711    20\n",
       "655    20\n",
       "663    20\n",
       "       ..\n",
       "824     1\n",
       "822     1\n",
       "491     1\n",
       "470     1\n",
       "816     1\n",
       "Name: score, Length: 434, dtype: int64"
      ]
     },
     "metadata": {},
     "output_type": "display_data"
    },
    {
     "data": {
      "text/plain": [
       "Ярославль    2418\n",
       "Рыбинск      1199\n",
       "Name: city, dtype: int64"
      ]
     },
     "metadata": {},
     "output_type": "display_data"
    },
    {
     "data": {
      "text/plain": [
       "М    1963\n",
       "Ж    1654\n",
       "Name: gender, dtype: int64"
      ]
     },
     "metadata": {},
     "output_type": "display_data"
    },
    {
     "data": {
      "text/plain": [
       "34    178\n",
       "36    176\n",
       "38    175\n",
       "35    172\n",
       "37    168\n",
       "     ... \n",
       "88      1\n",
       "82      1\n",
       "78      1\n",
       "76      1\n",
       "85      1\n",
       "Name: age, Length: 67, dtype: int64"
      ]
     },
     "metadata": {},
     "output_type": "display_data"
    },
    {
     "data": {
      "text/plain": [
       "7     386\n",
       "2     382\n",
       "5     374\n",
       "4     369\n",
       "6     367\n",
       "8     363\n",
       "9     360\n",
       "3     352\n",
       "1     349\n",
       "10    178\n",
       "0     137\n",
       "Name: objects, dtype: int64"
      ]
     },
     "metadata": {},
     "output_type": "display_data"
    },
    {
     "data": {
      "text/plain": [
       "2    2600\n",
       "1     905\n",
       "3      98\n",
       "4      14\n",
       "Name: products, dtype: int64"
      ]
     },
     "metadata": {},
     "output_type": "display_data"
    },
    {
     "data": {
      "text/plain": [
       "1    2592\n",
       "0    1025\n",
       "Name: credit_card, dtype: int64"
      ]
     },
     "metadata": {},
     "output_type": "display_data"
    },
    {
     "data": {
      "text/plain": [
       "1    1873\n",
       "0    1744\n",
       "Name: loyalty, dtype: int64"
      ]
     },
     "metadata": {},
     "output_type": "display_data"
    },
    {
     "data": {
      "text/plain": [
       "0    3117\n",
       "1     500\n",
       "Name: churn, dtype: int64"
      ]
     },
     "metadata": {},
     "output_type": "display_data"
    }
   ],
   "source": [
    "display(df_nan['score'].value_counts())\n",
    "display(df_nan['city'].value_counts())\n",
    "display(df_nan['gender'].value_counts())\n",
    "display(df_nan['age'].value_counts())\n",
    "display(df_nan['objects'].value_counts())\n",
    "display(df_nan['products'].value_counts())\n",
    "display(df_nan['credit_card'].value_counts())\n",
    "display(df_nan['loyalty'].value_counts())\n",
    "display(df_nan['churn'].value_counts())"
   ]
  },
  {
   "cell_type": "code",
   "execution_count": 9,
   "metadata": {},
   "outputs": [
    {
     "data": {
      "text/html": [
       "<div>\n",
       "<style scoped>\n",
       "    .dataframe tbody tr th:only-of-type {\n",
       "        vertical-align: middle;\n",
       "    }\n",
       "\n",
       "    .dataframe tbody tr th {\n",
       "        vertical-align: top;\n",
       "    }\n",
       "\n",
       "    .dataframe thead th {\n",
       "        text-align: right;\n",
       "    }\n",
       "</style>\n",
       "<table border=\"1\" class=\"dataframe\">\n",
       "  <thead>\n",
       "    <tr style=\"text-align: right;\">\n",
       "      <th></th>\n",
       "      <th>user_id</th>\n",
       "      <th>score</th>\n",
       "      <th>age</th>\n",
       "      <th>objects</th>\n",
       "      <th>balance</th>\n",
       "      <th>products</th>\n",
       "      <th>credit_card</th>\n",
       "      <th>loyalty</th>\n",
       "      <th>estimated_salary</th>\n",
       "      <th>churn</th>\n",
       "    </tr>\n",
       "  </thead>\n",
       "  <tbody>\n",
       "    <tr>\n",
       "      <th>count</th>\n",
       "      <td>3617.00</td>\n",
       "      <td>3617.00</td>\n",
       "      <td>3617.00</td>\n",
       "      <td>3617.00</td>\n",
       "      <td>0.00</td>\n",
       "      <td>3617.00</td>\n",
       "      <td>3617.00</td>\n",
       "      <td>3617.00</td>\n",
       "      <td>3617.00</td>\n",
       "      <td>3617.00</td>\n",
       "    </tr>\n",
       "    <tr>\n",
       "      <th>mean</th>\n",
       "      <td>15734685.59</td>\n",
       "      <td>649.45</td>\n",
       "      <td>38.43</td>\n",
       "      <td>5.07</td>\n",
       "      <td>NaN</td>\n",
       "      <td>1.78</td>\n",
       "      <td>0.72</td>\n",
       "      <td>0.52</td>\n",
       "      <td>98983.56</td>\n",
       "      <td>0.14</td>\n",
       "    </tr>\n",
       "    <tr>\n",
       "      <th>std</th>\n",
       "      <td>71947.49</td>\n",
       "      <td>96.16</td>\n",
       "      <td>10.49</td>\n",
       "      <td>2.86</td>\n",
       "      <td>NaN</td>\n",
       "      <td>0.50</td>\n",
       "      <td>0.45</td>\n",
       "      <td>0.50</td>\n",
       "      <td>57730.83</td>\n",
       "      <td>0.35</td>\n",
       "    </tr>\n",
       "    <tr>\n",
       "      <th>min</th>\n",
       "      <td>15608442.00</td>\n",
       "      <td>350.00</td>\n",
       "      <td>18.00</td>\n",
       "      <td>0.00</td>\n",
       "      <td>NaN</td>\n",
       "      <td>1.00</td>\n",
       "      <td>0.00</td>\n",
       "      <td>0.00</td>\n",
       "      <td>90.07</td>\n",
       "      <td>0.00</td>\n",
       "    </tr>\n",
       "    <tr>\n",
       "      <th>25%</th>\n",
       "      <td>15672255.00</td>\n",
       "      <td>583.00</td>\n",
       "      <td>31.00</td>\n",
       "      <td>3.00</td>\n",
       "      <td>NaN</td>\n",
       "      <td>1.00</td>\n",
       "      <td>0.00</td>\n",
       "      <td>0.00</td>\n",
       "      <td>49506.82</td>\n",
       "      <td>0.00</td>\n",
       "    </tr>\n",
       "    <tr>\n",
       "      <th>50%</th>\n",
       "      <td>15736083.00</td>\n",
       "      <td>651.00</td>\n",
       "      <td>37.00</td>\n",
       "      <td>5.00</td>\n",
       "      <td>NaN</td>\n",
       "      <td>2.00</td>\n",
       "      <td>1.00</td>\n",
       "      <td>1.00</td>\n",
       "      <td>98618.79</td>\n",
       "      <td>0.00</td>\n",
       "    </tr>\n",
       "    <tr>\n",
       "      <th>75%</th>\n",
       "      <td>15796286.00</td>\n",
       "      <td>717.00</td>\n",
       "      <td>43.00</td>\n",
       "      <td>7.00</td>\n",
       "      <td>NaN</td>\n",
       "      <td>2.00</td>\n",
       "      <td>1.00</td>\n",
       "      <td>1.00</td>\n",
       "      <td>148330.97</td>\n",
       "      <td>0.00</td>\n",
       "    </tr>\n",
       "    <tr>\n",
       "      <th>max</th>\n",
       "      <td>15858100.00</td>\n",
       "      <td>850.00</td>\n",
       "      <td>88.00</td>\n",
       "      <td>10.00</td>\n",
       "      <td>NaN</td>\n",
       "      <td>4.00</td>\n",
       "      <td>1.00</td>\n",
       "      <td>1.00</td>\n",
       "      <td>199992.48</td>\n",
       "      <td>1.00</td>\n",
       "    </tr>\n",
       "  </tbody>\n",
       "</table>\n",
       "</div>"
      ],
      "text/plain": [
       "          user_id   score     age  objects  balance  products  credit_card  \\\n",
       "count     3617.00 3617.00 3617.00  3617.00     0.00   3617.00      3617.00   \n",
       "mean  15734685.59  649.45   38.43     5.07      NaN      1.78         0.72   \n",
       "std      71947.49   96.16   10.49     2.86      NaN      0.50         0.45   \n",
       "min   15608442.00  350.00   18.00     0.00      NaN      1.00         0.00   \n",
       "25%   15672255.00  583.00   31.00     3.00      NaN      1.00         0.00   \n",
       "50%   15736083.00  651.00   37.00     5.00      NaN      2.00         1.00   \n",
       "75%   15796286.00  717.00   43.00     7.00      NaN      2.00         1.00   \n",
       "max   15858100.00  850.00   88.00    10.00      NaN      4.00         1.00   \n",
       "\n",
       "       loyalty  estimated_salary   churn  \n",
       "count  3617.00           3617.00 3617.00  \n",
       "mean      0.52          98983.56    0.14  \n",
       "std       0.50          57730.83    0.35  \n",
       "min       0.00             90.07    0.00  \n",
       "25%       0.00          49506.82    0.00  \n",
       "50%       1.00          98618.79    0.00  \n",
       "75%       1.00         148330.97    0.00  \n",
       "max       1.00         199992.48    1.00  "
      ]
     },
     "execution_count": 9,
     "metadata": {},
     "output_type": "execute_result"
    }
   ],
   "source": [
    "df_nan.describe()"
   ]
  },
  {
   "cell_type": "code",
   "execution_count": 10,
   "metadata": {},
   "outputs": [
    {
     "data": {
      "text/html": [
       "<div>\n",
       "<style scoped>\n",
       "    .dataframe tbody tr th:only-of-type {\n",
       "        vertical-align: middle;\n",
       "    }\n",
       "\n",
       "    .dataframe tbody tr th {\n",
       "        vertical-align: top;\n",
       "    }\n",
       "\n",
       "    .dataframe thead th {\n",
       "        text-align: right;\n",
       "    }\n",
       "</style>\n",
       "<table border=\"1\" class=\"dataframe\">\n",
       "  <thead>\n",
       "    <tr style=\"text-align: right;\">\n",
       "      <th></th>\n",
       "      <th>user_id</th>\n",
       "      <th>score</th>\n",
       "      <th>city</th>\n",
       "      <th>gender</th>\n",
       "      <th>age</th>\n",
       "      <th>objects</th>\n",
       "      <th>balance</th>\n",
       "      <th>products</th>\n",
       "      <th>credit_card</th>\n",
       "      <th>loyalty</th>\n",
       "      <th>estimated_salary</th>\n",
       "      <th>churn</th>\n",
       "    </tr>\n",
       "  </thead>\n",
       "  <tbody>\n",
       "    <tr>\n",
       "      <th>1</th>\n",
       "      <td>15690047</td>\n",
       "      <td>608</td>\n",
       "      <td>Рыбинск</td>\n",
       "      <td>Ж</td>\n",
       "      <td>41</td>\n",
       "      <td>1</td>\n",
       "      <td>83807.86</td>\n",
       "      <td>1</td>\n",
       "      <td>0</td>\n",
       "      <td>1</td>\n",
       "      <td>112542.58</td>\n",
       "      <td>0</td>\n",
       "    </tr>\n",
       "    <tr>\n",
       "      <th>2</th>\n",
       "      <td>15662040</td>\n",
       "      <td>502</td>\n",
       "      <td>Ярославль</td>\n",
       "      <td>Ж</td>\n",
       "      <td>42</td>\n",
       "      <td>8</td>\n",
       "      <td>159660.80</td>\n",
       "      <td>3</td>\n",
       "      <td>1</td>\n",
       "      <td>0</td>\n",
       "      <td>113931.57</td>\n",
       "      <td>1</td>\n",
       "    </tr>\n",
       "    <tr>\n",
       "      <th>4</th>\n",
       "      <td>15780624</td>\n",
       "      <td>850</td>\n",
       "      <td>Рыбинск</td>\n",
       "      <td>Ж</td>\n",
       "      <td>43</td>\n",
       "      <td>2</td>\n",
       "      <td>125510.82</td>\n",
       "      <td>1</td>\n",
       "      <td>1</td>\n",
       "      <td>1</td>\n",
       "      <td>79084.10</td>\n",
       "      <td>0</td>\n",
       "    </tr>\n",
       "    <tr>\n",
       "      <th>5</th>\n",
       "      <td>15616748</td>\n",
       "      <td>645</td>\n",
       "      <td>Рыбинск</td>\n",
       "      <td>М</td>\n",
       "      <td>44</td>\n",
       "      <td>8</td>\n",
       "      <td>113755.78</td>\n",
       "      <td>2</td>\n",
       "      <td>1</td>\n",
       "      <td>0</td>\n",
       "      <td>149756.71</td>\n",
       "      <td>1</td>\n",
       "    </tr>\n",
       "    <tr>\n",
       "      <th>7</th>\n",
       "      <td>15698884</td>\n",
       "      <td>376</td>\n",
       "      <td>Ростов Великий</td>\n",
       "      <td>Ж</td>\n",
       "      <td>29</td>\n",
       "      <td>4</td>\n",
       "      <td>115046.74</td>\n",
       "      <td>4</td>\n",
       "      <td>1</td>\n",
       "      <td>0</td>\n",
       "      <td>119346.88</td>\n",
       "      <td>1</td>\n",
       "    </tr>\n",
       "  </tbody>\n",
       "</table>\n",
       "</div>"
      ],
      "text/plain": [
       "    user_id  score            city gender  age  objects   balance  products  \\\n",
       "1  15690047    608         Рыбинск      Ж   41        1  83807.86         1   \n",
       "2  15662040    502       Ярославль      Ж   42        8 159660.80         3   \n",
       "4  15780624    850         Рыбинск      Ж   43        2 125510.82         1   \n",
       "5  15616748    645         Рыбинск      М   44        8 113755.78         2   \n",
       "7  15698884    376  Ростов Великий      Ж   29        4 115046.74         4   \n",
       "\n",
       "   credit_card  loyalty  estimated_salary  churn  \n",
       "1            0        1         112542.58      0  \n",
       "2            1        0         113931.57      1  \n",
       "4            1        1          79084.10      0  \n",
       "5            1        0         149756.71      1  \n",
       "7            1        0         119346.88      1  "
      ]
     },
     "metadata": {},
     "output_type": "display_data"
    }
   ],
   "source": [
    "# выделим данные об клиентах с имеющимся значением баланса\n",
    "df_notnan = df[df['balance'].notna()]\n",
    "display(df_notnan.head())"
   ]
  },
  {
   "cell_type": "code",
   "execution_count": 11,
   "metadata": {},
   "outputs": [
    {
     "data": {
      "text/plain": [
       "850    155\n",
       "684     40\n",
       "705     39\n",
       "678     37\n",
       "660     36\n",
       "      ... \n",
       "351      1\n",
       "830      1\n",
       "386      1\n",
       "358      1\n",
       "376      1\n",
       "Name: score, Length: 450, dtype: int64"
      ]
     },
     "metadata": {},
     "output_type": "display_data"
    },
    {
     "data": {
      "text/plain": [
       "Ярославль         2596\n",
       "Ростов Великий    2509\n",
       "Рыбинск           1278\n",
       "Name: city, dtype: int64"
      ]
     },
     "metadata": {},
     "output_type": "display_data"
    },
    {
     "data": {
      "text/plain": [
       "М    3494\n",
       "Ж    2889\n",
       "Name: gender, dtype: int64"
      ]
     },
     "metadata": {},
     "output_type": "display_data"
    },
    {
     "data": {
      "text/plain": [
       "37    310\n",
       "38    302\n",
       "35    302\n",
       "36    280\n",
       "33    280\n",
       "     ... \n",
       "92      2\n",
       "84      2\n",
       "79      2\n",
       "81      1\n",
       "83      1\n",
       "Name: age, Length: 66, dtype: int64"
      ]
     },
     "metadata": {},
     "output_type": "display_data"
    },
    {
     "data": {
      "text/plain": [
       "1     686\n",
       "2     666\n",
       "8     662\n",
       "3     657\n",
       "7     642\n",
       "5     638\n",
       "9     624\n",
       "4     620\n",
       "6     600\n",
       "10    312\n",
       "0     276\n",
       "Name: objects, dtype: int64"
      ]
     },
     "metadata": {},
     "output_type": "display_data"
    },
    {
     "data": {
      "text/plain": [
       "1    4179\n",
       "2    1990\n",
       "3     168\n",
       "4      46\n",
       "Name: products, dtype: int64"
      ]
     },
     "metadata": {},
     "output_type": "display_data"
    },
    {
     "data": {
      "text/plain": [
       "1    4463\n",
       "0    1920\n",
       "Name: credit_card, dtype: int64"
      ]
     },
     "metadata": {},
     "output_type": "display_data"
    },
    {
     "data": {
      "text/plain": [
       "1    3278\n",
       "0    3105\n",
       "Name: loyalty, dtype: int64"
      ]
     },
     "metadata": {},
     "output_type": "display_data"
    },
    {
     "data": {
      "text/plain": [
       "0    4846\n",
       "1    1537\n",
       "Name: churn, dtype: int64"
      ]
     },
     "metadata": {},
     "output_type": "display_data"
    }
   ],
   "source": [
    "display(df_notnan['score'].value_counts())\n",
    "display(df_notnan['city'].value_counts())\n",
    "display(df_notnan['gender'].value_counts())\n",
    "display(df_notnan['age'].value_counts())\n",
    "display(df_notnan['objects'].value_counts())\n",
    "display(df_notnan['products'].value_counts())\n",
    "display(df_notnan['credit_card'].value_counts())\n",
    "display(df_notnan['loyalty'].value_counts())\n",
    "display(df_notnan['churn'].value_counts())"
   ]
  },
  {
   "cell_type": "code",
   "execution_count": 12,
   "metadata": {},
   "outputs": [
    {
     "data": {
      "text/html": [
       "<div>\n",
       "<style scoped>\n",
       "    .dataframe tbody tr th:only-of-type {\n",
       "        vertical-align: middle;\n",
       "    }\n",
       "\n",
       "    .dataframe tbody tr th {\n",
       "        vertical-align: top;\n",
       "    }\n",
       "\n",
       "    .dataframe thead th {\n",
       "        text-align: right;\n",
       "    }\n",
       "</style>\n",
       "<table border=\"1\" class=\"dataframe\">\n",
       "  <thead>\n",
       "    <tr style=\"text-align: right;\">\n",
       "      <th></th>\n",
       "      <th>user_id</th>\n",
       "      <th>score</th>\n",
       "      <th>age</th>\n",
       "      <th>objects</th>\n",
       "      <th>balance</th>\n",
       "      <th>products</th>\n",
       "      <th>credit_card</th>\n",
       "      <th>loyalty</th>\n",
       "      <th>estimated_salary</th>\n",
       "      <th>churn</th>\n",
       "    </tr>\n",
       "  </thead>\n",
       "  <tbody>\n",
       "    <tr>\n",
       "      <th>count</th>\n",
       "      <td>6383.00</td>\n",
       "      <td>6383.00</td>\n",
       "      <td>6383.00</td>\n",
       "      <td>6383.00</td>\n",
       "      <td>6383.00</td>\n",
       "      <td>6383.00</td>\n",
       "      <td>6383.00</td>\n",
       "      <td>6383.00</td>\n",
       "      <td>6383.00</td>\n",
       "      <td>6383.00</td>\n",
       "    </tr>\n",
       "    <tr>\n",
       "      <th>mean</th>\n",
       "      <td>15733104.80</td>\n",
       "      <td>651.14</td>\n",
       "      <td>39.20</td>\n",
       "      <td>4.98</td>\n",
       "      <td>119827.49</td>\n",
       "      <td>1.39</td>\n",
       "      <td>0.70</td>\n",
       "      <td>0.51</td>\n",
       "      <td>100717.35</td>\n",
       "      <td>0.24</td>\n",
       "    </tr>\n",
       "    <tr>\n",
       "      <th>std</th>\n",
       "      <td>71929.13</td>\n",
       "      <td>96.93</td>\n",
       "      <td>10.48</td>\n",
       "      <td>2.91</td>\n",
       "      <td>30095.06</td>\n",
       "      <td>0.58</td>\n",
       "      <td>0.46</td>\n",
       "      <td>0.50</td>\n",
       "      <td>57380.32</td>\n",
       "      <td>0.43</td>\n",
       "    </tr>\n",
       "    <tr>\n",
       "      <th>min</th>\n",
       "      <td>15608437.00</td>\n",
       "      <td>350.00</td>\n",
       "      <td>18.00</td>\n",
       "      <td>0.00</td>\n",
       "      <td>3768.69</td>\n",
       "      <td>1.00</td>\n",
       "      <td>0.00</td>\n",
       "      <td>0.00</td>\n",
       "      <td>11.58</td>\n",
       "      <td>0.00</td>\n",
       "    </tr>\n",
       "    <tr>\n",
       "      <th>25%</th>\n",
       "      <td>15670940.00</td>\n",
       "      <td>584.00</td>\n",
       "      <td>32.00</td>\n",
       "      <td>2.00</td>\n",
       "      <td>100181.98</td>\n",
       "      <td>1.00</td>\n",
       "      <td>0.00</td>\n",
       "      <td>0.00</td>\n",
       "      <td>51736.85</td>\n",
       "      <td>0.00</td>\n",
       "    </tr>\n",
       "    <tr>\n",
       "      <th>50%</th>\n",
       "      <td>15732262.00</td>\n",
       "      <td>652.00</td>\n",
       "      <td>38.00</td>\n",
       "      <td>5.00</td>\n",
       "      <td>119839.69</td>\n",
       "      <td>1.00</td>\n",
       "      <td>1.00</td>\n",
       "      <td>1.00</td>\n",
       "      <td>101139.30</td>\n",
       "      <td>0.00</td>\n",
       "    </tr>\n",
       "    <tr>\n",
       "      <th>75%</th>\n",
       "      <td>15795842.00</td>\n",
       "      <td>718.00</td>\n",
       "      <td>44.00</td>\n",
       "      <td>8.00</td>\n",
       "      <td>139512.29</td>\n",
       "      <td>2.00</td>\n",
       "      <td>1.00</td>\n",
       "      <td>1.00</td>\n",
       "      <td>149596.61</td>\n",
       "      <td>0.00</td>\n",
       "    </tr>\n",
       "    <tr>\n",
       "      <th>max</th>\n",
       "      <td>15858426.00</td>\n",
       "      <td>850.00</td>\n",
       "      <td>92.00</td>\n",
       "      <td>10.00</td>\n",
       "      <td>250898.09</td>\n",
       "      <td>4.00</td>\n",
       "      <td>1.00</td>\n",
       "      <td>1.00</td>\n",
       "      <td>199970.74</td>\n",
       "      <td>1.00</td>\n",
       "    </tr>\n",
       "  </tbody>\n",
       "</table>\n",
       "</div>"
      ],
      "text/plain": [
       "          user_id   score     age  objects   balance  products  credit_card  \\\n",
       "count     6383.00 6383.00 6383.00  6383.00   6383.00   6383.00      6383.00   \n",
       "mean  15733104.80  651.14   39.20     4.98 119827.49      1.39         0.70   \n",
       "std      71929.13   96.93   10.48     2.91  30095.06      0.58         0.46   \n",
       "min   15608437.00  350.00   18.00     0.00   3768.69      1.00         0.00   \n",
       "25%   15670940.00  584.00   32.00     2.00 100181.98      1.00         0.00   \n",
       "50%   15732262.00  652.00   38.00     5.00 119839.69      1.00         1.00   \n",
       "75%   15795842.00  718.00   44.00     8.00 139512.29      2.00         1.00   \n",
       "max   15858426.00  850.00   92.00    10.00 250898.09      4.00         1.00   \n",
       "\n",
       "       loyalty  estimated_salary   churn  \n",
       "count  6383.00           6383.00 6383.00  \n",
       "mean      0.51         100717.35    0.24  \n",
       "std       0.50          57380.32    0.43  \n",
       "min       0.00             11.58    0.00  \n",
       "25%       0.00          51736.85    0.00  \n",
       "50%       1.00         101139.30    0.00  \n",
       "75%       1.00         149596.61    0.00  \n",
       "max       1.00         199970.74    1.00  "
      ]
     },
     "execution_count": 12,
     "metadata": {},
     "output_type": "execute_result"
    }
   ],
   "source": [
    "df_notnan.describe()"
   ]
  },
  {
   "cell_type": "markdown",
   "metadata": {},
   "source": [
    "Сравним данные без значения баланса, и с значением баланса, возможно мы сможем обнаружить что-то интересное.\n",
    "\n",
    "Основное что бросается в глаза это значение 'city'\n",
    "\n",
    "Данные с NAN в поле баланса:\n",
    "\n",
    "- Ярославль         2418\n",
    "- Ростов Великий       0\n",
    "- Рыбинск           1199\n",
    "\n",
    "Данные с записями в поле баланса:\n",
    "\n",
    "- Ярославль         2596\n",
    "- Ростов Великий    2509\n",
    "- Рыбинск           1278\n",
    "\n",
    "Общее кол-во у нас:\n",
    "\n",
    "- Ярославль         5014\n",
    "- Ростов Великий    2509\n",
    "- Рыбинск           2477\n",
    "\n",
    "Из города Ростов Великий вообще нет данных, Ярославль и Рыбинск половина от записей, остальные значения не "
   ]
  },
  {
   "cell_type": "code",
   "execution_count": 13,
   "metadata": {
    "scrolled": true
   },
   "outputs": [
    {
     "data": {
      "text/plain": [
       "count     6383.00\n",
       "mean    119827.49\n",
       "std      30095.06\n",
       "min       3768.69\n",
       "25%     100181.98\n",
       "50%     119839.69\n",
       "75%     139512.29\n",
       "max     250898.09\n",
       "Name: balance, dtype: float64"
      ]
     },
     "execution_count": 13,
     "metadata": {},
     "output_type": "execute_result"
    }
   ],
   "source": [
    "# описание данных\n",
    "df['balance'].describe()"
   ]
  },
  {
   "cell_type": "markdown",
   "metadata": {},
   "source": [
    "Не думаю что нужно заменять пропущенные значения нулем,это исказит исследования - нуля на балансе ни у кого нет, можно попробовать заменить средним или медианой, у них близкие значения."
   ]
  },
  {
   "cell_type": "code",
   "execution_count": 14,
   "metadata": {
    "scrolled": true
   },
   "outputs": [
    {
     "data": {
      "text/html": [
       "<div>\n",
       "<style scoped>\n",
       "    .dataframe tbody tr th:only-of-type {\n",
       "        vertical-align: middle;\n",
       "    }\n",
       "\n",
       "    .dataframe tbody tr th {\n",
       "        vertical-align: top;\n",
       "    }\n",
       "\n",
       "    .dataframe thead th {\n",
       "        text-align: right;\n",
       "    }\n",
       "</style>\n",
       "<table border=\"1\" class=\"dataframe\">\n",
       "  <thead>\n",
       "    <tr style=\"text-align: right;\">\n",
       "      <th></th>\n",
       "      <th>user_id</th>\n",
       "      <th>score</th>\n",
       "      <th>city</th>\n",
       "      <th>gender</th>\n",
       "      <th>age</th>\n",
       "      <th>objects</th>\n",
       "      <th>balance</th>\n",
       "      <th>products</th>\n",
       "      <th>credit_card</th>\n",
       "      <th>loyalty</th>\n",
       "      <th>estimated_salary</th>\n",
       "      <th>churn</th>\n",
       "    </tr>\n",
       "  </thead>\n",
       "  <tbody>\n",
       "    <tr>\n",
       "      <th>0</th>\n",
       "      <td>15677338</td>\n",
       "      <td>619</td>\n",
       "      <td>Ярославль</td>\n",
       "      <td>Ж</td>\n",
       "      <td>42</td>\n",
       "      <td>2</td>\n",
       "      <td>119827.49</td>\n",
       "      <td>1</td>\n",
       "      <td>1</td>\n",
       "      <td>1</td>\n",
       "      <td>101348.88</td>\n",
       "      <td>1</td>\n",
       "    </tr>\n",
       "    <tr>\n",
       "      <th>1</th>\n",
       "      <td>15690047</td>\n",
       "      <td>608</td>\n",
       "      <td>Рыбинск</td>\n",
       "      <td>Ж</td>\n",
       "      <td>41</td>\n",
       "      <td>1</td>\n",
       "      <td>83807.86</td>\n",
       "      <td>1</td>\n",
       "      <td>0</td>\n",
       "      <td>1</td>\n",
       "      <td>112542.58</td>\n",
       "      <td>0</td>\n",
       "    </tr>\n",
       "    <tr>\n",
       "      <th>2</th>\n",
       "      <td>15662040</td>\n",
       "      <td>502</td>\n",
       "      <td>Ярославль</td>\n",
       "      <td>Ж</td>\n",
       "      <td>42</td>\n",
       "      <td>8</td>\n",
       "      <td>159660.80</td>\n",
       "      <td>3</td>\n",
       "      <td>1</td>\n",
       "      <td>0</td>\n",
       "      <td>113931.57</td>\n",
       "      <td>1</td>\n",
       "    </tr>\n",
       "    <tr>\n",
       "      <th>3</th>\n",
       "      <td>15744090</td>\n",
       "      <td>699</td>\n",
       "      <td>Ярославль</td>\n",
       "      <td>Ж</td>\n",
       "      <td>39</td>\n",
       "      <td>1</td>\n",
       "      <td>119827.49</td>\n",
       "      <td>2</td>\n",
       "      <td>0</td>\n",
       "      <td>0</td>\n",
       "      <td>93826.63</td>\n",
       "      <td>0</td>\n",
       "    </tr>\n",
       "    <tr>\n",
       "      <th>4</th>\n",
       "      <td>15780624</td>\n",
       "      <td>850</td>\n",
       "      <td>Рыбинск</td>\n",
       "      <td>Ж</td>\n",
       "      <td>43</td>\n",
       "      <td>2</td>\n",
       "      <td>125510.82</td>\n",
       "      <td>1</td>\n",
       "      <td>1</td>\n",
       "      <td>1</td>\n",
       "      <td>79084.10</td>\n",
       "      <td>0</td>\n",
       "    </tr>\n",
       "  </tbody>\n",
       "</table>\n",
       "</div>"
      ],
      "text/plain": [
       "    user_id  score       city gender  age  objects   balance  products  \\\n",
       "0  15677338    619  Ярославль      Ж   42        2 119827.49         1   \n",
       "1  15690047    608    Рыбинск      Ж   41        1  83807.86         1   \n",
       "2  15662040    502  Ярославль      Ж   42        8 159660.80         3   \n",
       "3  15744090    699  Ярославль      Ж   39        1 119827.49         2   \n",
       "4  15780624    850    Рыбинск      Ж   43        2 125510.82         1   \n",
       "\n",
       "   credit_card  loyalty  estimated_salary  churn  \n",
       "0            1        1         101348.88      1  \n",
       "1            0        1         112542.58      0  \n",
       "2            1        0         113931.57      1  \n",
       "3            0        0          93826.63      0  \n",
       "4            1        1          79084.10      0  "
      ]
     },
     "metadata": {},
     "output_type": "display_data"
    }
   ],
   "source": [
    "# произведем замену на медиану\n",
    "df['balance'].fillna((df['balance'].mean()), inplace=True)\n",
    "display(df.head())"
   ]
  },
  {
   "cell_type": "markdown",
   "metadata": {},
   "source": [
    "<b>Вывод:</b> \n",
    "\n",
    "Произвели замену пропущенных значений столбца balance на медианные значения.\n",
    "\n",
    "Дубликатов нет.\n",
    "\n",
    "Привели названия столбцов в нижний регистр.\n"
   ]
  },
  {
   "cell_type": "markdown",
   "metadata": {},
   "source": [
    "## Исследовательский анализ данных"
   ]
  },
  {
   "cell_type": "code",
   "execution_count": 15,
   "metadata": {
    "scrolled": true
   },
   "outputs": [
    {
     "data": {
      "text/plain": [
       "850    233\n",
       "678     63\n",
       "655     54\n",
       "667     53\n",
       "705     53\n",
       "      ... \n",
       "412      1\n",
       "351      1\n",
       "365      1\n",
       "373      1\n",
       "423      1\n",
       "Name: score, Length: 460, dtype: int64"
      ]
     },
     "metadata": {},
     "output_type": "display_data"
    },
    {
     "data": {
      "text/plain": [
       "Ярославль         5014\n",
       "Ростов Великий    2509\n",
       "Рыбинск           2477\n",
       "Name: city, dtype: int64"
      ]
     },
     "metadata": {},
     "output_type": "display_data"
    },
    {
     "data": {
      "text/plain": [
       "М    5457\n",
       "Ж    4543\n",
       "Name: gender, dtype: int64"
      ]
     },
     "metadata": {},
     "output_type": "display_data"
    },
    {
     "data": {
      "text/plain": [
       "37    478\n",
       "38    477\n",
       "35    474\n",
       "36    456\n",
       "34    447\n",
       "     ... \n",
       "92      2\n",
       "88      1\n",
       "82      1\n",
       "85      1\n",
       "83      1\n",
       "Name: age, Length: 70, dtype: int64"
      ]
     },
     "metadata": {},
     "output_type": "display_data"
    },
    {
     "data": {
      "text/plain": [
       "2     1048\n",
       "1     1035\n",
       "7     1028\n",
       "8     1025\n",
       "5     1012\n",
       "3     1009\n",
       "4      989\n",
       "9      984\n",
       "6      967\n",
       "10     490\n",
       "0      413\n",
       "Name: objects, dtype: int64"
      ]
     },
     "metadata": {},
     "output_type": "display_data"
    },
    {
     "data": {
      "text/plain": [
       "1    5084\n",
       "2    4590\n",
       "3     266\n",
       "4      60\n",
       "Name: products, dtype: int64"
      ]
     },
     "metadata": {},
     "output_type": "display_data"
    },
    {
     "data": {
      "text/plain": [
       "1    7055\n",
       "0    2945\n",
       "Name: credit_card, dtype: int64"
      ]
     },
     "metadata": {},
     "output_type": "display_data"
    },
    {
     "data": {
      "text/plain": [
       "1    5151\n",
       "0    4849\n",
       "Name: loyalty, dtype: int64"
      ]
     },
     "metadata": {},
     "output_type": "display_data"
    },
    {
     "data": {
      "text/plain": [
       "0    7963\n",
       "1    2037\n",
       "Name: churn, dtype: int64"
      ]
     },
     "metadata": {},
     "output_type": "display_data"
    }
   ],
   "source": [
    "display(df['score'].value_counts())\n",
    "display(df['city'].value_counts())\n",
    "display(df['gender'].value_counts())\n",
    "display(df['age'].value_counts())\n",
    "display(df['objects'].value_counts())\n",
    "display(df['products'].value_counts())\n",
    "display(df['credit_card'].value_counts())\n",
    "display(df['loyalty'].value_counts())\n",
    "display(df['churn'].value_counts())"
   ]
  },
  {
   "cell_type": "code",
   "execution_count": 16,
   "metadata": {
    "scrolled": true
   },
   "outputs": [],
   "source": [
    "# заменим значения столбца гендер на 0/1\n",
    "df['gender'] = df['gender'].replace('Ж','0').replace('М','1').astype('int')"
   ]
  },
  {
   "cell_type": "code",
   "execution_count": 17,
   "metadata": {
    "scrolled": true
   },
   "outputs": [],
   "source": [
    "# заменим значения столбца гендер на 0/1/2\n",
    "df['city'] = df['city'].replace('Ярославль','0').replace('Ростов Великий','1').replace('Рыбинск','2').astype('int')"
   ]
  },
  {
   "cell_type": "code",
   "execution_count": 18,
   "metadata": {
    "scrolled": true
   },
   "outputs": [
    {
     "data": {
      "text/html": [
       "<div>\n",
       "<style scoped>\n",
       "    .dataframe tbody tr th:only-of-type {\n",
       "        vertical-align: middle;\n",
       "    }\n",
       "\n",
       "    .dataframe tbody tr th {\n",
       "        vertical-align: top;\n",
       "    }\n",
       "\n",
       "    .dataframe thead th {\n",
       "        text-align: right;\n",
       "    }\n",
       "</style>\n",
       "<table border=\"1\" class=\"dataframe\">\n",
       "  <thead>\n",
       "    <tr style=\"text-align: right;\">\n",
       "      <th></th>\n",
       "      <th>user_id</th>\n",
       "      <th>score</th>\n",
       "      <th>city</th>\n",
       "      <th>gender</th>\n",
       "      <th>age</th>\n",
       "      <th>objects</th>\n",
       "      <th>balance</th>\n",
       "      <th>products</th>\n",
       "      <th>credit_card</th>\n",
       "      <th>loyalty</th>\n",
       "      <th>estimated_salary</th>\n",
       "      <th>churn</th>\n",
       "    </tr>\n",
       "  </thead>\n",
       "  <tbody>\n",
       "    <tr>\n",
       "      <th>count</th>\n",
       "      <td>10000.00</td>\n",
       "      <td>10000.00</td>\n",
       "      <td>10000.00</td>\n",
       "      <td>10000.00</td>\n",
       "      <td>10000.00</td>\n",
       "      <td>10000.00</td>\n",
       "      <td>10000.00</td>\n",
       "      <td>10000.00</td>\n",
       "      <td>10000.00</td>\n",
       "      <td>10000.00</td>\n",
       "      <td>10000.00</td>\n",
       "      <td>10000.00</td>\n",
       "    </tr>\n",
       "    <tr>\n",
       "      <th>mean</th>\n",
       "      <td>15733676.57</td>\n",
       "      <td>650.53</td>\n",
       "      <td>0.75</td>\n",
       "      <td>0.55</td>\n",
       "      <td>38.92</td>\n",
       "      <td>5.01</td>\n",
       "      <td>119827.49</td>\n",
       "      <td>1.53</td>\n",
       "      <td>0.71</td>\n",
       "      <td>0.52</td>\n",
       "      <td>100090.24</td>\n",
       "      <td>0.20</td>\n",
       "    </tr>\n",
       "    <tr>\n",
       "      <th>std</th>\n",
       "      <td>71936.19</td>\n",
       "      <td>96.65</td>\n",
       "      <td>0.83</td>\n",
       "      <td>0.50</td>\n",
       "      <td>10.49</td>\n",
       "      <td>2.89</td>\n",
       "      <td>24043.37</td>\n",
       "      <td>0.58</td>\n",
       "      <td>0.46</td>\n",
       "      <td>0.50</td>\n",
       "      <td>57510.49</td>\n",
       "      <td>0.40</td>\n",
       "    </tr>\n",
       "    <tr>\n",
       "      <th>min</th>\n",
       "      <td>15608437.00</td>\n",
       "      <td>350.00</td>\n",
       "      <td>0.00</td>\n",
       "      <td>0.00</td>\n",
       "      <td>18.00</td>\n",
       "      <td>0.00</td>\n",
       "      <td>3768.69</td>\n",
       "      <td>1.00</td>\n",
       "      <td>0.00</td>\n",
       "      <td>0.00</td>\n",
       "      <td>11.58</td>\n",
       "      <td>0.00</td>\n",
       "    </tr>\n",
       "    <tr>\n",
       "      <th>25%</th>\n",
       "      <td>15671264.25</td>\n",
       "      <td>584.00</td>\n",
       "      <td>0.00</td>\n",
       "      <td>0.00</td>\n",
       "      <td>32.00</td>\n",
       "      <td>3.00</td>\n",
       "      <td>111581.13</td>\n",
       "      <td>1.00</td>\n",
       "      <td>0.00</td>\n",
       "      <td>0.00</td>\n",
       "      <td>51002.11</td>\n",
       "      <td>0.00</td>\n",
       "    </tr>\n",
       "    <tr>\n",
       "      <th>50%</th>\n",
       "      <td>15733474.00</td>\n",
       "      <td>652.00</td>\n",
       "      <td>0.00</td>\n",
       "      <td>1.00</td>\n",
       "      <td>37.00</td>\n",
       "      <td>5.00</td>\n",
       "      <td>119827.49</td>\n",
       "      <td>1.00</td>\n",
       "      <td>1.00</td>\n",
       "      <td>1.00</td>\n",
       "      <td>100193.91</td>\n",
       "      <td>0.00</td>\n",
       "    </tr>\n",
       "    <tr>\n",
       "      <th>75%</th>\n",
       "      <td>15795969.75</td>\n",
       "      <td>718.00</td>\n",
       "      <td>1.00</td>\n",
       "      <td>1.00</td>\n",
       "      <td>44.00</td>\n",
       "      <td>7.00</td>\n",
       "      <td>127644.24</td>\n",
       "      <td>2.00</td>\n",
       "      <td>1.00</td>\n",
       "      <td>1.00</td>\n",
       "      <td>149388.25</td>\n",
       "      <td>0.00</td>\n",
       "    </tr>\n",
       "    <tr>\n",
       "      <th>max</th>\n",
       "      <td>15858426.00</td>\n",
       "      <td>850.00</td>\n",
       "      <td>2.00</td>\n",
       "      <td>1.00</td>\n",
       "      <td>92.00</td>\n",
       "      <td>10.00</td>\n",
       "      <td>250898.09</td>\n",
       "      <td>4.00</td>\n",
       "      <td>1.00</td>\n",
       "      <td>1.00</td>\n",
       "      <td>199992.48</td>\n",
       "      <td>1.00</td>\n",
       "    </tr>\n",
       "  </tbody>\n",
       "</table>\n",
       "</div>"
      ],
      "text/plain": [
       "          user_id    score     city   gender      age  objects   balance  \\\n",
       "count    10000.00 10000.00 10000.00 10000.00 10000.00 10000.00  10000.00   \n",
       "mean  15733676.57   650.53     0.75     0.55    38.92     5.01 119827.49   \n",
       "std      71936.19    96.65     0.83     0.50    10.49     2.89  24043.37   \n",
       "min   15608437.00   350.00     0.00     0.00    18.00     0.00   3768.69   \n",
       "25%   15671264.25   584.00     0.00     0.00    32.00     3.00 111581.13   \n",
       "50%   15733474.00   652.00     0.00     1.00    37.00     5.00 119827.49   \n",
       "75%   15795969.75   718.00     1.00     1.00    44.00     7.00 127644.24   \n",
       "max   15858426.00   850.00     2.00     1.00    92.00    10.00 250898.09   \n",
       "\n",
       "       products  credit_card  loyalty  estimated_salary    churn  \n",
       "count  10000.00     10000.00 10000.00          10000.00 10000.00  \n",
       "mean       1.53         0.71     0.52         100090.24     0.20  \n",
       "std        0.58         0.46     0.50          57510.49     0.40  \n",
       "min        1.00         0.00     0.00             11.58     0.00  \n",
       "25%        1.00         0.00     0.00          51002.11     0.00  \n",
       "50%        1.00         1.00     1.00         100193.91     0.00  \n",
       "75%        2.00         1.00     1.00         149388.25     0.00  \n",
       "max        4.00         1.00     1.00         199992.48     1.00  "
      ]
     },
     "execution_count": 18,
     "metadata": {},
     "output_type": "execute_result"
    }
   ],
   "source": [
    "# описание данных\n",
    "df.describe()"
   ]
  },
  {
   "cell_type": "markdown",
   "metadata": {},
   "source": [
    "<b>Вывод:</b> \n",
    "\n",
    "- `score` — баллы кредитного скоринга - максимальный 850, минимальный 350, средний/медианный 650.\n",
    "- `city` — город - 3 города Ярославль - 5014, Ростов Великий - 2509, Рыбинск - 2477, заменил их цифрами 0/1/2 соответственно.\n",
    "- `gender` — пол - М - 5457, Ж - 4543, заменил их цифрами 0/1 соответственно.\n",
    "- `age` — возраст - минимальный 18 лет, максимальный 92, медианный 37,  средний 39.\n",
    "- `objects` — количество объектов в собственности - минимальный 0, максимальный 10, средний/медианный 5.\n",
    "- `balance` — баланс на счёте - максимальный 250898, минимальный 3768, средний/медианный 119827.\n",
    "- `products` — количество продуктов, которыми пользуется клиент - минимальный 1, максимальный 4, медиана 2, средний 1.5.\n",
    "- `credit_сard` — есть ли кредитная карта - 1(Есть) - 5151, 0(Нет)- 4849.\n",
    "- `loyalty` — активный клиент - 1(Да) - 5151, 0(Нет) - 4849.\n",
    "- `estimated_salary` — заработная плата клиента - максимум 199992, минимум 11.6, средняя/медианная 100100. \n",
    "- `churn` — ушёл или нет - 0(Остался) - 7963, 1(Ушел) - 2037.\n",
    "\n",
    "Аномальных значений не обнаружил."
   ]
  },
  {
   "cell_type": "markdown",
   "metadata": {},
   "source": [
    "## Портрет клиента"
   ]
  },
  {
   "cell_type": "markdown",
   "metadata": {},
   "source": [
    "### Средние значения признаков в двух группах."
   ]
  },
  {
   "cell_type": "code",
   "execution_count": 19,
   "metadata": {
    "scrolled": true
   },
   "outputs": [
    {
     "data": {
      "text/html": [
       "<div>\n",
       "<style scoped>\n",
       "    .dataframe tbody tr th:only-of-type {\n",
       "        vertical-align: middle;\n",
       "    }\n",
       "\n",
       "    .dataframe tbody tr th {\n",
       "        vertical-align: top;\n",
       "    }\n",
       "\n",
       "    .dataframe thead th {\n",
       "        text-align: right;\n",
       "    }\n",
       "</style>\n",
       "<table border=\"1\" class=\"dataframe\">\n",
       "  <thead>\n",
       "    <tr style=\"text-align: right;\">\n",
       "      <th></th>\n",
       "      <th>user_id</th>\n",
       "      <th>score</th>\n",
       "      <th>city</th>\n",
       "      <th>gender</th>\n",
       "      <th>age</th>\n",
       "      <th>objects</th>\n",
       "      <th>balance</th>\n",
       "      <th>products</th>\n",
       "      <th>credit_card</th>\n",
       "      <th>loyalty</th>\n",
       "      <th>estimated_salary</th>\n",
       "    </tr>\n",
       "    <tr>\n",
       "      <th>churn</th>\n",
       "      <th></th>\n",
       "      <th></th>\n",
       "      <th></th>\n",
       "      <th></th>\n",
       "      <th></th>\n",
       "      <th></th>\n",
       "      <th></th>\n",
       "      <th></th>\n",
       "      <th></th>\n",
       "      <th></th>\n",
       "      <th></th>\n",
       "    </tr>\n",
       "  </thead>\n",
       "  <tbody>\n",
       "    <tr>\n",
       "      <th>0</th>\n",
       "      <td>15733903.88</td>\n",
       "      <td>651.85</td>\n",
       "      <td>0.73</td>\n",
       "      <td>0.57</td>\n",
       "      <td>37.41</td>\n",
       "      <td>5.03</td>\n",
       "      <td>119650.02</td>\n",
       "      <td>1.54</td>\n",
       "      <td>0.71</td>\n",
       "      <td>0.55</td>\n",
       "      <td>99738.39</td>\n",
       "    </tr>\n",
       "    <tr>\n",
       "      <th>1</th>\n",
       "      <td>15732787.96</td>\n",
       "      <td>645.35</td>\n",
       "      <td>0.81</td>\n",
       "      <td>0.44</td>\n",
       "      <td>44.84</td>\n",
       "      <td>4.93</td>\n",
       "      <td>120521.28</td>\n",
       "      <td>1.48</td>\n",
       "      <td>0.70</td>\n",
       "      <td>0.36</td>\n",
       "      <td>101465.68</td>\n",
       "    </tr>\n",
       "  </tbody>\n",
       "</table>\n",
       "</div>"
      ],
      "text/plain": [
       "          user_id  score  city  gender   age  objects   balance  products  \\\n",
       "churn                                                                       \n",
       "0     15733903.88 651.85  0.73    0.57 37.41     5.03 119650.02      1.54   \n",
       "1     15732787.96 645.35  0.81    0.44 44.84     4.93 120521.28      1.48   \n",
       "\n",
       "       credit_card  loyalty  estimated_salary  \n",
       "churn                                          \n",
       "0             0.71     0.55          99738.39  \n",
       "1             0.70     0.36         101465.68  "
      ]
     },
     "metadata": {},
     "output_type": "display_data"
    }
   ],
   "source": [
    "display(df.groupby(['churn']).mean())"
   ]
  },
  {
   "cell_type": "markdown",
   "metadata": {},
   "source": [
    "<b>Вывод:</b> \n",
    "\n",
    "`churn`  0 (Остался) -  1 (Ушел).\n",
    "\n",
    "- `score` — баллы кредитного скоринга - примерно одинаково.\n",
    "- `city` — город - примерно одинаково.\n",
    "- `gender` — пол Ж(0),М(1)- остается больше мужчин, чем женщин, уходит больше женщин чем мужчин.\n",
    "- `age` — возраст - средний возраст тех кто уходит 45, остается 37.\n",
    "- `objects` — количество объектов в собственности -в среднем одинаково 5.\n",
    "- `balance` — баланс на счёте - примерно одинаково - 120000.\n",
    "- `products` — количество продуктов, которыми пользуется клиент - в среднем примерно одинаково 1,5.\n",
    "- `credit_сard` — есть ли кредитная карта -  в среднем примерно одинаково 0,7.\n",
    "- `loyalty` — активный клиент - те кто остался более активные клиенты.\n",
    "- `estimated_salary` — заработная плата клиента - в среднем примерно одинково около 100000."
   ]
  },
  {
   "cell_type": "markdown",
   "metadata": {},
   "source": [
    "### Построим графики и распределения признаков."
   ]
  },
  {
   "cell_type": "markdown",
   "metadata": {},
   "source": [
    "Разделим данные."
   ]
  },
  {
   "cell_type": "code",
   "execution_count": 20,
   "metadata": {
    "scrolled": true
   },
   "outputs": [],
   "source": [
    "churn_1 = df.query('churn == 1')\n",
    "churn_0 = df.query('churn == 0')"
   ]
  },
  {
   "cell_type": "code",
   "execution_count": 21,
   "metadata": {},
   "outputs": [
    {
     "data": {
      "image/png": "[encoded data removed]",
      "text/plain": [
       "<Figure size 432x288 with 1 Axes>"
      ]
     },
     "metadata": {
      "needs_background": "light"
     },
     "output_type": "display_data"
    },
    {
     "data": {
      "image/png": "[encoded data removed]",
      "text/plain": [
       "<Figure size 432x288 with 1 Axes>"
      ]
     },
     "metadata": {
      "needs_background": "light"
     },
     "output_type": "display_data"
    },
    {
     "data": {
      "image/png": "[encoded data removed]",
      "text/plain": [
       "<Figure size 432x288 with 1 Axes>"
      ]
     },
     "metadata": {
      "needs_background": "light"
     },
     "output_type": "display_data"
    },
    {
     "data": {
      "image/png": "[encoded data removed]",
      "text/plain": [
       "<Figure size 432x288 with 1 Axes>"
      ]
     },
     "metadata": {
      "needs_background": "light"
     },
     "output_type": "display_data"
    },
    {
     "data": {
      "image/png": "[encoded data removed]",
      "text/plain": [
       "<Figure size 432x288 with 1 Axes>"
      ]
     },
     "metadata": {
      "needs_background": "light"
     },
     "output_type": "display_data"
    },
    {
     "data": {
      "image/png": "[encoded data removed]",
      "text/plain": [
       "<Figure size 432x288 with 1 Axes>"
      ]
     },
     "metadata": {
      "needs_background": "light"
     },
     "output_type": "display_data"
    },
    {
     "data": {
      "image/png": "[encoded data removed]",
      "text/plain": [
       "<Figure size 432x288 with 1 Axes>"
      ]
     },
     "metadata": {
      "needs_background": "light"
     },
     "output_type": "display_data"
    }
   ],
   "source": [
    "# Построим столбчатые гистограммы и распределения\n",
    "values1 = ['city','gender','age','objects','products','credit_card','loyalty']\n",
    "fig, ax = plt.subplots()\n",
    "for column in values1:\n",
    "    plt.title('Распределения признаков')\n",
    "    plt.xlabel(column)\n",
    "    plt.ylabel('Количество')\n",
    "    sns.distplot(churn_1[column], label='Клиент ушёл')    \n",
    "    sns.distplot(churn_0[column], label='Клиент остался')\n",
    "    plt.legend()\n",
    "    plt.show()"
   ]
  },
  {
   "cell_type": "markdown",
   "metadata": {},
   "source": [
    "<b>Вывод:</b> \n",
    "\n",
    "Что мы видим из графиков: \n",
    "\n",
    "- `city` — город - 3 города Ярославль(0), Ростов Великий(1), Рыбинск(3) - по какой-то причине в Ростове Великом кол-во тех кто ушел в два раза выше тех кто остался, в остальных двух городах примерно поровну.\n",
    "\n",
    "- `gender` — пол - М(0), Ж(1) - среди женщин ушедших в два раза меньше чем остающихся, у мужчин этот параметр +- одинаков.\n",
    "\n",
    "- `age` — возраст - до 40 преобладают те кто остался, после те кто уходит.\n",
    "\n",
    "- `objects` — количество объектов в собственности - кол-во тех кто ушел вне зависимости от кол-ва объектов примерно в 2 раза меньше.\n",
    "\n",
    "- `products` — количество продуктов, которыми пользуется клиент - 1 продукт одинаково, 2 продукта  намного чаще остаются, 3-4 уходят. \n",
    "\n",
    "- `credit_сard` — есть ли кредитная карта - отношение между тем кто ушел и остался 1,5 в пользу оставшихся.\n",
    "\n",
    "- `loyalty` — активный клиент  - нет -одинаково, да, активный - ушедших в 2 раза меньше.\n"
   ]
  },
  {
   "cell_type": "code",
   "execution_count": 22,
   "metadata": {},
   "outputs": [
    {
     "data": {
      "image/png": "[encoded data removed]",
      "text/plain": [
       "<Figure size 432x288 with 1 Axes>"
      ]
     },
     "metadata": {
      "needs_background": "light"
     },
     "output_type": "display_data"
    },
    {
     "data": {
      "image/png": "[encoded data removed]",
      "text/plain": [
       "<Figure size 432x288 with 1 Axes>"
      ]
     },
     "metadata": {
      "needs_background": "light"
     },
     "output_type": "display_data"
    },
    {
     "data": {
      "image/png": "[encoded data removed]",
      "text/plain": [
       "<Figure size 432x288 with 1 Axes>"
      ]
     },
     "metadata": {
      "needs_background": "light"
     },
     "output_type": "display_data"
    },
    {
     "data": {
      "image/png": "[encoded data removed]",
      "text/plain": [
       "<Figure size 432x288 with 1 Axes>"
      ]
     },
     "metadata": {
      "needs_background": "light"
     },
     "output_type": "display_data"
    },
    {
     "data": {
      "image/png": "[encoded data removed]",
      "text/plain": [
       "<Figure size 432x288 with 1 Axes>"
      ]
     },
     "metadata": {
      "needs_background": "light"
     },
     "output_type": "display_data"
    }
   ],
   "source": [
    "# построим распределение для непрерывных величин\n",
    "values2 = ['score','age','objects','balance','estimated_salary']\n",
    "fig, ax = plt.subplots()\n",
    "for column in values2:\n",
    "    sns.boxplot(x='churn', y=column, data=df, palette=\"Paired\")\n",
    "    plt.title(column)\n",
    "    plt.xlabel('churn')\n",
    "    plt.ylabel(column)\n",
    "    plt.show()"
   ]
  },
  {
   "cell_type": "markdown",
   "metadata": {},
   "source": [
    "<b>Вывод:</b> \n",
    "\n",
    "`churn`  0 (Остался) -  1 (Ушел).\n",
    "\n",
    "- `score` — баллы кредитного скоринга - одинаково\n",
    "- `age` — возраст - у тех кто остался выше средний возраст, но и у тех то ушел много выбросов в старшей группе\n",
    "- `objects` — количество объектов в собственности - остался 3-7, ушел - 2-8\n",
    "- `balance` — баланс на счёте - у тех кто ушел больше диапазон среднего.\n",
    "- `estimated_salary` — заработная плата клиента - у тех кто ушел чуть выше."
   ]
  },
  {
   "cell_type": "markdown",
   "metadata": {},
   "source": [
    "### Построим матрицу корреляции."
   ]
  },
  {
   "cell_type": "code",
   "execution_count": 23,
   "metadata": {},
   "outputs": [
    {
     "data": {
      "image/png": "[encoded data removed]",
      "text/plain": [
       "<Figure size 720x720 with 2 Axes>"
      ]
     },
     "metadata": {
      "needs_background": "light"
     },
     "output_type": "display_data"
    }
   ],
   "source": [
    "matr = df.corr()\n",
    "plt.figure(figsize=(10,10))\n",
    "sns.heatmap(matr, annot = True, square=False)\n",
    "plt.title('Матрица корреляций признаков общая', fontsize = 20)\n",
    "plt.show()"
   ]
  },
  {
   "cell_type": "markdown",
   "metadata": {},
   "source": [
    "Из общих данных выделяется только корреляция возвраста с оттоком."
   ]
  },
  {
   "cell_type": "code",
   "execution_count": 24,
   "metadata": {},
   "outputs": [
    {
     "data": {
      "image/png": "[encoded data removed]",
      "text/plain": [
       "<Figure size 720x720 with 2 Axes>"
      ]
     },
     "metadata": {
      "needs_background": "light"
     },
     "output_type": "display_data"
    }
   ],
   "source": [
    "matr = churn_1.corr()\n",
    "plt.figure(figsize=(10,10))\n",
    "sns.heatmap(matr, annot = True, square=False)\n",
    "plt.title('Матрица корреляций признаков ушедших', fontsize = 20)\n",
    "plt.show()"
   ]
  },
  {
   "cell_type": "markdown",
   "metadata": {},
   "source": [
    "Данные по тем кто ушел, нет сильных зависимостей."
   ]
  },
  {
   "cell_type": "code",
   "execution_count": 25,
   "metadata": {},
   "outputs": [
    {
     "data": {
      "image/png": "[encoded data removed]",
      "text/plain": [
       "<Figure size 720x720 with 2 Axes>"
      ]
     },
     "metadata": {
      "needs_background": "light"
     },
     "output_type": "display_data"
    }
   ],
   "source": [
    "matr = churn_0.corr()\n",
    "plt.figure(figsize=(10,10))\n",
    "sns.heatmap(matr, annot = True, square=False)\n",
    "plt.title('Матрица корреляций признаков оставшихся', fontsize = 20)\n",
    "plt.show()"
   ]
  },
  {
   "cell_type": "markdown",
   "metadata": {},
   "source": [
    "По данным тех кто остался коррелируют лояльность и возраст."
   ]
  },
  {
   "cell_type": "markdown",
   "metadata": {},
   "source": [
    "### Портрет клиента."
   ]
  },
  {
   "cell_type": "markdown",
   "metadata": {},
   "source": [
    "<b>Клиент который остается.</b>\n",
    "\n",
    "- Больше клиентов мужчин.\n",
    "- Средний возраст 37 лет.\n",
    "- Более активный клиент.\n",
    "- Пользователь 2-х продуктов.\n",
    "- Пользуется кредиткой.\n",
    "\n",
    "<b>Клиент который ушел.</b>\n",
    "\n",
    "- Больше клиентов женщин склонны к оттоку.\n",
    "- Средний возраст 45 лет.\n",
    "- Странный отток клиентов из Ростов Великий.\n",
    "- Пользователь 3-4 продуктов.\n"
   ]
  },
  {
   "cell_type": "markdown",
   "metadata": {},
   "source": [
    "### Строим модель прогнозирования оттока клиентов."
   ]
  },
  {
   "cell_type": "markdown",
   "metadata": {},
   "source": [
    "Построем модель бинарной классификации клиентов, где целевой признак — факт оттока клиента в следующем месяце."
   ]
  },
  {
   "cell_type": "code",
   "execution_count": 26,
   "metadata": {},
   "outputs": [
    {
     "data": {
      "text/plain": [
       "RandomForestClassifier(random_state=0)"
      ]
     },
     "execution_count": 26,
     "metadata": {},
     "output_type": "execute_result"
    }
   ],
   "source": [
    "# разделим данные\n",
    "X = df.drop(['user_id'], axis=1) # уберем столбец user_id\n",
    "X = X.drop(['churn'], axis = 1)\n",
    "y = df['churn']\n",
    "\n",
    "# разобъем данные на обучающую и валидационную выборку \n",
    "X_train, X_test, y_train, y_test = train_test_split(X, y, test_size=0.2, random_state=0)\n",
    "\n",
    "# обучаем модель\n",
    "\n",
    "# зададим алгоритм для модели логистической регрессией и обучим модель\n",
    "model_lr = LogisticRegression(random_state=0)\n",
    "model_lr.fit(X_train, y_train)\n",
    "\n",
    "# зададим алгоритм для модели случайный лес и обучим модель\n",
    "model_rfc = RandomForestClassifier(random_state=0)\n",
    "model_rfc.fit(X_train, y_train)"
   ]
  },
  {
   "cell_type": "markdown",
   "metadata": {},
   "source": [
    "Оценим метрики accuracy, precision и recall для обеих моделей на валидационной выборке. "
   ]
  },
  {
   "cell_type": "code",
   "execution_count": 27,
   "metadata": {},
   "outputs": [
    {
     "data": {
      "text/plain": [
       "'Accuracy: 0.78'"
      ]
     },
     "metadata": {},
     "output_type": "display_data"
    },
    {
     "data": {
      "text/plain": [
       "'Precision: 0.30'"
      ]
     },
     "metadata": {},
     "output_type": "display_data"
    },
    {
     "data": {
      "text/plain": [
       "'Recall: 0.05'"
      ]
     },
     "metadata": {},
     "output_type": "display_data"
    }
   ],
   "source": [
    "# модель логистической регрессии\n",
    "y_pred=model_lr.predict(X_test)\n",
    "accuracy=accuracy_score(y_test, y_pred)\n",
    "precision=precision_score(y_test,y_pred)\n",
    "recall=recall_score(y_test, y_pred)\n",
    "\n",
    "display('Accuracy: {:.2f}'.format(accuracy))\n",
    "display('Precision: {:.2f}'.format(precision))\n",
    "display('Recall: {:.2f}'.format(recall))"
   ]
  },
  {
   "cell_type": "code",
   "execution_count": 28,
   "metadata": {},
   "outputs": [
    {
     "data": {
      "text/plain": [
       "'Accuracy: 0.86'"
      ]
     },
     "metadata": {},
     "output_type": "display_data"
    },
    {
     "data": {
      "text/plain": [
       "'Precision: 0.74'"
      ]
     },
     "metadata": {},
     "output_type": "display_data"
    },
    {
     "data": {
      "text/plain": [
       "'Recall: 0.48'"
      ]
     },
     "metadata": {},
     "output_type": "display_data"
    }
   ],
   "source": [
    "# модель случайного леса\n",
    "y_pred2=model_rfc.predict(X_test)\n",
    "accuracy2=accuracy_score(y_test, y_pred2)\n",
    "precision2=precision_score(y_test,y_pred2)\n",
    "recall2=recall_score(y_test, y_pred2)\n",
    "\n",
    "display('Accuracy: {:.2f}'.format(accuracy2))\n",
    "display('Precision: {:.2f}'.format(precision2))\n",
    "display('Recall: {:.2f}'.format(recall2))"
   ]
  },
  {
   "cell_type": "markdown",
   "metadata": {},
   "source": [
    "<b> Вывод:</b>  Алгоритм случайный лес в данном случает оказался точнее."
   ]
  },
  {
   "cell_type": "markdown",
   "metadata": {},
   "source": [
    "### Сделаем кластеризацию клиентов"
   ]
  },
  {
   "cell_type": "code",
   "execution_count": 29,
   "metadata": {},
   "outputs": [
    {
     "data": {
      "image/png": "[encoded data removed]",
      "text/plain": [
       "<Figure size 1080x720 with 1 Axes>"
      ]
     },
     "metadata": {
      "needs_background": "light"
     },
     "output_type": "display_data"
    }
   ],
   "source": [
    "# стандартизируем данные\n",
    "scaler = StandardScaler()\n",
    "X_st = scaler.fit_transform(X)\n",
    "\n",
    "# строим матрицу\n",
    "linked=linkage(X_st, method='ward')\n",
    "# строим дендрограмму\n",
    "plt.figure(figsize=(15,10))\n",
    "dendrogram(linked, orientation='top')\n",
    "plt.show()"
   ]
  },
  {
   "cell_type": "markdown",
   "metadata": {},
   "source": [
    " <b> Вывод: </b> По дендрограмме можно выделить как минимум 3 кластера. Я бы выбрал 4."
   ]
  },
  {
   "cell_type": "code",
   "execution_count": 30,
   "metadata": {},
   "outputs": [],
   "source": [
    "# обучаем модель кластирезации\n",
    "km=KMeans(n_clusters=4, random_state=0)\n",
    "labels=km.fit_predict(X_st)"
   ]
  },
  {
   "cell_type": "code",
   "execution_count": 31,
   "metadata": {},
   "outputs": [
    {
     "data": {
      "text/html": [
       "<div>\n",
       "<style scoped>\n",
       "    .dataframe tbody tr th:only-of-type {\n",
       "        vertical-align: middle;\n",
       "    }\n",
       "\n",
       "    .dataframe tbody tr th {\n",
       "        vertical-align: top;\n",
       "    }\n",
       "\n",
       "    .dataframe thead th {\n",
       "        text-align: right;\n",
       "    }\n",
       "</style>\n",
       "<table border=\"1\" class=\"dataframe\">\n",
       "  <thead>\n",
       "    <tr style=\"text-align: right;\">\n",
       "      <th></th>\n",
       "      <th>user_id</th>\n",
       "      <th>score</th>\n",
       "      <th>city</th>\n",
       "      <th>gender</th>\n",
       "      <th>age</th>\n",
       "      <th>objects</th>\n",
       "      <th>balance</th>\n",
       "      <th>products</th>\n",
       "      <th>credit_card</th>\n",
       "      <th>loyalty</th>\n",
       "      <th>estimated_salary</th>\n",
       "      <th>churn</th>\n",
       "    </tr>\n",
       "    <tr>\n",
       "      <th>cluster</th>\n",
       "      <th></th>\n",
       "      <th></th>\n",
       "      <th></th>\n",
       "      <th></th>\n",
       "      <th></th>\n",
       "      <th></th>\n",
       "      <th></th>\n",
       "      <th></th>\n",
       "      <th></th>\n",
       "      <th></th>\n",
       "      <th></th>\n",
       "      <th></th>\n",
       "    </tr>\n",
       "  </thead>\n",
       "  <tbody>\n",
       "    <tr>\n",
       "      <th>0</th>\n",
       "      <td>15733650.32</td>\n",
       "      <td>652.13</td>\n",
       "      <td>0.77</td>\n",
       "      <td>0.55</td>\n",
       "      <td>60.83</td>\n",
       "      <td>4.93</td>\n",
       "      <td>119911.05</td>\n",
       "      <td>1.43</td>\n",
       "      <td>0.76</td>\n",
       "      <td>0.82</td>\n",
       "      <td>92112.45</td>\n",
       "      <td>0.36</td>\n",
       "    </tr>\n",
       "    <tr>\n",
       "      <th>3</th>\n",
       "      <td>15733501.50</td>\n",
       "      <td>650.04</td>\n",
       "      <td>0.75</td>\n",
       "      <td>0.00</td>\n",
       "      <td>36.63</td>\n",
       "      <td>5.01</td>\n",
       "      <td>119289.94</td>\n",
       "      <td>1.56</td>\n",
       "      <td>1.00</td>\n",
       "      <td>0.46</td>\n",
       "      <td>100954.14</td>\n",
       "      <td>0.23</td>\n",
       "    </tr>\n",
       "    <tr>\n",
       "      <th>1</th>\n",
       "      <td>15735581.15</td>\n",
       "      <td>651.74</td>\n",
       "      <td>0.76</td>\n",
       "      <td>0.54</td>\n",
       "      <td>36.94</td>\n",
       "      <td>4.93</td>\n",
       "      <td>119474.26</td>\n",
       "      <td>1.54</td>\n",
       "      <td>0.00</td>\n",
       "      <td>0.49</td>\n",
       "      <td>101837.92</td>\n",
       "      <td>0.20</td>\n",
       "    </tr>\n",
       "    <tr>\n",
       "      <th>2</th>\n",
       "      <td>15732332.28</td>\n",
       "      <td>649.50</td>\n",
       "      <td>0.73</td>\n",
       "      <td>1.00</td>\n",
       "      <td>35.82</td>\n",
       "      <td>5.10</td>\n",
       "      <td>120527.26</td>\n",
       "      <td>1.53</td>\n",
       "      <td>1.00</td>\n",
       "      <td>0.48</td>\n",
       "      <td>100390.52</td>\n",
       "      <td>0.14</td>\n",
       "    </tr>\n",
       "  </tbody>\n",
       "</table>\n",
       "</div>"
      ],
      "text/plain": [
       "            user_id  score  city  gender   age  objects   balance  products  \\\n",
       "cluster                                                                       \n",
       "0       15733650.32 652.13  0.77    0.55 60.83     4.93 119911.05      1.43   \n",
       "3       15733501.50 650.04  0.75    0.00 36.63     5.01 119289.94      1.56   \n",
       "1       15735581.15 651.74  0.76    0.54 36.94     4.93 119474.26      1.54   \n",
       "2       15732332.28 649.50  0.73    1.00 35.82     5.10 120527.26      1.53   \n",
       "\n",
       "         credit_card  loyalty  estimated_salary  churn  \n",
       "cluster                                                 \n",
       "0               0.76     0.82          92112.45   0.36  \n",
       "3               1.00     0.46         100954.14   0.23  \n",
       "1               0.00     0.49         101837.92   0.20  \n",
       "2               1.00     0.48         100390.52   0.14  "
      ]
     },
     "execution_count": 31,
     "metadata": {},
     "output_type": "execute_result"
    }
   ],
   "source": [
    "# применим группировку по кластерам и выведем среднее\n",
    "df['cluster']=labels\n",
    "df.groupby(['cluster']).mean().sort_values('churn',ascending=False)"
   ]
  },
  {
   "cell_type": "markdown",
   "metadata": {},
   "source": [
    "Самый большой отток в кластере 0, самый маленький в кластере 2."
   ]
  },
  {
   "cell_type": "code",
   "execution_count": 32,
   "metadata": {},
   "outputs": [
    {
     "data": {
      "image/png": "[encoded data removed]",
      "text/plain": [
       "<Figure size 432x288 with 1 Axes>"
      ]
     },
     "metadata": {
      "needs_background": "light"
     },
     "output_type": "display_data"
    },
    {
     "data": {
      "image/png": "[encoded data removed]",
      "text/plain": [
       "<Figure size 432x288 with 1 Axes>"
      ]
     },
     "metadata": {
      "needs_background": "light"
     },
     "output_type": "display_data"
    },
    {
     "data": {
      "image/png": "[encoded data removed]",
      "text/plain": [
       "<Figure size 432x288 with 1 Axes>"
      ]
     },
     "metadata": {
      "needs_background": "light"
     },
     "output_type": "display_data"
    },
    {
     "data": {
      "image/png": "[encoded data removed]",
      "text/plain": [
       "<Figure size 432x288 with 1 Axes>"
      ]
     },
     "metadata": {
      "needs_background": "light"
     },
     "output_type": "display_data"
    },
    {
     "data": {
      "image/png": "[encoded data removed]",
      "text/plain": [
       "<Figure size 432x288 with 1 Axes>"
      ]
     },
     "metadata": {
      "needs_background": "light"
     },
     "output_type": "display_data"
    },
    {
     "data": {
      "image/png": "[encoded data removed]",
      "text/plain": [
       "<Figure size 432x288 with 1 Axes>"
      ]
     },
     "metadata": {
      "needs_background": "light"
     },
     "output_type": "display_data"
    }
   ],
   "source": [
    "# построим распределение для дискретных величин\n",
    "values3 = ['city','gender','objects','products','credit_card','loyalty']\n",
    "fig, ax = plt.subplots()\n",
    "for column in values3:\n",
    "    plt.title(column)\n",
    "    sns.countplot(data=df, x=column, hue='cluster')\n",
    "    plt.xlabel('значение')\n",
    "    plt.legend(bbox_to_anchor=(1, 1))\n",
    "    plt.show()"
   ]
  },
  {
   "cell_type": "code",
   "execution_count": 33,
   "metadata": {},
   "outputs": [
    {
     "data": {
      "image/png": "[encoded data removed]",
      "text/plain": [
       "<Figure size 432x288 with 1 Axes>"
      ]
     },
     "metadata": {
      "needs_background": "light"
     },
     "output_type": "display_data"
    },
    {
     "data": {
      "image/png": "[encoded data removed]",
      "text/plain": [
       "<Figure size 432x288 with 1 Axes>"
      ]
     },
     "metadata": {
      "needs_background": "light"
     },
     "output_type": "display_data"
    },
    {
     "data": {
      "image/png": "[encoded data removed]",
      "text/plain": [
       "<Figure size 432x288 with 1 Axes>"
      ]
     },
     "metadata": {
      "needs_background": "light"
     },
     "output_type": "display_data"
    },
    {
     "data": {
      "image/png": "[encoded data removed]",
      "text/plain": [
       "<Figure size 432x288 with 1 Axes>"
      ]
     },
     "metadata": {
      "needs_background": "light"
     },
     "output_type": "display_data"
    },
    {
     "data": {
      "image/png": "[encoded data removed]",
      "text/plain": [
       "<Figure size 432x288 with 1 Axes>"
      ]
     },
     "metadata": {
      "needs_background": "light"
     },
     "output_type": "display_data"
    }
   ],
   "source": [
    "# построим распределение для непрерывных величин\n",
    "fig, ax = plt.subplots()\n",
    "for column in values2:\n",
    "    sns.boxplot(x='cluster', y=column, data=df)\n",
    "    plt.title(column)\n",
    "    plt.xlabel('кластер')\n",
    "    plt.ylabel(column)\n",
    "    plt.show()"
   ]
  },
  {
   "cell_type": "markdown",
   "metadata": {},
   "source": [
    "<b> Вывод:\n",
    "\n",
    "Кластеры </b> \n",
    "\n",
    "- `score` — баллы кредитного скоринга - по кластерам одинаково.\n",
    "- `city` — город - города распределены примерно одинаково.\n",
    "- `gender` — пол Ж(0),М(1) - кластер 2 нет женщин, кластер 3 нет мужчин.\n",
    "- `age` — возраст - Кластер 0 старше, остальные одинаково.\n",
    "- `objects` — количество объектов в собственности - Кластер 0 - 2-8, Кластер 1 - 2-7, Кластер 2 3-8, Кластер 3 3-7.\n",
    "- `balance` — баланс на счёте - по кластерам одинаково. \n",
    "- `products` — количество продуктов, которыми пользуется клиент - распределены примерно одинаково.\n",
    "- `credit_сard` — есть ли кредитная карта - Кластер 2,3 есть карты, Кластер 1 нет карт.   \n",
    "- `loyalty` — активный клиент - примерно одинаково.\n",
    "- `estimated_salary` — заработная плата клиента - Кластер 0 с меньшей з/п чем у 3-х других. \n",
    "\n",
    "\n",
    "- Кластер 0 - самый большой отток, клиенты старше других кластеров, с меньшим з/п.\n",
    "- Кластер 1 - третий по оттоку, нет кредитных карт.\n",
    "- Кластер 2 - самый низкий отток, нет женщин, есть карты.\n",
    "- Кластер 3 - второй по оттоку, нет мужчин, есть карты.\n",
    "\n"
   ]
  },
  {
   "cell_type": "markdown",
   "metadata": {},
   "source": [
    "## Формулировка и проверка статистических гипотез"
   ]
  },
  {
   "cell_type": "markdown",
   "metadata": {},
   "source": [
    "### Проверить гипотезы различия дохода между теми клиентами, которые ушли и теми, которые остались."
   ]
  },
  {
   "cell_type": "markdown",
   "metadata": {},
   "source": [
    "Нулевая гипотеза H0 - Различие в среднем доходе между ушедшими и оставшимися клиентами нет.\n",
    "\n",
    "Альтернативная гипотеза Н1 - Различие в среднем доходе между ушедшими и оставшимися клиентами есть."
   ]
  },
  {
   "cell_type": "code",
   "execution_count": 34,
   "metadata": {},
   "outputs": [
    {
     "name": "stdout",
     "output_type": "stream",
     "text": [
      "p-значение:  0.22644042802223346\n",
      "Не получилось отвергнуть нулевую гипотезу\n"
     ]
    }
   ],
   "source": [
    "alpha = .05 # критический уровень статистической значимости\n",
    "# если p-value окажется меньше него - отвегнем гипотезу\n",
    "\n",
    "results = st.ttest_ind(churn_0['estimated_salary'], churn_1['estimated_salary'])\n",
    "\n",
    "print('p-значение: ', results.pvalue)\n",
    "\n",
    "if results.pvalue < alpha:\n",
    "    print(\"Отвергаем нулевую гипотезу\")\n",
    "else:\n",
    "    print(\"Не получилось отвергнуть нулевую гипотезу\") "
   ]
  },
  {
   "cell_type": "markdown",
   "metadata": {},
   "source": [
    "Различие в среднем доходе между ушедшими и оставшимися клиентами нет."
   ]
  },
  {
   "cell_type": "markdown",
   "metadata": {},
   "source": [
    "### Формулирование и проверка статистической гипотезы относительно представленных данных."
   ]
  },
  {
   "cell_type": "markdown",
   "metadata": {},
   "source": [
    "Нулевая гипотеза H0 - Различие в среднем возрасте между ушедшими и оставшимися клиентами нет.\n",
    "\n",
    "Альтернативная гипотеза Н1 - Различие в среднем возрасте между ушедшими и оставшимися клиентами есть."
   ]
  },
  {
   "cell_type": "code",
   "execution_count": 35,
   "metadata": {},
   "outputs": [
    {
     "name": "stdout",
     "output_type": "stream",
     "text": [
      "p-значение:  1.2399313093427738e-186\n",
      "Отвергаем нулевую гипотезу\n"
     ]
    }
   ],
   "source": [
    "alpha = .05 # критический уровень статистической значимости\n",
    "# если p-value окажется меньше него - отвегнем гипотезу\n",
    "\n",
    "results = st.ttest_ind(churn_0['age'], churn_1['age'])\n",
    "\n",
    "print('p-значение: ', results.pvalue)\n",
    "\n",
    "if results.pvalue < alpha:\n",
    "    print(\"Отвергаем нулевую гипотезу\")\n",
    "else:\n",
    "    print(\"Не получилось отвергнуть нулевую гипотезу\") "
   ]
  },
  {
   "cell_type": "markdown",
   "metadata": {},
   "source": [
    "Различие в среднем возрасте между ушедшими и оставшимися клиентами есть."
   ]
  },
  {
   "cell_type": "markdown",
   "metadata": {},
   "source": [
    "Нулевая гипотеза H0 - Различие в среднем балле кредитного скоринга между ушедшими и оставшимися клиентами нет.\n",
    "\n",
    "Альтернативная гипотеза Н1 - Различие в среднем балле кредитного скоринга между ушедшими и оставшимися клиентами есть."
   ]
  },
  {
   "cell_type": "code",
   "execution_count": 36,
   "metadata": {},
   "outputs": [
    {
     "name": "stdout",
     "output_type": "stream",
     "text": [
      "p-значение:  0.006738213892192373\n",
      "Отвергаем нулевую гипотезу\n"
     ]
    }
   ],
   "source": [
    "alpha = .05 # критический уровень статистической значимости\n",
    "# если p-value окажется меньше него - отвегнем гипотезу\n",
    "\n",
    "results = st.ttest_ind(churn_0['score'], churn_1['score'])\n",
    "\n",
    "print('p-значение: ', results.pvalue)\n",
    "\n",
    "if results.pvalue < alpha:\n",
    "    print(\"Отвергаем нулевую гипотезу\")\n",
    "else:\n",
    "    print(\"Не получилось отвергнуть нулевую гипотезу\") "
   ]
  },
  {
   "cell_type": "markdown",
   "metadata": {},
   "source": [
    "Различие в среднем балле кредитного скоринга между ушедшими и оставшимися клиентами есть."
   ]
  },
  {
   "cell_type": "markdown",
   "metadata": {},
   "source": [
    "## Вывод\n",
    "\n",
    "Задача: Проанализируйте клиентов регионального банка и выделите портрет клиентов, которые склонны уходить из банка."
   ]
  },
  {
   "cell_type": "markdown",
   "metadata": {},
   "source": [
    "<b>Вывод:</b> \n",
    "\n",
    "Клиенты склонные уходить из банка:\n",
    "\n",
    "- Женщин склонны к оттоку.\n",
    "- Более возратсные клиенты, средний возраст 45 лет.\n",
    "- Странный отток клиентов из Ростов Великий.\n",
    "- Пользователь 3-4 продуктов.\n",
    "\n",
    "<b>Рекомендации:</b> \n",
    "\n",
    "- Проверить отток клиентов в Ростове Великом.\n",
    "- Выдавать кредитки.\n",
    "- Не давать пользователю больше 2 продуктов."
   ]
  },
  {
   "cell_type": "markdown",
   "metadata": {},
   "source": [
    "Дополнение у выводу:\n",
    "\n",
    "Клиенты женщины - отток в среднем в 2 раза больше чем у мужчин - добавить дополнительный продукт, лучше кредитную карту, возможно другие, в сумме не более 2-х.\n",
    "\n",
    "Возраст более 45 лет - сильный отток - добавить дополнительный продукт, лучше кредитную карту, возможно другие, в сумме не более 2-х, возможно специальные предложения для таких клиентов, системы кэш-бек.\n",
    "\n",
    "Продукты более 2-х - почти 100% отток владельцев 3-4 продуктов - разобраться, в чем причина, возможно неудобное использование, большие комиссии.\n",
    "\n",
    "Город Ростов Великий - сильный отток, по сравнению с соседними городами - разобраться, в чем причина, возможно неудобное использование, большие комиссии, выгодное предложение у конкурентов, работа менеджеров в данном городе.\n"
   ]
  }
 ],
 "metadata": {
  "ExecuteTimeLog": [
   {
    "duration": 1313,
    "start_time": "2022-07-12T09:08:47.852Z"
   },
   {
    "duration": 128,
    "start_time": "2022-07-12T09:08:49.168Z"
   },
   {
    "duration": 0,
    "start_time": "2022-07-12T09:08:49.297Z"
   },
   {
    "duration": 0,
    "start_time": "2022-07-12T09:08:49.299Z"
   },
   {
    "duration": 0,
    "start_time": "2022-07-12T09:08:49.300Z"
   },
   {
    "duration": 0,
    "start_time": "2022-07-12T09:08:49.301Z"
   },
   {
    "duration": 0,
    "start_time": "2022-07-12T09:08:49.303Z"
   },
   {
    "duration": 0,
    "start_time": "2022-07-12T09:08:49.304Z"
   },
   {
    "duration": 0,
    "start_time": "2022-07-12T09:08:49.305Z"
   },
   {
    "duration": 0,
    "start_time": "2022-07-12T09:08:49.306Z"
   },
   {
    "duration": 0,
    "start_time": "2022-07-12T09:08:49.307Z"
   },
   {
    "duration": 0,
    "start_time": "2022-07-12T09:08:49.308Z"
   },
   {
    "duration": 0,
    "start_time": "2022-07-12T09:08:49.309Z"
   },
   {
    "duration": 68,
    "start_time": "2022-07-12T09:09:43.253Z"
   },
   {
    "duration": 1111,
    "start_time": "2022-07-12T09:09:49.984Z"
   },
   {
    "duration": 40,
    "start_time": "2022-07-12T09:09:51.097Z"
   },
   {
    "duration": 11,
    "start_time": "2022-07-12T09:09:51.139Z"
   },
   {
    "duration": 15,
    "start_time": "2022-07-12T09:09:51.152Z"
   },
   {
    "duration": 21,
    "start_time": "2022-07-12T09:09:51.169Z"
   },
   {
    "duration": 19,
    "start_time": "2022-07-12T09:09:51.192Z"
   },
   {
    "duration": 12,
    "start_time": "2022-07-12T09:09:51.213Z"
   },
   {
    "duration": 16,
    "start_time": "2022-07-12T09:09:51.228Z"
   },
   {
    "duration": 46,
    "start_time": "2022-07-12T09:09:51.245Z"
   },
   {
    "duration": 7,
    "start_time": "2022-07-12T09:09:51.294Z"
   },
   {
    "duration": 19,
    "start_time": "2022-07-12T09:09:51.303Z"
   },
   {
    "duration": 73,
    "start_time": "2022-07-12T09:09:51.323Z"
   },
   {
    "duration": 19,
    "start_time": "2022-07-12T09:09:51.399Z"
   },
   {
    "duration": 4,
    "start_time": "2022-07-12T10:05:37.300Z"
   },
   {
    "duration": 59,
    "start_time": "2022-07-12T10:05:40.669Z"
   },
   {
    "duration": 1131,
    "start_time": "2022-07-12T10:05:53.980Z"
   },
   {
    "duration": 39,
    "start_time": "2022-07-12T10:05:55.113Z"
   },
   {
    "duration": 13,
    "start_time": "2022-07-12T10:05:55.154Z"
   },
   {
    "duration": 11,
    "start_time": "2022-07-12T10:05:55.169Z"
   },
   {
    "duration": 17,
    "start_time": "2022-07-12T10:05:55.182Z"
   },
   {
    "duration": 13,
    "start_time": "2022-07-12T10:05:55.201Z"
   },
   {
    "duration": 8,
    "start_time": "2022-07-12T10:05:55.216Z"
   },
   {
    "duration": 13,
    "start_time": "2022-07-12T10:05:55.226Z"
   },
   {
    "duration": 47,
    "start_time": "2022-07-12T10:05:55.240Z"
   },
   {
    "duration": 6,
    "start_time": "2022-07-12T10:05:55.289Z"
   },
   {
    "duration": 12,
    "start_time": "2022-07-12T10:05:55.297Z"
   },
   {
    "duration": 76,
    "start_time": "2022-07-12T10:05:55.311Z"
   },
   {
    "duration": 17,
    "start_time": "2022-07-12T10:05:55.388Z"
   },
   {
    "duration": 1173,
    "start_time": "2022-07-12T10:06:22.873Z"
   },
   {
    "duration": 43,
    "start_time": "2022-07-12T10:06:24.048Z"
   },
   {
    "duration": 16,
    "start_time": "2022-07-12T10:06:24.093Z"
   },
   {
    "duration": 15,
    "start_time": "2022-07-12T10:06:24.111Z"
   },
   {
    "duration": 17,
    "start_time": "2022-07-12T10:06:24.128Z"
   },
   {
    "duration": 29,
    "start_time": "2022-07-12T10:06:24.146Z"
   },
   {
    "duration": 9,
    "start_time": "2022-07-12T10:06:24.177Z"
   },
   {
    "duration": 14,
    "start_time": "2022-07-12T10:06:24.188Z"
   },
   {
    "duration": 25,
    "start_time": "2022-07-12T10:06:24.204Z"
   },
   {
    "duration": 9,
    "start_time": "2022-07-12T10:06:24.266Z"
   },
   {
    "duration": 17,
    "start_time": "2022-07-12T10:06:24.276Z"
   },
   {
    "duration": 70,
    "start_time": "2022-07-12T10:06:24.295Z"
   },
   {
    "duration": 16,
    "start_time": "2022-07-12T10:06:24.367Z"
   },
   {
    "duration": 9,
    "start_time": "2022-07-12T10:59:21.859Z"
   },
   {
    "duration": 3270,
    "start_time": "2022-07-12T10:59:24.271Z"
   },
   {
    "duration": 1074,
    "start_time": "2022-07-12T10:59:56.008Z"
   },
   {
    "duration": 38,
    "start_time": "2022-07-12T10:59:57.084Z"
   },
   {
    "duration": 11,
    "start_time": "2022-07-12T10:59:57.123Z"
   },
   {
    "duration": 11,
    "start_time": "2022-07-12T10:59:57.136Z"
   },
   {
    "duration": 22,
    "start_time": "2022-07-12T10:59:57.148Z"
   },
   {
    "duration": 12,
    "start_time": "2022-07-12T10:59:57.172Z"
   },
   {
    "duration": 7,
    "start_time": "2022-07-12T10:59:57.186Z"
   },
   {
    "duration": 11,
    "start_time": "2022-07-12T10:59:57.195Z"
   },
   {
    "duration": 59,
    "start_time": "2022-07-12T10:59:57.207Z"
   },
   {
    "duration": 5,
    "start_time": "2022-07-12T10:59:57.268Z"
   },
   {
    "duration": 9,
    "start_time": "2022-07-12T10:59:57.275Z"
   },
   {
    "duration": 46,
    "start_time": "2022-07-12T10:59:57.286Z"
   },
   {
    "duration": 40,
    "start_time": "2022-07-12T10:59:57.333Z"
   },
   {
    "duration": 9,
    "start_time": "2022-07-12T10:59:57.375Z"
   },
   {
    "duration": 2830,
    "start_time": "2022-07-12T10:59:57.386Z"
   },
   {
    "duration": 1121,
    "start_time": "2022-07-12T11:00:44.797Z"
   },
   {
    "duration": 40,
    "start_time": "2022-07-12T11:00:45.920Z"
   },
   {
    "duration": 13,
    "start_time": "2022-07-12T11:00:45.962Z"
   },
   {
    "duration": 11,
    "start_time": "2022-07-12T11:00:45.977Z"
   },
   {
    "duration": 28,
    "start_time": "2022-07-12T11:00:45.990Z"
   },
   {
    "duration": 21,
    "start_time": "2022-07-12T11:00:46.020Z"
   },
   {
    "duration": 9,
    "start_time": "2022-07-12T11:00:46.043Z"
   },
   {
    "duration": 26,
    "start_time": "2022-07-12T11:00:46.053Z"
   },
   {
    "duration": 30,
    "start_time": "2022-07-12T11:00:46.081Z"
   },
   {
    "duration": 7,
    "start_time": "2022-07-12T11:00:46.113Z"
   },
   {
    "duration": 27,
    "start_time": "2022-07-12T11:00:46.121Z"
   },
   {
    "duration": 64,
    "start_time": "2022-07-12T11:00:46.150Z"
   },
   {
    "duration": 14,
    "start_time": "2022-07-12T11:00:46.216Z"
   },
   {
    "duration": 10,
    "start_time": "2022-07-12T11:00:46.232Z"
   },
   {
    "duration": 2977,
    "start_time": "2022-07-12T11:00:46.244Z"
   },
   {
    "duration": 2940,
    "start_time": "2022-07-12T11:17:41.058Z"
   },
   {
    "duration": 2957,
    "start_time": "2022-07-12T11:17:58.302Z"
   },
   {
    "duration": 3076,
    "start_time": "2022-07-12T11:19:12.254Z"
   },
   {
    "duration": 303,
    "start_time": "2022-07-12T11:19:29.204Z"
   },
   {
    "duration": 2925,
    "start_time": "2022-07-12T11:20:46.629Z"
   },
   {
    "duration": 101,
    "start_time": "2022-07-12T11:21:03.244Z"
   },
   {
    "duration": 2823,
    "start_time": "2022-07-12T11:21:15.061Z"
   },
   {
    "duration": 6,
    "start_time": "2022-07-12T11:24:56.990Z"
   },
   {
    "duration": 236,
    "start_time": "2022-07-12T11:25:03.263Z"
   },
   {
    "duration": 126,
    "start_time": "2022-07-12T11:25:11.926Z"
   },
   {
    "duration": 2557,
    "start_time": "2022-07-12T11:25:19.848Z"
   },
   {
    "duration": 51,
    "start_time": "2022-07-12T11:25:53.070Z"
   },
   {
    "duration": 2057,
    "start_time": "2022-07-12T11:25:59.775Z"
   },
   {
    "duration": 2540,
    "start_time": "2022-07-12T11:26:27.057Z"
   },
   {
    "duration": 2503,
    "start_time": "2022-07-12T11:26:47.009Z"
   },
   {
    "duration": 2863,
    "start_time": "2022-07-12T11:27:05.096Z"
   },
   {
    "duration": 124,
    "start_time": "2022-07-12T12:49:57.816Z"
   },
   {
    "duration": 620,
    "start_time": "2022-07-12T12:52:58.530Z"
   },
   {
    "duration": 529,
    "start_time": "2022-07-12T12:54:58.538Z"
   },
   {
    "duration": 1178,
    "start_time": "2022-07-12T12:56:53.353Z"
   },
   {
    "duration": 39,
    "start_time": "2022-07-12T12:56:54.533Z"
   },
   {
    "duration": 13,
    "start_time": "2022-07-12T12:56:54.574Z"
   },
   {
    "duration": 15,
    "start_time": "2022-07-12T12:56:54.589Z"
   },
   {
    "duration": 12,
    "start_time": "2022-07-12T12:56:54.606Z"
   },
   {
    "duration": 18,
    "start_time": "2022-07-12T12:56:54.619Z"
   },
   {
    "duration": 7,
    "start_time": "2022-07-12T12:56:54.638Z"
   },
   {
    "duration": 16,
    "start_time": "2022-07-12T12:56:54.663Z"
   },
   {
    "duration": 36,
    "start_time": "2022-07-12T12:56:54.681Z"
   },
   {
    "duration": 5,
    "start_time": "2022-07-12T12:56:54.719Z"
   },
   {
    "duration": 18,
    "start_time": "2022-07-12T12:56:54.726Z"
   },
   {
    "duration": 58,
    "start_time": "2022-07-12T12:56:54.745Z"
   },
   {
    "duration": 14,
    "start_time": "2022-07-12T12:56:54.805Z"
   },
   {
    "duration": 8,
    "start_time": "2022-07-12T12:56:54.821Z"
   },
   {
    "duration": 3092,
    "start_time": "2022-07-12T12:56:54.831Z"
   },
   {
    "duration": 580,
    "start_time": "2022-07-12T12:56:57.925Z"
   },
   {
    "duration": 1368,
    "start_time": "2022-07-12T13:27:36.620Z"
   },
   {
    "duration": 1123,
    "start_time": "2022-07-12T13:31:46.972Z"
   },
   {
    "duration": 1004,
    "start_time": "2022-07-12T13:33:23.437Z"
   },
   {
    "duration": 103,
    "start_time": "2022-07-12T13:33:38.852Z"
   },
   {
    "duration": 983,
    "start_time": "2022-07-12T13:33:43.299Z"
   },
   {
    "duration": 72,
    "start_time": "2022-07-12T13:35:55.004Z"
   },
   {
    "duration": 1195,
    "start_time": "2022-07-12T13:37:52.149Z"
   },
   {
    "duration": 1118,
    "start_time": "2022-07-12T13:37:55.315Z"
   },
   {
    "duration": 1120,
    "start_time": "2022-07-12T13:38:02.235Z"
   },
   {
    "duration": 1477,
    "start_time": "2022-07-12T14:33:46.952Z"
   },
   {
    "duration": 51,
    "start_time": "2022-07-12T14:33:48.432Z"
   },
   {
    "duration": 14,
    "start_time": "2022-07-12T14:33:48.485Z"
   },
   {
    "duration": 11,
    "start_time": "2022-07-12T14:33:48.501Z"
   },
   {
    "duration": 17,
    "start_time": "2022-07-12T14:33:48.515Z"
   },
   {
    "duration": 16,
    "start_time": "2022-07-12T14:33:48.534Z"
   },
   {
    "duration": 21,
    "start_time": "2022-07-12T14:33:48.552Z"
   },
   {
    "duration": 23,
    "start_time": "2022-07-12T14:33:48.574Z"
   },
   {
    "duration": 31,
    "start_time": "2022-07-12T14:33:48.599Z"
   },
   {
    "duration": 7,
    "start_time": "2022-07-12T14:33:48.632Z"
   },
   {
    "duration": 38,
    "start_time": "2022-07-12T14:33:48.641Z"
   },
   {
    "duration": 46,
    "start_time": "2022-07-12T14:33:48.681Z"
   },
   {
    "duration": 16,
    "start_time": "2022-07-12T14:33:48.728Z"
   },
   {
    "duration": 21,
    "start_time": "2022-07-12T14:33:48.746Z"
   },
   {
    "duration": 3118,
    "start_time": "2022-07-12T14:33:48.768Z"
   },
   {
    "duration": 758,
    "start_time": "2022-07-12T14:33:51.888Z"
   },
   {
    "duration": 1179,
    "start_time": "2022-07-12T14:33:52.649Z"
   },
   {
    "duration": 1085,
    "start_time": "2022-07-12T14:33:53.830Z"
   },
   {
    "duration": 1082,
    "start_time": "2022-07-12T14:33:54.917Z"
   },
   {
    "duration": 54,
    "start_time": "2022-07-12T14:33:56.001Z"
   },
   {
    "duration": 122,
    "start_time": "2022-07-12T14:37:03.998Z"
   },
   {
    "duration": 18,
    "start_time": "2022-07-12T14:37:17.749Z"
   },
   {
    "duration": 2262,
    "start_time": "2022-07-12T14:37:22.716Z"
   },
   {
    "duration": 154,
    "start_time": "2022-07-12T14:40:47.718Z"
   },
   {
    "duration": 63,
    "start_time": "2022-07-12T14:40:54.550Z"
   },
   {
    "duration": 62,
    "start_time": "2022-07-12T14:41:13.316Z"
   },
   {
    "duration": 301974,
    "start_time": "2022-07-12T14:46:14.018Z"
   },
   {
    "duration": 2269,
    "start_time": "2022-07-12T14:53:00.722Z"
   },
   {
    "duration": 21,
    "start_time": "2022-07-12T14:53:07.169Z"
   },
   {
    "duration": 32,
    "start_time": "2022-07-12T14:54:18.748Z"
   },
   {
    "duration": 3274,
    "start_time": "2022-07-12T14:59:20.507Z"
   },
   {
    "duration": 2739,
    "start_time": "2022-07-12T14:59:41.508Z"
   },
   {
    "duration": 1521,
    "start_time": "2022-07-12T15:00:51.423Z"
   },
   {
    "duration": 41,
    "start_time": "2022-07-12T15:00:52.945Z"
   },
   {
    "duration": 13,
    "start_time": "2022-07-12T15:00:52.988Z"
   },
   {
    "duration": 15,
    "start_time": "2022-07-12T15:00:53.005Z"
   },
   {
    "duration": 28,
    "start_time": "2022-07-12T15:00:53.023Z"
   },
   {
    "duration": 36,
    "start_time": "2022-07-12T15:00:53.053Z"
   },
   {
    "duration": 10,
    "start_time": "2022-07-12T15:00:53.092Z"
   },
   {
    "duration": 12,
    "start_time": "2022-07-12T15:00:53.105Z"
   },
   {
    "duration": 52,
    "start_time": "2022-07-12T15:00:53.119Z"
   },
   {
    "duration": 6,
    "start_time": "2022-07-12T15:00:53.175Z"
   },
   {
    "duration": 19,
    "start_time": "2022-07-12T15:00:53.184Z"
   },
   {
    "duration": 76,
    "start_time": "2022-07-12T15:00:53.206Z"
   },
   {
    "duration": 16,
    "start_time": "2022-07-12T15:00:53.284Z"
   },
   {
    "duration": 8,
    "start_time": "2022-07-12T15:00:53.302Z"
   },
   {
    "duration": 2284,
    "start_time": "2022-07-12T15:00:53.312Z"
   },
   {
    "duration": 222,
    "start_time": "2022-07-12T15:00:55.599Z"
   },
   {
    "duration": 0,
    "start_time": "2022-07-12T15:00:55.823Z"
   },
   {
    "duration": 0,
    "start_time": "2022-07-12T15:00:55.824Z"
   },
   {
    "duration": 0,
    "start_time": "2022-07-12T15:00:55.825Z"
   },
   {
    "duration": 0,
    "start_time": "2022-07-12T15:00:55.826Z"
   },
   {
    "duration": 0,
    "start_time": "2022-07-12T15:00:55.831Z"
   },
   {
    "duration": 0,
    "start_time": "2022-07-12T15:00:55.832Z"
   },
   {
    "duration": 0,
    "start_time": "2022-07-12T15:00:55.833Z"
   },
   {
    "duration": 0,
    "start_time": "2022-07-12T15:00:55.835Z"
   },
   {
    "duration": 0,
    "start_time": "2022-07-12T15:00:55.836Z"
   },
   {
    "duration": 0,
    "start_time": "2022-07-12T15:00:55.838Z"
   },
   {
    "duration": 0,
    "start_time": "2022-07-12T15:00:55.864Z"
   },
   {
    "duration": 1481,
    "start_time": "2022-07-12T15:01:27.160Z"
   },
   {
    "duration": 45,
    "start_time": "2022-07-12T15:01:28.644Z"
   },
   {
    "duration": 15,
    "start_time": "2022-07-12T15:01:28.691Z"
   },
   {
    "duration": 23,
    "start_time": "2022-07-12T15:01:28.709Z"
   },
   {
    "duration": 31,
    "start_time": "2022-07-12T15:01:28.734Z"
   },
   {
    "duration": 18,
    "start_time": "2022-07-12T15:01:28.767Z"
   },
   {
    "duration": 11,
    "start_time": "2022-07-12T15:01:28.787Z"
   },
   {
    "duration": 13,
    "start_time": "2022-07-12T15:01:28.800Z"
   },
   {
    "duration": 64,
    "start_time": "2022-07-12T15:01:28.815Z"
   },
   {
    "duration": 8,
    "start_time": "2022-07-12T15:01:28.883Z"
   },
   {
    "duration": 19,
    "start_time": "2022-07-12T15:01:28.893Z"
   },
   {
    "duration": 57,
    "start_time": "2022-07-12T15:01:28.913Z"
   },
   {
    "duration": 15,
    "start_time": "2022-07-12T15:01:28.972Z"
   },
   {
    "duration": 8,
    "start_time": "2022-07-12T15:01:28.989Z"
   },
   {
    "duration": 2369,
    "start_time": "2022-07-12T15:01:28.998Z"
   },
   {
    "duration": 577,
    "start_time": "2022-07-12T15:01:31.369Z"
   },
   {
    "duration": 1408,
    "start_time": "2022-07-12T15:01:31.948Z"
   },
   {
    "duration": 1074,
    "start_time": "2022-07-12T15:01:33.358Z"
   },
   {
    "duration": 1157,
    "start_time": "2022-07-12T15:01:34.434Z"
   },
   {
    "duration": 6325,
    "start_time": "2022-07-12T15:01:35.593Z"
   },
   {
    "duration": 51,
    "start_time": "2022-07-12T15:01:41.920Z"
   },
   {
    "duration": 153,
    "start_time": "2022-07-12T15:01:41.973Z"
   },
   {
    "duration": 281666,
    "start_time": "2022-07-12T15:01:42.128Z"
   },
   {
    "duration": 2073,
    "start_time": "2022-07-12T15:06:23.796Z"
   },
   {
    "duration": 19,
    "start_time": "2022-07-12T15:06:25.871Z"
   },
   {
    "duration": 12609,
    "start_time": "2022-07-12T15:06:25.892Z"
   },
   {
    "duration": 1237,
    "start_time": "2022-07-12T15:06:38.502Z"
   },
   {
    "duration": 2031,
    "start_time": "2022-07-12T15:06:39.741Z"
   },
   {
    "duration": 19,
    "start_time": "2022-07-12T15:06:56.343Z"
   },
   {
    "duration": 10920,
    "start_time": "2022-07-12T15:06:59.224Z"
   },
   {
    "duration": 2142,
    "start_time": "2022-07-12T15:07:31.058Z"
   },
   {
    "duration": 2540,
    "start_time": "2022-07-12T15:07:41.464Z"
   },
   {
    "duration": 1210,
    "start_time": "2022-07-12T15:08:41.799Z"
   },
   {
    "duration": 20,
    "start_time": "2022-07-12T15:09:39.744Z"
   },
   {
    "duration": 18,
    "start_time": "2022-07-12T15:09:46.415Z"
   },
   {
    "duration": 61,
    "start_time": "2022-07-12T15:11:42.992Z"
   },
   {
    "duration": 2004,
    "start_time": "2022-07-13T07:30:31.426Z"
   },
   {
    "duration": 90,
    "start_time": "2022-07-13T07:30:33.437Z"
   },
   {
    "duration": 29,
    "start_time": "2022-07-13T07:30:33.535Z"
   },
   {
    "duration": 13,
    "start_time": "2022-07-13T07:30:33.566Z"
   },
   {
    "duration": 18,
    "start_time": "2022-07-13T07:30:33.581Z"
   },
   {
    "duration": 30,
    "start_time": "2022-07-13T07:30:33.601Z"
   },
   {
    "duration": 11,
    "start_time": "2022-07-13T07:30:33.633Z"
   },
   {
    "duration": 50,
    "start_time": "2022-07-13T07:30:33.650Z"
   },
   {
    "duration": 53,
    "start_time": "2022-07-13T07:30:33.702Z"
   },
   {
    "duration": 6,
    "start_time": "2022-07-13T07:30:33.758Z"
   },
   {
    "duration": 11,
    "start_time": "2022-07-13T07:30:33.766Z"
   },
   {
    "duration": 62,
    "start_time": "2022-07-13T07:30:33.778Z"
   },
   {
    "duration": 25,
    "start_time": "2022-07-13T07:30:33.842Z"
   },
   {
    "duration": 14,
    "start_time": "2022-07-13T07:30:33.870Z"
   },
   {
    "duration": 2180,
    "start_time": "2022-07-13T07:30:33.886Z"
   },
   {
    "duration": 634,
    "start_time": "2022-07-13T07:30:36.068Z"
   },
   {
    "duration": 1533,
    "start_time": "2022-07-13T07:30:36.704Z"
   },
   {
    "duration": 1147,
    "start_time": "2022-07-13T07:30:38.239Z"
   },
   {
    "duration": 1248,
    "start_time": "2022-07-13T07:30:39.388Z"
   },
   {
    "duration": 3326,
    "start_time": "2022-07-13T07:30:40.643Z"
   },
   {
    "duration": 62,
    "start_time": "2022-07-13T07:30:43.972Z"
   },
   {
    "duration": 145,
    "start_time": "2022-07-13T07:30:44.039Z"
   },
   {
    "duration": 339390,
    "start_time": "2022-07-13T07:30:44.187Z"
   },
   {
    "duration": 1968,
    "start_time": "2022-07-13T07:36:23.579Z"
   },
   {
    "duration": 104,
    "start_time": "2022-07-13T07:36:25.549Z"
   },
   {
    "duration": 1298,
    "start_time": "2022-07-13T07:36:25.656Z"
   },
   {
    "duration": 780,
    "start_time": "2022-07-13T07:36:26.958Z"
   },
   {
    "duration": 54,
    "start_time": "2022-07-13T11:40:56.566Z"
   },
   {
    "duration": 1778,
    "start_time": "2022-07-13T11:41:09.462Z"
   },
   {
    "duration": 70,
    "start_time": "2022-07-13T11:41:11.244Z"
   },
   {
    "duration": 16,
    "start_time": "2022-07-13T11:41:11.316Z"
   },
   {
    "duration": 39,
    "start_time": "2022-07-13T11:41:11.336Z"
   },
   {
    "duration": 17,
    "start_time": "2022-07-13T11:41:11.377Z"
   },
   {
    "duration": 14,
    "start_time": "2022-07-13T11:41:11.397Z"
   },
   {
    "duration": 13,
    "start_time": "2022-07-13T11:41:11.413Z"
   },
   {
    "duration": 17,
    "start_time": "2022-07-13T11:41:11.428Z"
   },
   {
    "duration": 47,
    "start_time": "2022-07-13T11:41:11.446Z"
   },
   {
    "duration": 7,
    "start_time": "2022-07-13T11:41:11.495Z"
   },
   {
    "duration": 30,
    "start_time": "2022-07-13T11:41:11.529Z"
   },
   {
    "duration": 48,
    "start_time": "2022-07-13T11:41:11.561Z"
   },
   {
    "duration": 20,
    "start_time": "2022-07-13T11:41:11.610Z"
   },
   {
    "duration": 32,
    "start_time": "2022-07-13T11:41:11.631Z"
   },
   {
    "duration": 2254,
    "start_time": "2022-07-13T11:41:11.665Z"
   },
   {
    "duration": 749,
    "start_time": "2022-07-13T11:41:13.923Z"
   },
   {
    "duration": 1588,
    "start_time": "2022-07-13T11:41:14.674Z"
   },
   {
    "duration": 1206,
    "start_time": "2022-07-13T11:41:16.265Z"
   },
   {
    "duration": 1158,
    "start_time": "2022-07-13T11:41:17.473Z"
   },
   {
    "duration": 2017,
    "start_time": "2022-07-13T11:41:18.634Z"
   },
   {
    "duration": 66,
    "start_time": "2022-07-13T11:41:20.657Z"
   },
   {
    "duration": 179,
    "start_time": "2022-07-13T11:41:20.726Z"
   },
   {
    "duration": 341548,
    "start_time": "2022-07-13T11:41:20.906Z"
   },
   {
    "duration": 1879,
    "start_time": "2022-07-13T11:47:02.456Z"
   },
   {
    "duration": 26,
    "start_time": "2022-07-13T11:47:04.348Z"
   },
   {
    "duration": 1304,
    "start_time": "2022-07-13T11:47:04.376Z"
   },
   {
    "duration": 874,
    "start_time": "2022-07-13T11:47:05.682Z"
   },
   {
    "duration": 6,
    "start_time": "2022-07-13T11:47:06.559Z"
   },
   {
    "duration": 105,
    "start_time": "2022-07-13T11:52:31.067Z"
   },
   {
    "duration": 6,
    "start_time": "2022-07-13T11:56:11.500Z"
   },
   {
    "duration": 67,
    "start_time": "2022-07-13T11:56:20.574Z"
   },
   {
    "duration": 144,
    "start_time": "2022-07-13T11:57:24.681Z"
   },
   {
    "duration": 7,
    "start_time": "2022-07-13T11:57:46.068Z"
   },
   {
    "duration": 1551,
    "start_time": "2022-07-13T14:48:50.544Z"
   },
   {
    "duration": 60,
    "start_time": "2022-07-13T14:48:52.097Z"
   },
   {
    "duration": 22,
    "start_time": "2022-07-13T14:48:52.159Z"
   },
   {
    "duration": 18,
    "start_time": "2022-07-13T14:48:52.185Z"
   },
   {
    "duration": 36,
    "start_time": "2022-07-13T14:48:52.205Z"
   },
   {
    "duration": 29,
    "start_time": "2022-07-13T14:48:52.244Z"
   },
   {
    "duration": 13,
    "start_time": "2022-07-13T14:48:52.275Z"
   },
   {
    "duration": 35,
    "start_time": "2022-07-13T14:48:52.291Z"
   },
   {
    "duration": 36,
    "start_time": "2022-07-13T14:48:52.329Z"
   },
   {
    "duration": 11,
    "start_time": "2022-07-13T14:48:52.370Z"
   },
   {
    "duration": 43,
    "start_time": "2022-07-13T14:48:52.383Z"
   },
   {
    "duration": 68,
    "start_time": "2022-07-13T14:48:52.428Z"
   },
   {
    "duration": 27,
    "start_time": "2022-07-13T14:48:52.498Z"
   },
   {
    "duration": 10,
    "start_time": "2022-07-13T14:48:52.527Z"
   },
   {
    "duration": 2061,
    "start_time": "2022-07-13T14:48:52.539Z"
   },
   {
    "duration": 667,
    "start_time": "2022-07-13T14:48:54.602Z"
   },
   {
    "duration": 1434,
    "start_time": "2022-07-13T14:48:55.272Z"
   },
   {
    "duration": 1175,
    "start_time": "2022-07-13T14:48:56.708Z"
   },
   {
    "duration": 1204,
    "start_time": "2022-07-13T14:48:57.885Z"
   },
   {
    "duration": 1629,
    "start_time": "2022-07-13T14:48:59.092Z"
   },
   {
    "duration": 20,
    "start_time": "2022-07-13T14:49:00.723Z"
   },
   {
    "duration": 169,
    "start_time": "2022-07-13T14:49:00.826Z"
   },
   {
    "duration": 317391,
    "start_time": "2022-07-13T14:49:00.998Z"
   },
   {
    "duration": 1734,
    "start_time": "2022-07-13T14:54:18.392Z"
   },
   {
    "duration": 19,
    "start_time": "2022-07-13T14:54:20.128Z"
   },
   {
    "duration": 1162,
    "start_time": "2022-07-13T14:54:20.149Z"
   },
   {
    "duration": 757,
    "start_time": "2022-07-13T14:54:21.313Z"
   },
   {
    "duration": 8,
    "start_time": "2022-07-13T14:54:22.075Z"
   },
   {
    "duration": 9,
    "start_time": "2022-07-13T14:54:22.084Z"
   },
   {
    "duration": 6,
    "start_time": "2022-07-13T14:54:22.095Z"
   },
   {
    "duration": 45,
    "start_time": "2022-07-14T21:46:13.523Z"
   },
   {
    "duration": 8,
    "start_time": "2022-07-14T21:46:13.984Z"
   },
   {
    "duration": 2285,
    "start_time": "2022-07-14T21:46:17.080Z"
   },
   {
    "duration": 87,
    "start_time": "2022-07-14T21:46:19.367Z"
   },
   {
    "duration": 12,
    "start_time": "2022-07-14T21:46:19.455Z"
   },
   {
    "duration": 24,
    "start_time": "2022-07-14T21:46:19.469Z"
   },
   {
    "duration": 24,
    "start_time": "2022-07-14T21:46:19.495Z"
   },
   {
    "duration": 22,
    "start_time": "2022-07-14T21:46:19.521Z"
   },
   {
    "duration": 11,
    "start_time": "2022-07-14T21:46:19.546Z"
   },
   {
    "duration": 17,
    "start_time": "2022-07-14T21:46:19.559Z"
   },
   {
    "duration": 31,
    "start_time": "2022-07-14T21:46:20.084Z"
   },
   {
    "duration": 6,
    "start_time": "2022-07-14T21:46:20.624Z"
   },
   {
    "duration": 7,
    "start_time": "2022-07-14T21:46:21.034Z"
   },
   {
    "duration": 52,
    "start_time": "2022-07-14T21:46:21.333Z"
   },
   {
    "duration": 94,
    "start_time": "2022-07-14T21:48:30.439Z"
   },
   {
    "duration": 1554,
    "start_time": "2022-07-15T08:36:23.269Z"
   },
   {
    "duration": 94,
    "start_time": "2022-07-15T08:36:24.826Z"
   },
   {
    "duration": 14,
    "start_time": "2022-07-15T08:36:24.921Z"
   },
   {
    "duration": 13,
    "start_time": "2022-07-15T08:36:24.937Z"
   },
   {
    "duration": 17,
    "start_time": "2022-07-15T08:36:24.952Z"
   },
   {
    "duration": 14,
    "start_time": "2022-07-15T08:36:24.970Z"
   },
   {
    "duration": 5,
    "start_time": "2022-07-15T08:36:24.985Z"
   },
   {
    "duration": 38,
    "start_time": "2022-07-15T08:36:24.992Z"
   },
   {
    "duration": 18,
    "start_time": "2022-07-15T08:36:25.032Z"
   },
   {
    "duration": 24,
    "start_time": "2022-07-15T08:36:25.053Z"
   },
   {
    "duration": 6,
    "start_time": "2022-07-15T08:36:25.078Z"
   },
   {
    "duration": 39,
    "start_time": "2022-07-15T08:36:25.085Z"
   },
   {
    "duration": 39,
    "start_time": "2022-07-15T08:36:25.126Z"
   },
   {
    "duration": 13,
    "start_time": "2022-07-15T08:36:25.167Z"
   },
   {
    "duration": 8,
    "start_time": "2022-07-15T08:36:25.182Z"
   },
   {
    "duration": 1715,
    "start_time": "2022-07-15T08:36:25.191Z"
   },
   {
    "duration": 616,
    "start_time": "2022-07-15T08:36:26.908Z"
   },
   {
    "duration": 1224,
    "start_time": "2022-07-15T08:36:27.525Z"
   },
   {
    "duration": 945,
    "start_time": "2022-07-15T08:36:28.751Z"
   },
   {
    "duration": 998,
    "start_time": "2022-07-15T08:36:29.698Z"
   },
   {
    "duration": 1670,
    "start_time": "2022-07-15T08:36:30.697Z"
   },
   {
    "duration": 62,
    "start_time": "2022-07-15T08:36:32.368Z"
   },
   {
    "duration": 156,
    "start_time": "2022-07-15T08:36:32.432Z"
   },
   {
    "duration": 269186,
    "start_time": "2022-07-15T08:36:32.590Z"
   },
   {
    "duration": 1946,
    "start_time": "2022-07-15T08:41:01.778Z"
   },
   {
    "duration": 16,
    "start_time": "2022-07-15T08:41:03.726Z"
   },
   {
    "duration": 987,
    "start_time": "2022-07-15T08:41:03.744Z"
   },
   {
    "duration": 658,
    "start_time": "2022-07-15T08:41:04.734Z"
   },
   {
    "duration": 6,
    "start_time": "2022-07-15T08:41:05.393Z"
   },
   {
    "duration": 9,
    "start_time": "2022-07-15T08:41:05.400Z"
   },
   {
    "duration": 15,
    "start_time": "2022-07-15T08:41:05.410Z"
   },
   {
    "duration": 9,
    "start_time": "2022-07-15T08:42:04.952Z"
   },
   {
    "duration": 12,
    "start_time": "2022-07-15T08:42:50.140Z"
   },
   {
    "duration": 7,
    "start_time": "2022-07-15T08:42:52.963Z"
   },
   {
    "duration": 1332,
    "start_time": "2022-07-15T08:43:28.559Z"
   },
   {
    "duration": 51,
    "start_time": "2022-07-15T08:43:29.893Z"
   },
   {
    "duration": 12,
    "start_time": "2022-07-15T08:43:29.945Z"
   },
   {
    "duration": 21,
    "start_time": "2022-07-15T08:43:29.959Z"
   },
   {
    "duration": 15,
    "start_time": "2022-07-15T08:43:29.981Z"
   },
   {
    "duration": 28,
    "start_time": "2022-07-15T08:43:29.998Z"
   },
   {
    "duration": 13,
    "start_time": "2022-07-15T08:43:30.027Z"
   },
   {
    "duration": 17,
    "start_time": "2022-07-15T08:43:30.041Z"
   },
   {
    "duration": 3,
    "start_time": "2022-07-15T08:43:30.060Z"
   },
   {
    "duration": 31,
    "start_time": "2022-07-15T08:43:30.065Z"
   },
   {
    "duration": 28,
    "start_time": "2022-07-15T08:43:30.098Z"
   },
   {
    "duration": 20,
    "start_time": "2022-07-15T08:43:30.127Z"
   },
   {
    "duration": 50,
    "start_time": "2022-07-15T08:43:30.148Z"
   },
   {
    "duration": 13,
    "start_time": "2022-07-15T08:43:30.200Z"
   },
   {
    "duration": 19,
    "start_time": "2022-07-15T08:43:30.215Z"
   },
   {
    "duration": 1702,
    "start_time": "2022-07-15T08:43:30.236Z"
   },
   {
    "duration": 533,
    "start_time": "2022-07-15T08:43:31.940Z"
   },
   {
    "duration": 1202,
    "start_time": "2022-07-15T08:43:32.475Z"
   },
   {
    "duration": 997,
    "start_time": "2022-07-15T08:43:33.678Z"
   },
   {
    "duration": 976,
    "start_time": "2022-07-15T08:43:34.677Z"
   },
   {
    "duration": 127,
    "start_time": "2022-07-15T08:43:35.655Z"
   },
   {
    "duration": 0,
    "start_time": "2022-07-15T08:43:35.784Z"
   },
   {
    "duration": 0,
    "start_time": "2022-07-15T08:43:35.785Z"
   },
   {
    "duration": 0,
    "start_time": "2022-07-15T08:43:35.786Z"
   },
   {
    "duration": 0,
    "start_time": "2022-07-15T08:43:35.787Z"
   },
   {
    "duration": 0,
    "start_time": "2022-07-15T08:43:35.788Z"
   },
   {
    "duration": 0,
    "start_time": "2022-07-15T08:43:35.789Z"
   },
   {
    "duration": 0,
    "start_time": "2022-07-15T08:43:35.790Z"
   },
   {
    "duration": 0,
    "start_time": "2022-07-15T08:43:35.792Z"
   },
   {
    "duration": 0,
    "start_time": "2022-07-15T08:43:35.792Z"
   },
   {
    "duration": 0,
    "start_time": "2022-07-15T08:43:35.793Z"
   },
   {
    "duration": 1333,
    "start_time": "2022-07-15T08:44:11.683Z"
   },
   {
    "duration": 54,
    "start_time": "2022-07-15T08:44:13.018Z"
   },
   {
    "duration": 13,
    "start_time": "2022-07-15T08:44:13.074Z"
   },
   {
    "duration": 19,
    "start_time": "2022-07-15T08:44:13.089Z"
   },
   {
    "duration": 20,
    "start_time": "2022-07-15T08:44:13.109Z"
   },
   {
    "duration": 32,
    "start_time": "2022-07-15T08:44:13.130Z"
   },
   {
    "duration": 15,
    "start_time": "2022-07-15T08:44:13.164Z"
   },
   {
    "duration": 10,
    "start_time": "2022-07-15T08:44:13.180Z"
   },
   {
    "duration": 17,
    "start_time": "2022-07-15T08:44:13.191Z"
   },
   {
    "duration": 23,
    "start_time": "2022-07-15T08:44:13.210Z"
   },
   {
    "duration": 5,
    "start_time": "2022-07-15T08:44:13.234Z"
   },
   {
    "duration": 14,
    "start_time": "2022-07-15T08:44:13.241Z"
   },
   {
    "duration": 39,
    "start_time": "2022-07-15T08:44:13.256Z"
   },
   {
    "duration": 28,
    "start_time": "2022-07-15T08:44:13.297Z"
   },
   {
    "duration": 8,
    "start_time": "2022-07-15T08:44:13.327Z"
   },
   {
    "duration": 1672,
    "start_time": "2022-07-15T08:44:13.336Z"
   },
   {
    "duration": 536,
    "start_time": "2022-07-15T08:44:15.009Z"
   },
   {
    "duration": 1163,
    "start_time": "2022-07-15T08:44:15.546Z"
   },
   {
    "duration": 1019,
    "start_time": "2022-07-15T08:44:16.711Z"
   },
   {
    "duration": 952,
    "start_time": "2022-07-15T08:44:17.732Z"
   },
   {
    "duration": 1683,
    "start_time": "2022-07-15T08:44:18.685Z"
   },
   {
    "duration": 58,
    "start_time": "2022-07-15T08:44:20.370Z"
   },
   {
    "duration": 160,
    "start_time": "2022-07-15T08:44:20.430Z"
   },
   {
    "duration": 2,
    "start_time": "2022-07-15T08:44:20.592Z"
   },
   {
    "duration": 114,
    "start_time": "2022-07-15T08:44:20.595Z"
   },
   {
    "duration": 0,
    "start_time": "2022-07-15T08:44:20.711Z"
   },
   {
    "duration": 0,
    "start_time": "2022-07-15T08:44:20.712Z"
   },
   {
    "duration": 0,
    "start_time": "2022-07-15T08:44:20.713Z"
   },
   {
    "duration": 0,
    "start_time": "2022-07-15T08:44:20.714Z"
   },
   {
    "duration": 0,
    "start_time": "2022-07-15T08:44:20.715Z"
   },
   {
    "duration": 0,
    "start_time": "2022-07-15T08:44:20.716Z"
   },
   {
    "duration": 14,
    "start_time": "2022-07-15T08:45:49.197Z"
   },
   {
    "duration": 1323,
    "start_time": "2022-07-15T08:47:18.363Z"
   },
   {
    "duration": 50,
    "start_time": "2022-07-15T08:47:19.688Z"
   },
   {
    "duration": 11,
    "start_time": "2022-07-15T08:47:19.739Z"
   },
   {
    "duration": 9,
    "start_time": "2022-07-15T08:47:19.752Z"
   },
   {
    "duration": 11,
    "start_time": "2022-07-15T08:47:19.763Z"
   },
   {
    "duration": 13,
    "start_time": "2022-07-15T08:47:19.776Z"
   },
   {
    "duration": 35,
    "start_time": "2022-07-15T08:47:19.791Z"
   },
   {
    "duration": 11,
    "start_time": "2022-07-15T08:47:19.828Z"
   },
   {
    "duration": 8,
    "start_time": "2022-07-15T08:47:19.840Z"
   },
   {
    "duration": 11,
    "start_time": "2022-07-15T08:47:19.851Z"
   },
   {
    "duration": 65,
    "start_time": "2022-07-15T08:47:19.864Z"
   },
   {
    "duration": 5,
    "start_time": "2022-07-15T08:47:19.931Z"
   },
   {
    "duration": 9,
    "start_time": "2022-07-15T08:47:19.938Z"
   },
   {
    "duration": 41,
    "start_time": "2022-07-15T08:47:19.948Z"
   },
   {
    "duration": 12,
    "start_time": "2022-07-15T08:47:19.990Z"
   },
   {
    "duration": 10,
    "start_time": "2022-07-15T08:47:20.025Z"
   },
   {
    "duration": 1793,
    "start_time": "2022-07-15T08:47:20.037Z"
   },
   {
    "duration": 560,
    "start_time": "2022-07-15T08:47:21.831Z"
   },
   {
    "duration": 1236,
    "start_time": "2022-07-15T08:47:22.393Z"
   },
   {
    "duration": 1039,
    "start_time": "2022-07-15T08:47:23.631Z"
   },
   {
    "duration": 978,
    "start_time": "2022-07-15T08:47:24.672Z"
   },
   {
    "duration": 1823,
    "start_time": "2022-07-15T08:47:25.652Z"
   },
   {
    "duration": 51,
    "start_time": "2022-07-15T08:47:27.477Z"
   },
   {
    "duration": 149,
    "start_time": "2022-07-15T08:47:27.531Z"
   },
   {
    "duration": 3,
    "start_time": "2022-07-15T08:47:27.681Z"
   },
   {
    "duration": 125,
    "start_time": "2022-07-15T08:47:27.685Z"
   },
   {
    "duration": 0,
    "start_time": "2022-07-15T08:47:27.812Z"
   },
   {
    "duration": 0,
    "start_time": "2022-07-15T08:47:27.813Z"
   },
   {
    "duration": 0,
    "start_time": "2022-07-15T08:47:27.815Z"
   },
   {
    "duration": 0,
    "start_time": "2022-07-15T08:47:27.816Z"
   },
   {
    "duration": 0,
    "start_time": "2022-07-15T08:47:27.823Z"
   },
   {
    "duration": 0,
    "start_time": "2022-07-15T08:47:27.825Z"
   },
   {
    "duration": 25,
    "start_time": "2022-07-15T09:07:39.133Z"
   },
   {
    "duration": 35,
    "start_time": "2022-07-15T09:08:53.887Z"
   },
   {
    "duration": 12,
    "start_time": "2022-07-15T09:10:28.387Z"
   },
   {
    "duration": 35,
    "start_time": "2022-07-15T09:11:18.300Z"
   },
   {
    "duration": 1366,
    "start_time": "2022-07-15T09:11:58.553Z"
   },
   {
    "duration": 52,
    "start_time": "2022-07-15T09:11:59.921Z"
   },
   {
    "duration": 11,
    "start_time": "2022-07-15T09:11:59.975Z"
   },
   {
    "duration": 10,
    "start_time": "2022-07-15T09:11:59.988Z"
   },
   {
    "duration": 12,
    "start_time": "2022-07-15T09:12:00.000Z"
   },
   {
    "duration": 27,
    "start_time": "2022-07-15T09:12:00.014Z"
   },
   {
    "duration": 12,
    "start_time": "2022-07-15T09:12:00.042Z"
   },
   {
    "duration": 27,
    "start_time": "2022-07-15T09:12:00.056Z"
   },
   {
    "duration": 48,
    "start_time": "2022-07-15T09:12:00.084Z"
   },
   {
    "duration": 10,
    "start_time": "2022-07-15T09:12:00.135Z"
   },
   {
    "duration": 29,
    "start_time": "2022-07-15T09:12:00.147Z"
   },
   {
    "duration": 65,
    "start_time": "2022-07-15T09:12:00.177Z"
   },
   {
    "duration": 9,
    "start_time": "2022-07-15T09:12:00.244Z"
   },
   {
    "duration": 14,
    "start_time": "2022-07-15T09:12:00.255Z"
   },
   {
    "duration": 25,
    "start_time": "2022-07-15T09:12:00.271Z"
   },
   {
    "duration": 6,
    "start_time": "2022-07-15T09:12:00.324Z"
   },
   {
    "duration": 32,
    "start_time": "2022-07-15T09:12:00.332Z"
   },
   {
    "duration": 38,
    "start_time": "2022-07-15T09:12:00.366Z"
   },
   {
    "duration": 13,
    "start_time": "2022-07-15T09:12:00.406Z"
   },
   {
    "duration": 18,
    "start_time": "2022-07-15T09:12:00.421Z"
   },
   {
    "duration": 1751,
    "start_time": "2022-07-15T09:12:00.441Z"
   },
   {
    "duration": 568,
    "start_time": "2022-07-15T09:12:02.194Z"
   },
   {
    "duration": 1225,
    "start_time": "2022-07-15T09:12:02.764Z"
   },
   {
    "duration": 1057,
    "start_time": "2022-07-15T09:12:03.991Z"
   },
   {
    "duration": 972,
    "start_time": "2022-07-15T09:12:05.049Z"
   },
   {
    "duration": 1801,
    "start_time": "2022-07-15T09:12:06.023Z"
   },
   {
    "duration": 107,
    "start_time": "2022-07-15T09:12:07.826Z"
   },
   {
    "duration": 60,
    "start_time": "2022-07-15T09:12:08.026Z"
   },
   {
    "duration": 2,
    "start_time": "2022-07-15T09:12:08.088Z"
   },
   {
    "duration": 121,
    "start_time": "2022-07-15T09:12:08.092Z"
   },
   {
    "duration": 0,
    "start_time": "2022-07-15T09:12:08.215Z"
   },
   {
    "duration": 0,
    "start_time": "2022-07-15T09:12:08.216Z"
   },
   {
    "duration": 0,
    "start_time": "2022-07-15T09:12:08.223Z"
   },
   {
    "duration": 0,
    "start_time": "2022-07-15T09:12:08.224Z"
   },
   {
    "duration": 0,
    "start_time": "2022-07-15T09:12:08.225Z"
   },
   {
    "duration": 0,
    "start_time": "2022-07-15T09:12:08.226Z"
   },
   {
    "duration": 51,
    "start_time": "2022-07-15T09:41:07.021Z"
   },
   {
    "duration": 1346,
    "start_time": "2022-07-15T09:59:59.987Z"
   },
   {
    "duration": 53,
    "start_time": "2022-07-15T10:00:01.335Z"
   },
   {
    "duration": 14,
    "start_time": "2022-07-15T10:00:01.389Z"
   },
   {
    "duration": 25,
    "start_time": "2022-07-15T10:00:01.406Z"
   },
   {
    "duration": 59,
    "start_time": "2022-07-15T10:00:01.433Z"
   },
   {
    "duration": 83,
    "start_time": "2022-07-15T10:00:01.493Z"
   },
   {
    "duration": 57,
    "start_time": "2022-07-15T10:00:01.578Z"
   },
   {
    "duration": 89,
    "start_time": "2022-07-15T10:00:01.637Z"
   },
   {
    "duration": 164,
    "start_time": "2022-07-15T10:00:01.727Z"
   },
   {
    "duration": 104,
    "start_time": "2022-07-15T10:00:01.893Z"
   },
   {
    "duration": 134,
    "start_time": "2022-07-15T10:00:01.998Z"
   },
   {
    "duration": 115,
    "start_time": "2022-07-15T10:00:02.134Z"
   },
   {
    "duration": 27,
    "start_time": "2022-07-15T10:00:02.251Z"
   },
   {
    "duration": 79,
    "start_time": "2022-07-15T10:00:02.279Z"
   },
   {
    "duration": 40,
    "start_time": "2022-07-15T10:00:02.360Z"
   },
   {
    "duration": 166,
    "start_time": "2022-07-15T10:00:02.402Z"
   },
   {
    "duration": 25,
    "start_time": "2022-07-15T10:00:02.570Z"
   },
   {
    "duration": 60,
    "start_time": "2022-07-15T10:00:02.597Z"
   },
   {
    "duration": 12,
    "start_time": "2022-07-15T10:00:02.659Z"
   },
   {
    "duration": 12,
    "start_time": "2022-07-15T10:00:02.672Z"
   },
   {
    "duration": 1788,
    "start_time": "2022-07-15T10:00:02.686Z"
   },
   {
    "duration": 621,
    "start_time": "2022-07-15T10:00:04.475Z"
   },
   {
    "duration": 1280,
    "start_time": "2022-07-15T10:00:05.097Z"
   },
   {
    "duration": 1038,
    "start_time": "2022-07-15T10:00:06.379Z"
   },
   {
    "duration": 1042,
    "start_time": "2022-07-15T10:00:07.419Z"
   },
   {
    "duration": 1731,
    "start_time": "2022-07-15T10:00:08.462Z"
   },
   {
    "duration": 34,
    "start_time": "2022-07-15T10:00:10.195Z"
   },
   {
    "duration": 149,
    "start_time": "2022-07-15T10:00:10.234Z"
   },
   {
    "duration": 270622,
    "start_time": "2022-07-15T10:00:10.385Z"
   },
   {
    "duration": 2015,
    "start_time": "2022-07-15T10:04:41.009Z"
   },
   {
    "duration": 14,
    "start_time": "2022-07-15T10:04:43.026Z"
   },
   {
    "duration": 1454,
    "start_time": "2022-07-15T10:04:43.041Z"
   },
   {
    "duration": 704,
    "start_time": "2022-07-15T10:04:44.497Z"
   },
   {
    "duration": 5,
    "start_time": "2022-07-15T10:04:45.203Z"
   },
   {
    "duration": 17,
    "start_time": "2022-07-15T10:04:45.209Z"
   },
   {
    "duration": 28,
    "start_time": "2022-07-15T10:04:45.228Z"
   }
  ],
  "kernelspec": {
   "display_name": "Python 3 (ipykernel)",
   "language": "python",
   "name": "python3"
  },
  "language_info": {
   "codemirror_mode": {
    "name": "ipython",
    "version": 3
   },
   "file_extension": ".py",
   "mimetype": "text/x-python",
   "name": "python",
   "nbconvert_exporter": "python",
   "pygments_lexer": "ipython3",
   "version": "3.7.8"
  },
  "toc": {
   "base_numbering": 1,
   "nav_menu": {},
   "number_sections": true,
   "sideBar": true,
   "skip_h1_title": true,
   "title_cell": "Table of Contents",
   "title_sidebar": "Contents",
   "toc_cell": false,
   "toc_position": {},
   "toc_section_display": true,
   "toc_window_display": false
  }
 },
 "nbformat": 4,
 "nbformat_minor": 2
}
