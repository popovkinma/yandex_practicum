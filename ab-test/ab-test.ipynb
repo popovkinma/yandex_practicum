{
 "cells": [
  {
   "cell_type": "markdown",
   "metadata": {},
   "source": [
    "# Описание проекта\n",
    "\n",
    "Вы — аналитик крупного интернет-магазина. Вместе с отделом маркетинга вы подготовили список гипотез для увеличения выручки.\n",
    "Приоритизируйте гипотезы, запустите A/B-тест и проанализируйте результаты."
   ]
  },
  {
   "cell_type": "markdown",
   "metadata": {},
   "source": [
    "## Часть 1. Приоритизация гипотез."
   ]
  },
  {
   "cell_type": "code",
   "execution_count": 1,
   "metadata": {},
   "outputs": [],
   "source": [
    "# загрузим библиотеки\n",
    "import pandas as pd\n",
    "import datetime as dt\n",
    "import numpy as np\n",
    "import scipy.stats as stats\n",
    "import matplotlib.pyplot as plt\n",
    "\n",
    "pd.set_option('display.max_colwidth', None) # полная ширина колонок"
   ]
  },
  {
   "cell_type": "code",
   "execution_count": 2,
   "metadata": {},
   "outputs": [
    {
     "data": {
      "text/html": [
       "<div>\n",
       "<style scoped>\n",
       "    .dataframe tbody tr th:only-of-type {\n",
       "        vertical-align: middle;\n",
       "    }\n",
       "\n",
       "    .dataframe tbody tr th {\n",
       "        vertical-align: top;\n",
       "    }\n",
       "\n",
       "    .dataframe thead th {\n",
       "        text-align: right;\n",
       "    }\n",
       "</style>\n",
       "<table border=\"1\" class=\"dataframe\">\n",
       "  <thead>\n",
       "    <tr style=\"text-align: right;\">\n",
       "      <th></th>\n",
       "      <th>hypothesis</th>\n",
       "      <th>reach</th>\n",
       "      <th>impact</th>\n",
       "      <th>confidence</th>\n",
       "      <th>efforts</th>\n",
       "    </tr>\n",
       "  </thead>\n",
       "  <tbody>\n",
       "    <tr>\n",
       "      <th>0</th>\n",
       "      <td>Добавить два новых канала привлечения трафика, что позволит привлекать на 30% больше пользователей</td>\n",
       "      <td>3</td>\n",
       "      <td>10</td>\n",
       "      <td>8</td>\n",
       "      <td>6</td>\n",
       "    </tr>\n",
       "    <tr>\n",
       "      <th>1</th>\n",
       "      <td>Запустить собственную службу доставки, что сократит срок доставки заказов</td>\n",
       "      <td>2</td>\n",
       "      <td>5</td>\n",
       "      <td>4</td>\n",
       "      <td>10</td>\n",
       "    </tr>\n",
       "    <tr>\n",
       "      <th>2</th>\n",
       "      <td>Добавить блоки рекомендаций товаров на сайт интернет магазина, чтобы повысить конверсию и средний чек заказа</td>\n",
       "      <td>8</td>\n",
       "      <td>3</td>\n",
       "      <td>7</td>\n",
       "      <td>3</td>\n",
       "    </tr>\n",
       "    <tr>\n",
       "      <th>3</th>\n",
       "      <td>Изменить структура категорий, что увеличит конверсию, т.к. пользователи быстрее найдут нужный товар</td>\n",
       "      <td>8</td>\n",
       "      <td>3</td>\n",
       "      <td>3</td>\n",
       "      <td>8</td>\n",
       "    </tr>\n",
       "    <tr>\n",
       "      <th>4</th>\n",
       "      <td>Изменить цвет фона главной страницы, чтобы увеличить вовлеченность пользователей</td>\n",
       "      <td>3</td>\n",
       "      <td>1</td>\n",
       "      <td>1</td>\n",
       "      <td>1</td>\n",
       "    </tr>\n",
       "    <tr>\n",
       "      <th>5</th>\n",
       "      <td>Добавить страницу отзывов клиентов о магазине, что позволит увеличить количество заказов</td>\n",
       "      <td>3</td>\n",
       "      <td>2</td>\n",
       "      <td>2</td>\n",
       "      <td>3</td>\n",
       "    </tr>\n",
       "    <tr>\n",
       "      <th>6</th>\n",
       "      <td>Показать на главной странице баннеры с актуальными акциями и распродажами, чтобы увеличить конверсию</td>\n",
       "      <td>5</td>\n",
       "      <td>3</td>\n",
       "      <td>8</td>\n",
       "      <td>3</td>\n",
       "    </tr>\n",
       "    <tr>\n",
       "      <th>7</th>\n",
       "      <td>Добавить форму подписки на все основные страницы, чтобы собрать базу клиентов для email-рассылок</td>\n",
       "      <td>10</td>\n",
       "      <td>7</td>\n",
       "      <td>8</td>\n",
       "      <td>5</td>\n",
       "    </tr>\n",
       "    <tr>\n",
       "      <th>8</th>\n",
       "      <td>Запустить акцию, дающую скидку на товар в день рождения</td>\n",
       "      <td>1</td>\n",
       "      <td>9</td>\n",
       "      <td>9</td>\n",
       "      <td>5</td>\n",
       "    </tr>\n",
       "  </tbody>\n",
       "</table>\n",
       "</div>"
      ],
      "text/plain": [
       "                                                                                                     hypothesis  \\\n",
       "0            Добавить два новых канала привлечения трафика, что позволит привлекать на 30% больше пользователей   \n",
       "1                                     Запустить собственную службу доставки, что сократит срок доставки заказов   \n",
       "2  Добавить блоки рекомендаций товаров на сайт интернет магазина, чтобы повысить конверсию и средний чек заказа   \n",
       "3           Изменить структура категорий, что увеличит конверсию, т.к. пользователи быстрее найдут нужный товар   \n",
       "4                              Изменить цвет фона главной страницы, чтобы увеличить вовлеченность пользователей   \n",
       "5                      Добавить страницу отзывов клиентов о магазине, что позволит увеличить количество заказов   \n",
       "6          Показать на главной странице баннеры с актуальными акциями и распродажами, чтобы увеличить конверсию   \n",
       "7              Добавить форму подписки на все основные страницы, чтобы собрать базу клиентов для email-рассылок   \n",
       "8                                                       Запустить акцию, дающую скидку на товар в день рождения   \n",
       "\n",
       "   reach  impact  confidence  efforts  \n",
       "0      3      10           8        6  \n",
       "1      2       5           4       10  \n",
       "2      8       3           7        3  \n",
       "3      8       3           3        8  \n",
       "4      3       1           1        1  \n",
       "5      3       2           2        3  \n",
       "6      5       3           8        3  \n",
       "7     10       7           8        5  \n",
       "8      1       9           9        5  "
      ]
     },
     "metadata": {},
     "output_type": "display_data"
    }
   ],
   "source": [
    "hypothesis = pd.read_csv('/datasets/hypothesis.csv') # загрузим данные\n",
    "hypothesis.columns = map(str.lower, hypothesis.columns) # названия столбцов со строчной буквы\n",
    "display(hypothesis)"
   ]
  },
  {
   "cell_type": "markdown",
   "metadata": {},
   "source": [
    "### Примените фреймворк ICE для приоритизации гипотез. Отсортируйте их по убыванию приоритета."
   ]
  },
  {
   "cell_type": "code",
   "execution_count": 3,
   "metadata": {},
   "outputs": [
    {
     "data": {
      "text/html": [
       "<div>\n",
       "<style scoped>\n",
       "    .dataframe tbody tr th:only-of-type {\n",
       "        vertical-align: middle;\n",
       "    }\n",
       "\n",
       "    .dataframe tbody tr th {\n",
       "        vertical-align: top;\n",
       "    }\n",
       "\n",
       "    .dataframe thead th {\n",
       "        text-align: right;\n",
       "    }\n",
       "</style>\n",
       "<table border=\"1\" class=\"dataframe\">\n",
       "  <thead>\n",
       "    <tr style=\"text-align: right;\">\n",
       "      <th></th>\n",
       "      <th>hypothesis</th>\n",
       "      <th>ICE</th>\n",
       "    </tr>\n",
       "  </thead>\n",
       "  <tbody>\n",
       "    <tr>\n",
       "      <th>8</th>\n",
       "      <td>Запустить акцию, дающую скидку на товар в день рождения</td>\n",
       "      <td>16.20</td>\n",
       "    </tr>\n",
       "    <tr>\n",
       "      <th>0</th>\n",
       "      <td>Добавить два новых канала привлечения трафика, что позволит привлекать на 30% больше пользователей</td>\n",
       "      <td>13.33</td>\n",
       "    </tr>\n",
       "    <tr>\n",
       "      <th>7</th>\n",
       "      <td>Добавить форму подписки на все основные страницы, чтобы собрать базу клиентов для email-рассылок</td>\n",
       "      <td>11.20</td>\n",
       "    </tr>\n",
       "    <tr>\n",
       "      <th>6</th>\n",
       "      <td>Показать на главной странице баннеры с актуальными акциями и распродажами, чтобы увеличить конверсию</td>\n",
       "      <td>8.00</td>\n",
       "    </tr>\n",
       "    <tr>\n",
       "      <th>2</th>\n",
       "      <td>Добавить блоки рекомендаций товаров на сайт интернет магазина, чтобы повысить конверсию и средний чек заказа</td>\n",
       "      <td>7.00</td>\n",
       "    </tr>\n",
       "    <tr>\n",
       "      <th>1</th>\n",
       "      <td>Запустить собственную службу доставки, что сократит срок доставки заказов</td>\n",
       "      <td>2.00</td>\n",
       "    </tr>\n",
       "    <tr>\n",
       "      <th>5</th>\n",
       "      <td>Добавить страницу отзывов клиентов о магазине, что позволит увеличить количество заказов</td>\n",
       "      <td>1.33</td>\n",
       "    </tr>\n",
       "    <tr>\n",
       "      <th>3</th>\n",
       "      <td>Изменить структура категорий, что увеличит конверсию, т.к. пользователи быстрее найдут нужный товар</td>\n",
       "      <td>1.12</td>\n",
       "    </tr>\n",
       "    <tr>\n",
       "      <th>4</th>\n",
       "      <td>Изменить цвет фона главной страницы, чтобы увеличить вовлеченность пользователей</td>\n",
       "      <td>1.00</td>\n",
       "    </tr>\n",
       "  </tbody>\n",
       "</table>\n",
       "</div>"
      ],
      "text/plain": [
       "                                                                                                     hypothesis  \\\n",
       "8                                                       Запустить акцию, дающую скидку на товар в день рождения   \n",
       "0            Добавить два новых канала привлечения трафика, что позволит привлекать на 30% больше пользователей   \n",
       "7              Добавить форму подписки на все основные страницы, чтобы собрать базу клиентов для email-рассылок   \n",
       "6          Показать на главной странице баннеры с актуальными акциями и распродажами, чтобы увеличить конверсию   \n",
       "2  Добавить блоки рекомендаций товаров на сайт интернет магазина, чтобы повысить конверсию и средний чек заказа   \n",
       "1                                     Запустить собственную службу доставки, что сократит срок доставки заказов   \n",
       "5                      Добавить страницу отзывов клиентов о магазине, что позволит увеличить количество заказов   \n",
       "3           Изменить структура категорий, что увеличит конверсию, т.к. пользователи быстрее найдут нужный товар   \n",
       "4                              Изменить цвет фона главной страницы, чтобы увеличить вовлеченность пользователей   \n",
       "\n",
       "     ICE  \n",
       "8  16.20  \n",
       "0  13.33  \n",
       "7  11.20  \n",
       "6   8.00  \n",
       "2   7.00  \n",
       "1   2.00  \n",
       "5   1.33  \n",
       "3   1.12  \n",
       "4   1.00  "
      ]
     },
     "execution_count": 3,
     "metadata": {},
     "output_type": "execute_result"
    }
   ],
   "source": [
    "hypothesis['ICE'] = hypothesis['impact'] * hypothesis['confidence']/hypothesis['efforts']\n",
    "hypothesis[[\"hypothesis\", \"ICE\"]].sort_values(by='ICE', ascending=False).round(2)"
   ]
  },
  {
   "cell_type": "markdown",
   "metadata": {},
   "source": [
    "### Примените фреймворк RICE для приоритизации гипотез. Отсортируйте их по убыванию приоритета."
   ]
  },
  {
   "cell_type": "code",
   "execution_count": 4,
   "metadata": {},
   "outputs": [
    {
     "data": {
      "text/html": [
       "<div>\n",
       "<style scoped>\n",
       "    .dataframe tbody tr th:only-of-type {\n",
       "        vertical-align: middle;\n",
       "    }\n",
       "\n",
       "    .dataframe tbody tr th {\n",
       "        vertical-align: top;\n",
       "    }\n",
       "\n",
       "    .dataframe thead th {\n",
       "        text-align: right;\n",
       "    }\n",
       "</style>\n",
       "<table border=\"1\" class=\"dataframe\">\n",
       "  <thead>\n",
       "    <tr style=\"text-align: right;\">\n",
       "      <th></th>\n",
       "      <th>hypothesis</th>\n",
       "      <th>RICE</th>\n",
       "    </tr>\n",
       "  </thead>\n",
       "  <tbody>\n",
       "    <tr>\n",
       "      <th>7</th>\n",
       "      <td>Добавить форму подписки на все основные страницы, чтобы собрать базу клиентов для email-рассылок</td>\n",
       "      <td>112.0</td>\n",
       "    </tr>\n",
       "    <tr>\n",
       "      <th>2</th>\n",
       "      <td>Добавить блоки рекомендаций товаров на сайт интернет магазина, чтобы повысить конверсию и средний чек заказа</td>\n",
       "      <td>56.0</td>\n",
       "    </tr>\n",
       "    <tr>\n",
       "      <th>0</th>\n",
       "      <td>Добавить два новых канала привлечения трафика, что позволит привлекать на 30% больше пользователей</td>\n",
       "      <td>40.0</td>\n",
       "    </tr>\n",
       "    <tr>\n",
       "      <th>6</th>\n",
       "      <td>Показать на главной странице баннеры с актуальными акциями и распродажами, чтобы увеличить конверсию</td>\n",
       "      <td>40.0</td>\n",
       "    </tr>\n",
       "    <tr>\n",
       "      <th>8</th>\n",
       "      <td>Запустить акцию, дающую скидку на товар в день рождения</td>\n",
       "      <td>16.2</td>\n",
       "    </tr>\n",
       "    <tr>\n",
       "      <th>3</th>\n",
       "      <td>Изменить структура категорий, что увеличит конверсию, т.к. пользователи быстрее найдут нужный товар</td>\n",
       "      <td>9.0</td>\n",
       "    </tr>\n",
       "    <tr>\n",
       "      <th>1</th>\n",
       "      <td>Запустить собственную службу доставки, что сократит срок доставки заказов</td>\n",
       "      <td>4.0</td>\n",
       "    </tr>\n",
       "    <tr>\n",
       "      <th>5</th>\n",
       "      <td>Добавить страницу отзывов клиентов о магазине, что позволит увеличить количество заказов</td>\n",
       "      <td>4.0</td>\n",
       "    </tr>\n",
       "    <tr>\n",
       "      <th>4</th>\n",
       "      <td>Изменить цвет фона главной страницы, чтобы увеличить вовлеченность пользователей</td>\n",
       "      <td>3.0</td>\n",
       "    </tr>\n",
       "  </tbody>\n",
       "</table>\n",
       "</div>"
      ],
      "text/plain": [
       "                                                                                                     hypothesis  \\\n",
       "7              Добавить форму подписки на все основные страницы, чтобы собрать базу клиентов для email-рассылок   \n",
       "2  Добавить блоки рекомендаций товаров на сайт интернет магазина, чтобы повысить конверсию и средний чек заказа   \n",
       "0            Добавить два новых канала привлечения трафика, что позволит привлекать на 30% больше пользователей   \n",
       "6          Показать на главной странице баннеры с актуальными акциями и распродажами, чтобы увеличить конверсию   \n",
       "8                                                       Запустить акцию, дающую скидку на товар в день рождения   \n",
       "3           Изменить структура категорий, что увеличит конверсию, т.к. пользователи быстрее найдут нужный товар   \n",
       "1                                     Запустить собственную службу доставки, что сократит срок доставки заказов   \n",
       "5                      Добавить страницу отзывов клиентов о магазине, что позволит увеличить количество заказов   \n",
       "4                              Изменить цвет фона главной страницы, чтобы увеличить вовлеченность пользователей   \n",
       "\n",
       "    RICE  \n",
       "7  112.0  \n",
       "2   56.0  \n",
       "0   40.0  \n",
       "6   40.0  \n",
       "8   16.2  \n",
       "3    9.0  \n",
       "1    4.0  \n",
       "5    4.0  \n",
       "4    3.0  "
      ]
     },
     "execution_count": 4,
     "metadata": {},
     "output_type": "execute_result"
    }
   ],
   "source": [
    "hypothesis['RICE'] = hypothesis['impact'] * hypothesis['confidence'] * hypothesis['reach']/hypothesis['efforts']\n",
    "hypothesis[[\"hypothesis\", \"RICE\"]].sort_values(by='RICE', ascending=False)"
   ]
  },
  {
   "cell_type": "markdown",
   "metadata": {},
   "source": [
    "### Укажите, как изменилась приоритизация гипотез при применении RICE вместо ICE. Объясните, почему так произошло."
   ]
  },
  {
   "cell_type": "markdown",
   "metadata": {},
   "source": [
    "Параметр Reach — скольких пользователей затронет изменение, которое вы хотите внести, изменил приоритет гипотез, там где этот парметр равен 1 он не влияет на место гипотезы. \n",
    "\n",
    "В итоге гипотеза номер 4, последняя, осталась на своем месте и гипотеза номер 6 осталась на четвертом месте, остальной порядок изменился. У гипотезы 7 стал самый большой приоритет."
   ]
  },
  {
   "cell_type": "markdown",
   "metadata": {},
   "source": [
    "## Анализ A/B-теста"
   ]
  },
  {
   "cell_type": "code",
   "execution_count": 5,
   "metadata": {},
   "outputs": [
    {
     "data": {
      "text/html": [
       "<div>\n",
       "<style scoped>\n",
       "    .dataframe tbody tr th:only-of-type {\n",
       "        vertical-align: middle;\n",
       "    }\n",
       "\n",
       "    .dataframe tbody tr th {\n",
       "        vertical-align: top;\n",
       "    }\n",
       "\n",
       "    .dataframe thead th {\n",
       "        text-align: right;\n",
       "    }\n",
       "</style>\n",
       "<table border=\"1\" class=\"dataframe\">\n",
       "  <thead>\n",
       "    <tr style=\"text-align: right;\">\n",
       "      <th></th>\n",
       "      <th>transactionId</th>\n",
       "      <th>visitorId</th>\n",
       "      <th>date</th>\n",
       "      <th>revenue</th>\n",
       "      <th>group</th>\n",
       "    </tr>\n",
       "  </thead>\n",
       "  <tbody>\n",
       "    <tr>\n",
       "      <th>0</th>\n",
       "      <td>3667963787</td>\n",
       "      <td>3312258926</td>\n",
       "      <td>2019-08-15</td>\n",
       "      <td>1650</td>\n",
       "      <td>B</td>\n",
       "    </tr>\n",
       "    <tr>\n",
       "      <th>1</th>\n",
       "      <td>2804400009</td>\n",
       "      <td>3642806036</td>\n",
       "      <td>2019-08-15</td>\n",
       "      <td>730</td>\n",
       "      <td>B</td>\n",
       "    </tr>\n",
       "    <tr>\n",
       "      <th>2</th>\n",
       "      <td>2961555356</td>\n",
       "      <td>4069496402</td>\n",
       "      <td>2019-08-15</td>\n",
       "      <td>400</td>\n",
       "      <td>A</td>\n",
       "    </tr>\n",
       "    <tr>\n",
       "      <th>3</th>\n",
       "      <td>3797467345</td>\n",
       "      <td>1196621759</td>\n",
       "      <td>2019-08-15</td>\n",
       "      <td>9759</td>\n",
       "      <td>B</td>\n",
       "    </tr>\n",
       "    <tr>\n",
       "      <th>4</th>\n",
       "      <td>2282983706</td>\n",
       "      <td>2322279887</td>\n",
       "      <td>2019-08-15</td>\n",
       "      <td>2308</td>\n",
       "      <td>B</td>\n",
       "    </tr>\n",
       "  </tbody>\n",
       "</table>\n",
       "</div>"
      ],
      "text/plain": [
       "   transactionId   visitorId        date  revenue group\n",
       "0     3667963787  3312258926  2019-08-15     1650     B\n",
       "1     2804400009  3642806036  2019-08-15      730     B\n",
       "2     2961555356  4069496402  2019-08-15      400     A\n",
       "3     3797467345  1196621759  2019-08-15     9759     B\n",
       "4     2282983706  2322279887  2019-08-15     2308     B"
      ]
     },
     "metadata": {},
     "output_type": "display_data"
    },
    {
     "data": {
      "text/html": [
       "<div>\n",
       "<style scoped>\n",
       "    .dataframe tbody tr th:only-of-type {\n",
       "        vertical-align: middle;\n",
       "    }\n",
       "\n",
       "    .dataframe tbody tr th {\n",
       "        vertical-align: top;\n",
       "    }\n",
       "\n",
       "    .dataframe thead th {\n",
       "        text-align: right;\n",
       "    }\n",
       "</style>\n",
       "<table border=\"1\" class=\"dataframe\">\n",
       "  <thead>\n",
       "    <tr style=\"text-align: right;\">\n",
       "      <th></th>\n",
       "      <th>date</th>\n",
       "      <th>group</th>\n",
       "      <th>visitors</th>\n",
       "    </tr>\n",
       "  </thead>\n",
       "  <tbody>\n",
       "    <tr>\n",
       "      <th>0</th>\n",
       "      <td>2019-08-01</td>\n",
       "      <td>A</td>\n",
       "      <td>719</td>\n",
       "    </tr>\n",
       "    <tr>\n",
       "      <th>1</th>\n",
       "      <td>2019-08-02</td>\n",
       "      <td>A</td>\n",
       "      <td>619</td>\n",
       "    </tr>\n",
       "    <tr>\n",
       "      <th>2</th>\n",
       "      <td>2019-08-03</td>\n",
       "      <td>A</td>\n",
       "      <td>507</td>\n",
       "    </tr>\n",
       "    <tr>\n",
       "      <th>3</th>\n",
       "      <td>2019-08-04</td>\n",
       "      <td>A</td>\n",
       "      <td>717</td>\n",
       "    </tr>\n",
       "    <tr>\n",
       "      <th>4</th>\n",
       "      <td>2019-08-05</td>\n",
       "      <td>A</td>\n",
       "      <td>756</td>\n",
       "    </tr>\n",
       "  </tbody>\n",
       "</table>\n",
       "</div>"
      ],
      "text/plain": [
       "         date group  visitors\n",
       "0  2019-08-01     A       719\n",
       "1  2019-08-02     A       619\n",
       "2  2019-08-03     A       507\n",
       "3  2019-08-04     A       717\n",
       "4  2019-08-05     A       756"
      ]
     },
     "metadata": {},
     "output_type": "display_data"
    }
   ],
   "source": [
    "# загрузим данные\n",
    "orders = pd.read_csv('/datasets/orders.csv')\n",
    "visitors = pd.read_csv('/datasets/visitors.csv')\n",
    "display(orders.head(5),visitors.head(5))"
   ]
  },
  {
   "cell_type": "code",
   "execution_count": 6,
   "metadata": {},
   "outputs": [],
   "source": [
    "# преобразуем время в тип datatime\n",
    "orders[\"date\"] = orders[\"date\"].map(lambda x: dt.datetime.strptime(x, '%Y-%m-%d'))\n",
    "visitors[\"date\"] = visitors[\"date\"].map(lambda x: dt.datetime.strptime(x, '%Y-%m-%d'))"
   ]
  },
  {
   "cell_type": "code",
   "execution_count": 7,
   "metadata": {},
   "outputs": [
    {
     "name": "stdout",
     "output_type": "stream",
     "text": [
      "<class 'pandas.core.frame.DataFrame'>\n",
      "RangeIndex: 1197 entries, 0 to 1196\n",
      "Data columns (total 5 columns):\n",
      " #   Column         Non-Null Count  Dtype         \n",
      "---  ------         --------------  -----         \n",
      " 0   transactionId  1197 non-null   int64         \n",
      " 1   visitorId      1197 non-null   int64         \n",
      " 2   date           1197 non-null   datetime64[ns]\n",
      " 3   revenue        1197 non-null   int64         \n",
      " 4   group          1197 non-null   object        \n",
      "dtypes: datetime64[ns](1), int64(3), object(1)\n",
      "memory usage: 46.9+ KB\n",
      "<class 'pandas.core.frame.DataFrame'>\n",
      "RangeIndex: 62 entries, 0 to 61\n",
      "Data columns (total 3 columns):\n",
      " #   Column    Non-Null Count  Dtype         \n",
      "---  ------    --------------  -----         \n",
      " 0   date      62 non-null     datetime64[ns]\n",
      " 1   group     62 non-null     object        \n",
      " 2   visitors  62 non-null     int64         \n",
      "dtypes: datetime64[ns](1), int64(1), object(1)\n",
      "memory usage: 1.6+ KB\n"
     ]
    }
   ],
   "source": [
    "orders.info()\n",
    "visitors.info()"
   ]
  },
  {
   "cell_type": "markdown",
   "metadata": {},
   "source": [
    "### Постройте график кумулятивной выручки по группам. Сделайте выводы и предположения."
   ]
  },
  {
   "cell_type": "code",
   "execution_count": 8,
   "metadata": {},
   "outputs": [
    {
     "data": {
      "text/html": [
       "<div>\n",
       "<style scoped>\n",
       "    .dataframe tbody tr th:only-of-type {\n",
       "        vertical-align: middle;\n",
       "    }\n",
       "\n",
       "    .dataframe tbody tr th {\n",
       "        vertical-align: top;\n",
       "    }\n",
       "\n",
       "    .dataframe thead th {\n",
       "        text-align: right;\n",
       "    }\n",
       "</style>\n",
       "<table border=\"1\" class=\"dataframe\">\n",
       "  <thead>\n",
       "    <tr style=\"text-align: right;\">\n",
       "      <th></th>\n",
       "      <th>date</th>\n",
       "      <th>group</th>\n",
       "      <th>orders</th>\n",
       "      <th>buyers</th>\n",
       "      <th>revenue</th>\n",
       "      <th>visitors</th>\n",
       "    </tr>\n",
       "  </thead>\n",
       "  <tbody>\n",
       "    <tr>\n",
       "      <th>0</th>\n",
       "      <td>2019-08-01</td>\n",
       "      <td>A</td>\n",
       "      <td>24</td>\n",
       "      <td>20</td>\n",
       "      <td>148579</td>\n",
       "      <td>719</td>\n",
       "    </tr>\n",
       "    <tr>\n",
       "      <th>1</th>\n",
       "      <td>2019-08-01</td>\n",
       "      <td>B</td>\n",
       "      <td>21</td>\n",
       "      <td>20</td>\n",
       "      <td>101217</td>\n",
       "      <td>713</td>\n",
       "    </tr>\n",
       "    <tr>\n",
       "      <th>2</th>\n",
       "      <td>2019-08-02</td>\n",
       "      <td>A</td>\n",
       "      <td>44</td>\n",
       "      <td>38</td>\n",
       "      <td>242401</td>\n",
       "      <td>1338</td>\n",
       "    </tr>\n",
       "    <tr>\n",
       "      <th>3</th>\n",
       "      <td>2019-08-02</td>\n",
       "      <td>B</td>\n",
       "      <td>45</td>\n",
       "      <td>43</td>\n",
       "      <td>266748</td>\n",
       "      <td>1294</td>\n",
       "    </tr>\n",
       "    <tr>\n",
       "      <th>4</th>\n",
       "      <td>2019-08-03</td>\n",
       "      <td>A</td>\n",
       "      <td>68</td>\n",
       "      <td>62</td>\n",
       "      <td>354874</td>\n",
       "      <td>1845</td>\n",
       "    </tr>\n",
       "    <tr>\n",
       "      <th>...</th>\n",
       "      <td>...</td>\n",
       "      <td>...</td>\n",
       "      <td>...</td>\n",
       "      <td>...</td>\n",
       "      <td>...</td>\n",
       "      <td>...</td>\n",
       "    </tr>\n",
       "    <tr>\n",
       "      <th>57</th>\n",
       "      <td>2019-08-29</td>\n",
       "      <td>B</td>\n",
       "      <td>596</td>\n",
       "      <td>544</td>\n",
       "      <td>5559398</td>\n",
       "      <td>17708</td>\n",
       "    </tr>\n",
       "    <tr>\n",
       "      <th>58</th>\n",
       "      <td>2019-08-30</td>\n",
       "      <td>A</td>\n",
       "      <td>545</td>\n",
       "      <td>493</td>\n",
       "      <td>4022970</td>\n",
       "      <td>18037</td>\n",
       "    </tr>\n",
       "    <tr>\n",
       "      <th>59</th>\n",
       "      <td>2019-08-30</td>\n",
       "      <td>B</td>\n",
       "      <td>620</td>\n",
       "      <td>567</td>\n",
       "      <td>5774631</td>\n",
       "      <td>18198</td>\n",
       "    </tr>\n",
       "    <tr>\n",
       "      <th>60</th>\n",
       "      <td>2019-08-31</td>\n",
       "      <td>A</td>\n",
       "      <td>557</td>\n",
       "      <td>503</td>\n",
       "      <td>4084803</td>\n",
       "      <td>18736</td>\n",
       "    </tr>\n",
       "    <tr>\n",
       "      <th>61</th>\n",
       "      <td>2019-08-31</td>\n",
       "      <td>B</td>\n",
       "      <td>640</td>\n",
       "      <td>586</td>\n",
       "      <td>5907760</td>\n",
       "      <td>18916</td>\n",
       "    </tr>\n",
       "  </tbody>\n",
       "</table>\n",
       "<p>62 rows × 6 columns</p>\n",
       "</div>"
      ],
      "text/plain": [
       "         date group  orders  buyers  revenue  visitors\n",
       "0  2019-08-01     A      24      20   148579       719\n",
       "1  2019-08-01     B      21      20   101217       713\n",
       "2  2019-08-02     A      44      38   242401      1338\n",
       "3  2019-08-02     B      45      43   266748      1294\n",
       "4  2019-08-03     A      68      62   354874      1845\n",
       "..        ...   ...     ...     ...      ...       ...\n",
       "57 2019-08-29     B     596     544  5559398     17708\n",
       "58 2019-08-30     A     545     493  4022970     18037\n",
       "59 2019-08-30     B     620     567  5774631     18198\n",
       "60 2019-08-31     A     557     503  4084803     18736\n",
       "61 2019-08-31     B     640     586  5907760     18916\n",
       "\n",
       "[62 rows x 6 columns]"
      ]
     },
     "execution_count": 8,
     "metadata": {},
     "output_type": "execute_result"
    }
   ],
   "source": [
    "# cоберём агрегированные кумулятивные по дням данные \n",
    "datesGroups = orders[['date', 'group']].drop_duplicates()\n",
    "\n",
    "ordersAggregated = datesGroups.apply(\n",
    "    lambda x: orders[\n",
    "        np.logical_and(\n",
    "            orders['date'] <= x['date'], orders['group'] == x['group']\n",
    "        )\n",
    "    ].agg({'date': 'max', 'group': 'max','transactionId': 'nunique','visitorId': 'nunique','revenue': 'sum'}),\n",
    "    axis=1,\n",
    ").sort_values(by=['date', 'group'])\n",
    "\n",
    "visitorsAggregated = datesGroups.apply(\n",
    "    lambda x: visitors[\n",
    "        np.logical_and(\n",
    "            visitors['date'] <= x['date'], visitors['group'] == x['group']\n",
    "        )\n",
    "    ].agg({'date': 'max', 'group': 'max', 'visitors': 'sum'}),\n",
    "    axis=1,\n",
    ").sort_values(by=['date', 'group'])\n",
    "\n",
    "cumulativeData = ordersAggregated.merge(\n",
    "    visitorsAggregated, left_on=['date', 'group'], right_on=['date', 'group'])\n",
    "cumulativeData.columns = ['date', 'group', 'orders', 'buyers', 'revenue', 'visitors']\n",
    "\n",
    "cumulativeData"
   ]
  },
  {
   "cell_type": "code",
   "execution_count": 9,
   "metadata": {},
   "outputs": [
    {
     "data": {
      "text/plain": [
       "<matplotlib.legend.Legend at 0x7f6435010f70>"
      ]
     },
     "execution_count": 9,
     "metadata": {},
     "output_type": "execute_result"
    },
    {
     "data": {
      "image/png": "[encoded data removed]",
      "text/plain": [
       "<Figure size 1440x720 with 1 Axes>"
      ]
     },
     "metadata": {
      "needs_background": "light"
     },
     "output_type": "display_data"
    }
   ],
   "source": [
    "# построим график \n",
    "cumulativeRevenueA = cumulativeData[cumulativeData['group']=='A'][['date','revenue', 'orders']]\n",
    "cumulativeRevenueB = cumulativeData[cumulativeData['group']=='B'][['date','revenue', 'orders']]\n",
    "plt.figure(figsize=(20,10))\n",
    "plt.title('График кумулятивной выручки по группам')\n",
    "plt.plot(cumulativeRevenueA['date'], cumulativeRevenueA['revenue'], label='A')\n",
    "plt.plot(cumulativeRevenueB['date'], cumulativeRevenueB['revenue'], label='B')\n",
    "plt.legend() "
   ]
  },
  {
   "cell_type": "markdown",
   "metadata": {},
   "source": [
    "Выручка по группе B выше чем у группы А. В группе В есть резкий рост выручки.\n",
    "\n",
    "Причина резкого роста выручки это крупный заказ."
   ]
  },
  {
   "cell_type": "markdown",
   "metadata": {},
   "source": [
    "#### Постройте график кумулятивного среднего чека по группам. Сделайте выводы и предположения."
   ]
  },
  {
   "cell_type": "code",
   "execution_count": 10,
   "metadata": {},
   "outputs": [
    {
     "data": {
      "image/png": "[encoded data removed]",
      "text/plain": [
       "<Figure size 1440x720 with 1 Axes>"
      ]
     },
     "metadata": {
      "needs_background": "light"
     },
     "output_type": "display_data"
    }
   ],
   "source": [
    "# построим график среднего чека\n",
    "plt.figure(figsize=(20,10))\n",
    "plt.title('График кумулятивного среднего чека по группам')\n",
    "plt.plot(cumulativeRevenueA['date'], cumulativeRevenueA['revenue']/cumulativeRevenueA['orders'],label='A')\n",
    "plt.plot(cumulativeRevenueB['date'], cumulativeRevenueB['revenue']/cumulativeRevenueB['orders'],label='B')\n",
    "plt.legend() ;"
   ]
  },
  {
   "cell_type": "markdown",
   "metadata": {},
   "source": [
    "Средний чек в большинстве дат выше в группе В, есть день когда средний чек резко вырос, была совершена большая покупка."
   ]
  },
  {
   "cell_type": "markdown",
   "metadata": {},
   "source": [
    "### Постройте график относительного изменения кумулятивного среднего чека группы B к группе A. Сделайте выводы и предположения."
   ]
  },
  {
   "cell_type": "code",
   "execution_count": 11,
   "metadata": {},
   "outputs": [
    {
     "data": {
      "image/png": "[encoded data removed]",
      "text/plain": [
       "<Figure size 1440x720 with 1 Axes>"
      ]
     },
     "metadata": {
      "needs_background": "light"
     },
     "output_type": "display_data"
    }
   ],
   "source": [
    "# построим график относительного изменения среднего чека группы В к А\n",
    "mergedCumulativeRevenue = cumulativeRevenueA.merge(cumulativeRevenueB, left_on='date', right_on='date', how='left', suffixes=['A', 'B'])\n",
    "\n",
    "plt.figure(figsize=(20,10))\n",
    "plt.title('График относительного изменения кумулятивного среднего чека группы B к группе A')\n",
    "plt.plot(mergedCumulativeRevenue['date'],(mergedCumulativeRevenue['revenueB']/mergedCumulativeRevenue['ordersB'])/(mergedCumulativeRevenue['revenueA']/mergedCumulativeRevenue['ordersA'])-1)\n",
    "plt.axhline(y=0, color='black', linestyle='--') ;"
   ]
  },
  {
   "cell_type": "markdown",
   "metadata": {},
   "source": [
    "Средний чек группы В сначала превысил чек группы А, далее начал снижаться, после резко вырос, видимо из-за большого заказа, потом снова начал снижатся."
   ]
  },
  {
   "cell_type": "markdown",
   "metadata": {},
   "source": [
    "### Постройте график кумулятивной конверсии по группам. Сделайте выводы и предположения."
   ]
  },
  {
   "cell_type": "code",
   "execution_count": 12,
   "metadata": {},
   "outputs": [
    {
     "data": {
      "text/plain": [
       "<matplotlib.legend.Legend at 0x7f642cb8c2b0>"
      ]
     },
     "execution_count": 12,
     "metadata": {},
     "output_type": "execute_result"
    },
    {
     "data": {
      "image/png": "[encoded data removed]",
      "text/plain": [
       "<Figure size 1440x720 with 1 Axes>"
      ]
     },
     "metadata": {
      "needs_background": "light"
     },
     "output_type": "display_data"
    }
   ],
   "source": [
    "# считаем и строим кумулятивную конверсию по группам\n",
    "cumulativeData['conversion'] = cumulativeData['orders']/cumulativeData['visitors']\n",
    "\n",
    "cumulativeDataA = cumulativeData[cumulativeData['group']=='A']\n",
    "cumulativeDataB = cumulativeData[cumulativeData['group']=='B']\n",
    "plt.figure(figsize=(20,10))\n",
    "plt.title('График кумулятивной конверсии по группам')\n",
    "plt.plot(cumulativeDataA['date'], cumulativeDataA['conversion'], label='A')\n",
    "plt.plot(cumulativeDataB['date'], cumulativeDataB['conversion'], label='B')\n",
    "plt.legend()"
   ]
  },
  {
   "cell_type": "markdown",
   "metadata": {},
   "source": [
    "Конверсия группы А сначала была больше, чем В с высоким пиком, но потом снизилась и уже осталась на уровне 0.03.\n",
    "Конверсия группы В также вначале имела резкий рост, потом снизилась, далее был рост и остановилась на уровне около 0.034-0.035."
   ]
  },
  {
   "cell_type": "markdown",
   "metadata": {},
   "source": [
    "### Постройте график относительного изменения кумулятивной конверсии группы B к группе A. Сделайте выводы и предположения."
   ]
  },
  {
   "cell_type": "code",
   "execution_count": 13,
   "metadata": {},
   "outputs": [
    {
     "data": {
      "text/plain": [
       "<matplotlib.lines.Line2D at 0x7f642cae8c70>"
      ]
     },
     "execution_count": 13,
     "metadata": {},
     "output_type": "execute_result"
    },
    {
     "data": {
      "image/png": "[encoded data removed]",
      "text/plain": [
       "<Figure size 1440x720 with 1 Axes>"
      ]
     },
     "metadata": {
      "needs_background": "light"
     },
     "output_type": "display_data"
    }
   ],
   "source": [
    "# построим график относительного изменения среднего чека группы В к А\n",
    "mergedCumulativeConversions = cumulativeDataA[['date','conversion']].merge(cumulativeDataB[['date','conversion']], left_on='date', right_on='date', how='left', suffixes=['A', 'B'])\n",
    "plt.figure(figsize=(20,10))\n",
    "plt.title('График относительного изменения кумулятивной конверсии группы B к группе A')\n",
    "plt.plot(mergedCumulativeConversions['date'], mergedCumulativeConversions['conversionB']/mergedCumulativeConversions['conversionA']-1, label=\"Относительный прирост конверсии группы B относительно группы A\")\n",
    "plt.axhline(y=0, color='black', linestyle='--')"
   ]
  },
  {
   "cell_type": "markdown",
   "metadata": {},
   "source": [
    "Сначало конверсия группа В меньше группы А потом достаточно резко вырастает и становиться +/- стабильной."
   ]
  },
  {
   "cell_type": "markdown",
   "metadata": {},
   "source": [
    "### Постройте точечный график количества заказов по пользователям. Сделайте выводы и предположения."
   ]
  },
  {
   "cell_type": "code",
   "execution_count": 14,
   "metadata": {},
   "outputs": [
    {
     "data": {
      "text/html": [
       "<div>\n",
       "<style scoped>\n",
       "    .dataframe tbody tr th:only-of-type {\n",
       "        vertical-align: middle;\n",
       "    }\n",
       "\n",
       "    .dataframe tbody tr th {\n",
       "        vertical-align: top;\n",
       "    }\n",
       "\n",
       "    .dataframe thead th {\n",
       "        text-align: right;\n",
       "    }\n",
       "</style>\n",
       "<table border=\"1\" class=\"dataframe\">\n",
       "  <thead>\n",
       "    <tr style=\"text-align: right;\">\n",
       "      <th></th>\n",
       "      <th>visitorId</th>\n",
       "      <th>orders</th>\n",
       "    </tr>\n",
       "  </thead>\n",
       "  <tbody>\n",
       "    <tr>\n",
       "      <th>1023</th>\n",
       "      <td>4256040402</td>\n",
       "      <td>11</td>\n",
       "    </tr>\n",
       "    <tr>\n",
       "      <th>591</th>\n",
       "      <td>2458001652</td>\n",
       "      <td>11</td>\n",
       "    </tr>\n",
       "    <tr>\n",
       "      <th>569</th>\n",
       "      <td>2378935119</td>\n",
       "      <td>9</td>\n",
       "    </tr>\n",
       "    <tr>\n",
       "      <th>487</th>\n",
       "      <td>2038680547</td>\n",
       "      <td>8</td>\n",
       "    </tr>\n",
       "    <tr>\n",
       "      <th>44</th>\n",
       "      <td>199603092</td>\n",
       "      <td>5</td>\n",
       "    </tr>\n",
       "    <tr>\n",
       "      <th>744</th>\n",
       "      <td>3062433592</td>\n",
       "      <td>5</td>\n",
       "    </tr>\n",
       "    <tr>\n",
       "      <th>55</th>\n",
       "      <td>237748145</td>\n",
       "      <td>5</td>\n",
       "    </tr>\n",
       "    <tr>\n",
       "      <th>917</th>\n",
       "      <td>3803269165</td>\n",
       "      <td>5</td>\n",
       "    </tr>\n",
       "    <tr>\n",
       "      <th>299</th>\n",
       "      <td>1230306981</td>\n",
       "      <td>5</td>\n",
       "    </tr>\n",
       "    <tr>\n",
       "      <th>897</th>\n",
       "      <td>3717692402</td>\n",
       "      <td>5</td>\n",
       "    </tr>\n",
       "    <tr>\n",
       "      <th>393</th>\n",
       "      <td>1614305549</td>\n",
       "      <td>4</td>\n",
       "    </tr>\n",
       "    <tr>\n",
       "      <th>114</th>\n",
       "      <td>457167155</td>\n",
       "      <td>4</td>\n",
       "    </tr>\n",
       "    <tr>\n",
       "      <th>619</th>\n",
       "      <td>2587333274</td>\n",
       "      <td>4</td>\n",
       "    </tr>\n",
       "    <tr>\n",
       "      <th>340</th>\n",
       "      <td>1404934699</td>\n",
       "      <td>3</td>\n",
       "    </tr>\n",
       "    <tr>\n",
       "      <th>937</th>\n",
       "      <td>3908431265</td>\n",
       "      <td>3</td>\n",
       "    </tr>\n",
       "    <tr>\n",
       "      <th>726</th>\n",
       "      <td>2988190573</td>\n",
       "      <td>3</td>\n",
       "    </tr>\n",
       "    <tr>\n",
       "      <th>97</th>\n",
       "      <td>393266494</td>\n",
       "      <td>3</td>\n",
       "    </tr>\n",
       "    <tr>\n",
       "      <th>491</th>\n",
       "      <td>2044997962</td>\n",
       "      <td>3</td>\n",
       "    </tr>\n",
       "    <tr>\n",
       "      <th>677</th>\n",
       "      <td>2780786433</td>\n",
       "      <td>3</td>\n",
       "    </tr>\n",
       "    <tr>\n",
       "      <th>932</th>\n",
       "      <td>3891541246</td>\n",
       "      <td>3</td>\n",
       "    </tr>\n",
       "  </tbody>\n",
       "</table>\n",
       "</div>"
      ],
      "text/plain": [
       "       visitorId  orders\n",
       "1023  4256040402      11\n",
       "591   2458001652      11\n",
       "569   2378935119       9\n",
       "487   2038680547       8\n",
       "44     199603092       5\n",
       "744   3062433592       5\n",
       "55     237748145       5\n",
       "917   3803269165       5\n",
       "299   1230306981       5\n",
       "897   3717692402       5\n",
       "393   1614305549       4\n",
       "114    457167155       4\n",
       "619   2587333274       4\n",
       "340   1404934699       3\n",
       "937   3908431265       3\n",
       "726   2988190573       3\n",
       "97     393266494       3\n",
       "491   2044997962       3\n",
       "677   2780786433       3\n",
       "932   3891541246       3"
      ]
     },
     "execution_count": 14,
     "metadata": {},
     "output_type": "execute_result"
    }
   ],
   "source": [
    "# посчитаем кол-во заказов по пользователям\n",
    "ordersByUsers = (orders.groupby('visitorId', as_index=False).agg({'transactionId': 'nunique'}))\n",
    "ordersByUsers.columns = ['visitorId', 'orders']\n",
    "ordersByUsers.sort_values(by='orders', ascending=False).head(20)"
   ]
  },
  {
   "cell_type": "code",
   "execution_count": 15,
   "metadata": {},
   "outputs": [
    {
     "data": {
      "text/plain": [
       "<matplotlib.collections.PathCollection at 0x7f642ca6d640>"
      ]
     },
     "execution_count": 15,
     "metadata": {},
     "output_type": "execute_result"
    },
    {
     "data": {
      "image/png": "[encoded data removed]",
      "text/plain": [
       "<Figure size 1440x720 with 1 Axes>"
      ]
     },
     "metadata": {
      "needs_background": "light"
     },
     "output_type": "display_data"
    }
   ],
   "source": [
    "# построим точечный график кол-ва заказов по пользователям\n",
    "x_values = pd.Series(range(0,len(ordersByUsers)))\n",
    "plt.figure(figsize=(20,10))\n",
    "plt.title('График количества заказов по пользователям')\n",
    "plt.scatter(x_values, ordersByUsers['orders']) "
   ]
  },
  {
   "cell_type": "markdown",
   "metadata": {},
   "source": [
    "Нормальным можно считать до 3х заказов."
   ]
  },
  {
   "cell_type": "markdown",
   "metadata": {},
   "source": [
    "### Посчитайте 95-й и 99-й перцентили количества заказов на пользователя. Выберите границу для определения аномальных пользователей."
   ]
  },
  {
   "cell_type": "code",
   "execution_count": 16,
   "metadata": {},
   "outputs": [
    {
     "data": {
      "text/plain": [
       "array([2., 4.])"
      ]
     },
     "metadata": {},
     "output_type": "display_data"
    }
   ],
   "source": [
    "# посчитаем 95/99 перцентили кол-ва заказов на пользователя\n",
    "display(np.percentile(ordersByUsers['orders'], [95, 99])) "
   ]
  },
  {
   "cell_type": "markdown",
   "metadata": {},
   "source": [
    "Выберем 3 заказа как верхнюю границу."
   ]
  },
  {
   "cell_type": "markdown",
   "metadata": {},
   "source": [
    "### Постройте точечный график стоимостей заказов. Сделайте выводы и предположения."
   ]
  },
  {
   "cell_type": "code",
   "execution_count": 17,
   "metadata": {},
   "outputs": [
    {
     "data": {
      "text/plain": [
       "<matplotlib.collections.PathCollection at 0x7f642ca38760>"
      ]
     },
     "execution_count": 17,
     "metadata": {},
     "output_type": "execute_result"
    },
    {
     "data": {
      "image/png": "[encoded data removed]",
      "text/plain": [
       "<Figure size 1440x720 with 1 Axes>"
      ]
     },
     "metadata": {
      "needs_background": "light"
     },
     "output_type": "display_data"
    }
   ],
   "source": [
    "# построим точечный график кол-ва стоимостей заказов \n",
    "x_values = pd.Series(range(0,len(orders['revenue'])))\n",
    "plt.figure(figsize=(20,10))\n",
    "plt.title('График стоимостей заказов')\n",
    "plt.scatter(x_values, orders['revenue']) "
   ]
  },
  {
   "cell_type": "markdown",
   "metadata": {},
   "source": [
    "Видно как минимум два выброса, один более 1.2 млн, второй 200000."
   ]
  },
  {
   "cell_type": "markdown",
   "metadata": {},
   "source": [
    "### Посчитайте 95-й и 99-й перцентили стоимости заказов. Выберите границу для определения аномальных заказов."
   ]
  },
  {
   "cell_type": "code",
   "execution_count": 18,
   "metadata": {},
   "outputs": [
    {
     "data": {
      "text/plain": [
       "array([28000. , 58233.2])"
      ]
     },
     "metadata": {},
     "output_type": "display_data"
    }
   ],
   "source": [
    "# посчитаем 95/99 перцентили стоимости заказов\n",
    "display(np.percentile(orders['revenue'], [95, 99])) "
   ]
  },
  {
   "cell_type": "markdown",
   "metadata": {},
   "source": [
    "Выберем заказы до 58233."
   ]
  },
  {
   "cell_type": "markdown",
   "metadata": {},
   "source": [
    "### Посчитайте статистическую значимость различий в конверсии между группами по «сырым» данным. Сделайте выводы и предположения."
   ]
  },
  {
   "cell_type": "markdown",
   "metadata": {},
   "source": [
    "Нулевая гипотеза: различий в конверсии между группами нет. \n",
    "\n",
    "Альтернативная гипотеза: различия в конверсии между группами есть."
   ]
  },
  {
   "cell_type": "code",
   "execution_count": 19,
   "metadata": {},
   "outputs": [
    {
     "data": {
      "text/plain": [
       "'0.017'"
      ]
     },
     "metadata": {},
     "output_type": "display_data"
    },
    {
     "data": {
      "text/plain": [
       "'0.138'"
      ]
     },
     "metadata": {},
     "output_type": "display_data"
    }
   ],
   "source": [
    "# считаем статистическую значимость различий в конверсии между группами по сырым данным. \n",
    "visitorsADaily = visitors[visitors['group'] == 'A'][['date', 'visitors']]\n",
    "visitorsADaily.columns = ['date', 'visitorsPerDateA']\n",
    "\n",
    "visitorsACummulative = visitorsADaily.apply(\n",
    "    lambda x: visitorsADaily[visitorsADaily['date'] <= x['date']].agg(\n",
    "        {'date': 'max', 'visitorsPerDateA': 'sum'}\n",
    "    ),\n",
    "    axis=1,\n",
    ")\n",
    "visitorsACummulative.columns = ['date', 'visitorsCummulativeA']\n",
    "\n",
    "visitorsBDaily = visitors[visitors['group'] == 'B'][['date', 'visitors']]\n",
    "visitorsBDaily.columns = ['date', 'visitorsPerDateB']\n",
    "\n",
    "visitorsBCummulative = visitorsBDaily.apply(\n",
    "    lambda x: visitorsBDaily[visitorsBDaily['date'] <= x['date']].agg(\n",
    "        {'date': 'max', 'visitorsPerDateB': 'sum'}\n",
    "    ),\n",
    "    axis=1,\n",
    ")\n",
    "visitorsBCummulative.columns = ['date', 'visitorsCummulativeB']\n",
    "\n",
    "ordersADaily = (\n",
    "    orders[orders['group'] == 'A'][['date', 'transactionId', 'visitorId', 'revenue']]\n",
    "    .groupby('date', as_index=False)\n",
    "    .agg({'transactionId': pd.Series.nunique, 'revenue': 'sum'})\n",
    ")\n",
    "ordersADaily.columns = ['date', 'ordersPerDateA', 'revenuePerDateA']\n",
    "\n",
    "ordersACummulative = ordersADaily.apply(\n",
    "    lambda x: ordersADaily[ordersADaily['date'] <= x['date']].agg(\n",
    "        {'date': 'max', 'ordersPerDateA': 'sum', 'revenuePerDateA': 'sum'}\n",
    "    ),\n",
    "    axis=1,\n",
    ").sort_values(by=['date'])\n",
    "ordersACummulative.columns = [\n",
    "    'date',\n",
    "    'ordersCummulativeA',\n",
    "    'revenueCummulativeA',\n",
    "]\n",
    "\n",
    "ordersBDaily = (\n",
    "    orders[orders['group'] == 'B'][['date', 'transactionId', 'visitorId', 'revenue']]\n",
    "    .groupby('date', as_index=False)\n",
    "    .agg({'transactionId': pd.Series.nunique, 'revenue': 'sum'})\n",
    ")\n",
    "ordersBDaily.columns = ['date', 'ordersPerDateB', 'revenuePerDateB']\n",
    "\n",
    "ordersBCummulative = ordersBDaily.apply(\n",
    "    lambda x: ordersBDaily[ordersBDaily['date'] <= x['date']].agg(\n",
    "        {'date': 'max', 'ordersPerDateB': 'sum', 'revenuePerDateB': 'sum'}\n",
    "    ),\n",
    "    axis=1,\n",
    ").sort_values(by=['date'])\n",
    "ordersBCummulative.columns = [\n",
    "    'date',\n",
    "    'ordersCummulativeB',\n",
    "    'revenueCummulativeB',\n",
    "]\n",
    "\n",
    "data = (\n",
    "    ordersADaily.merge(\n",
    "        ordersBDaily, left_on='date', right_on='date', how='left'\n",
    "    )\n",
    "    .merge(ordersACummulative, left_on='date', right_on='date', how='left')\n",
    "    .merge(ordersBCummulative, left_on='date', right_on='date', how='left')\n",
    "    .merge(visitorsADaily, left_on='date', right_on='date', how='left')\n",
    "    .merge(visitorsBDaily, left_on='date', right_on='date', how='left')\n",
    "    .merge(visitorsACummulative, left_on='date', right_on='date', how='left')\n",
    "    .merge(visitorsBCummulative, left_on='date', right_on='date', how='left')\n",
    ")\n",
    "\n",
    "\n",
    "ordersByUsersA = (\n",
    "    orders[orders['group'] == 'A']\n",
    "    .groupby('visitorId', as_index=False)\n",
    "    .agg({'transactionId': pd.Series.nunique})\n",
    ")\n",
    "ordersByUsersA.columns = ['visitorId', 'orders']\n",
    "\n",
    "ordersByUsersB = (\n",
    "    orders[orders['group'] == 'B']\n",
    "    .groupby('visitorId', as_index=False)\n",
    "    .agg({'transactionId': pd.Series.nunique})\n",
    ")\n",
    "ordersByUsersB.columns = ['visitorId', 'orders'] \n",
    "\n",
    "sampleA = pd.concat([ordersByUsersA['orders'],pd.Series(0, index=np.arange(data['visitorsPerDateA'].sum() - len(ordersByUsersA['orders'])), name='orders')],axis=0)\n",
    "\n",
    "sampleB = pd.concat([ordersByUsersB['orders'],pd.Series(0, index=np.arange(data['visitorsPerDateB'].sum() - len(ordersByUsersB['orders'])), name='orders')],axis=0)\n",
    "\n",
    "display(\"{0:.3f}\".format(stats.mannwhitneyu(sampleA, sampleB)[1]))\n",
    "\n",
    "display(\"{0:.3f}\".format((data['ordersPerDateB'].sum()/data['visitorsPerDateB'].sum())/(data['ordersPerDateA'].sum()/data['visitorsPerDateA'].sum())-1))\n"
   ]
  },
  {
   "cell_type": "markdown",
   "metadata": {},
   "source": [
    "p-value = 0.017 это меньше порога 0.05, это значит что различия между конверсиями групп по сырым данным есть.\n",
    "\n",
    "Конверсия группы В по сырым данным больше чем у группы А на 13.8%"
   ]
  },
  {
   "cell_type": "markdown",
   "metadata": {},
   "source": [
    "### Посчитайте статистическую значимость различий в среднем чеке заказа между группами по «сырым» данным. Сделайте выводы и предположения."
   ]
  },
  {
   "cell_type": "markdown",
   "metadata": {},
   "source": [
    "Нулевая гипотеза: различий в среднем чеке между группами нет. \n",
    "    \n",
    "Альтернативная гипотеза: различия в среднем чеке между группами есть."
   ]
  },
  {
   "cell_type": "code",
   "execution_count": 20,
   "metadata": {},
   "outputs": [
    {
     "data": {
      "text/plain": [
       "'0.729'"
      ]
     },
     "metadata": {},
     "output_type": "display_data"
    },
    {
     "data": {
      "text/plain": [
       "'0.259'"
      ]
     },
     "metadata": {},
     "output_type": "display_data"
    }
   ],
   "source": [
    "# считаем статистическую значимость различий в среднем чеке между группами по сырым данным. \n",
    "display('{0:.3f}'.format(stats.mannwhitneyu(orders[orders['group']=='A']['revenue'], orders[orders['group']=='B']['revenue'])[1]))\n",
    "display('{0:.3f}'.format(orders[orders['group']=='B']['revenue'].mean()/orders[orders['group']=='A']['revenue'].mean()-1))"
   ]
  },
  {
   "cell_type": "markdown",
   "metadata": {},
   "source": [
    "p-value = 0.729 это намного больше порога 0.05, это значит различий в среднем чеке между группами нет, хотя средний чек группы B на 26% чем средний чек группы А. "
   ]
  },
  {
   "cell_type": "markdown",
   "metadata": {},
   "source": [
    "### Посчитайте статистическую значимость различий в конверсии между группами по «очищенным» данным. Сделайте выводы и предположения."
   ]
  },
  {
   "cell_type": "markdown",
   "metadata": {},
   "source": [
    "Нулевая гипотеза: различий в конверсии между группами нет. \n",
    "\n",
    "Альтернативная гипотеза: различия в конверсии между группами есть."
   ]
  },
  {
   "cell_type": "code",
   "execution_count": 21,
   "metadata": {},
   "outputs": [
    {
     "data": {
      "text/plain": [
       "1099    148427295\n",
       "18      199603092\n",
       "23      237748145\n",
       "949     887908475\n",
       "744     888512513\n",
       "Name: visitorId, dtype: int64"
      ]
     },
     "metadata": {},
     "output_type": "display_data"
    },
    {
     "data": {
      "text/plain": [
       "20"
      ]
     },
     "metadata": {},
     "output_type": "display_data"
    }
   ],
   "source": [
    "# сделаем срез нужных нам пользователей \n",
    "usersWithManyOrders = pd.concat(\n",
    "    [\n",
    "        ordersByUsersA[ordersByUsersA['orders'] > 3]['visitorId'],\n",
    "        ordersByUsersB[ordersByUsersB['orders'] > 3]['visitorId'],\n",
    "    ],\n",
    "    axis=0,\n",
    ")\n",
    "usersWithExpensiveOrders = orders[orders['revenue'] > 58223]['visitorId']\n",
    "abnormalUsers = (\n",
    "    pd.concat([usersWithManyOrders, usersWithExpensiveOrders], axis=0)\n",
    "    .drop_duplicates()\n",
    "    .sort_values()\n",
    ")\n",
    "display(abnormalUsers.head(5))\n",
    "display(abnormalUsers.shape[0]) "
   ]
  },
  {
   "cell_type": "markdown",
   "metadata": {},
   "source": [
    "У нас получилось 20 пользователей с заказами более 3 или суммами чека более 58223."
   ]
  },
  {
   "cell_type": "code",
   "execution_count": 22,
   "metadata": {},
   "outputs": [
    {
     "data": {
      "text/plain": [
       "'0.014'"
      ]
     },
     "metadata": {},
     "output_type": "display_data"
    },
    {
     "data": {
      "text/plain": [
       "'0.151'"
      ]
     },
     "metadata": {},
     "output_type": "display_data"
    }
   ],
   "source": [
    "# считаем статистическую значимость различий в конверсии между группами по очищеным данным.\n",
    "sampleAFiltered = pd.concat(\n",
    "    [\n",
    "        ordersByUsersA[\n",
    "            np.logical_not(ordersByUsersA['visitorId'].isin(abnormalUsers))\n",
    "        ]['orders'],\n",
    "        pd.Series(\n",
    "            0,\n",
    "            index=np.arange(\n",
    "                data['visitorsPerDateA'].sum() - len(ordersByUsersA['orders'])\n",
    "            ),\n",
    "            name='orders',\n",
    "        ),\n",
    "    ],\n",
    "    axis=0,\n",
    ")\n",
    "\n",
    "sampleBFiltered = pd.concat(\n",
    "    [\n",
    "        ordersByUsersB[\n",
    "            np.logical_not(ordersByUsersB['visitorId'].isin(abnormalUsers))\n",
    "        ]['orders'],\n",
    "        pd.Series(\n",
    "            0,\n",
    "            index=np.arange(\n",
    "                data['visitorsPerDateB'].sum() - len(ordersByUsersB['orders'])\n",
    "            ),\n",
    "            name='orders',\n",
    "        ),\n",
    "    ],\n",
    "    axis=0,\n",
    ") \n",
    "\n",
    "display('{0:.3f}'.format(stats.mannwhitneyu(sampleAFiltered, sampleBFiltered)[1]))\n",
    "display('{0:.3f}'.format(sampleBFiltered.mean()/sampleAFiltered.mean()-1))"
   ]
  },
  {
   "cell_type": "markdown",
   "metadata": {},
   "source": [
    "p-value = 0.014 это меньше порога 0.05, это значит что различия между конверсиями групп по очищеным данным есть.\n",
    "\n",
    "Конверсия группы В по сырым данным больше чем у группы А на 15.1%, конверсия по очищенным данным стала больше."
   ]
  },
  {
   "cell_type": "markdown",
   "metadata": {},
   "source": [
    "### Посчитайте статистическую значимость различий в среднем чеке заказа между группами по «очищенным» данным. Сделайте выводы и предположения"
   ]
  },
  {
   "cell_type": "markdown",
   "metadata": {},
   "source": [
    "Нулевая гипотеза: различий в среднем чеке между группами нет. \n",
    "    \n",
    "Альтернативная гипотеза: различия в среднем чеке между группами есть."
   ]
  },
  {
   "cell_type": "code",
   "execution_count": 23,
   "metadata": {},
   "outputs": [
    {
     "data": {
      "text/plain": [
       "'0.959'"
      ]
     },
     "metadata": {},
     "output_type": "display_data"
    },
    {
     "data": {
      "text/plain": [
       "'-0.014'"
      ]
     },
     "metadata": {},
     "output_type": "display_data"
    }
   ],
   "source": [
    "# считаем статистическую значимость различий в среднем чеке между группами по очищеным данным. \n",
    "display('{0:.3f}'.format(stats.mannwhitneyu(\n",
    "            orders[np.logical_and(orders['group'] == 'A',np.logical_not(orders['visitorId'].isin(abnormalUsers)),)]['revenue'],\n",
    "            orders[np.logical_and(orders['group'] == 'B', np.logical_not(orders['visitorId'].isin(abnormalUsers)),)]['revenue'],\n",
    "        )[1]))\n",
    "\n",
    "display(\"{0:.3f}\".format(\n",
    "            orders[np.logical_and(orders['group'] == 'B',np.logical_not(orders['visitorId'].isin(abnormalUsers)),)]['revenue'].mean() /\n",
    "            orders[np.logical_and(orders['group'] == 'A',np.logical_not(orders['visitorId'].isin(abnormalUsers)),)]['revenue'].mean()- 1\n",
    "))"
   ]
  },
  {
   "cell_type": "markdown",
   "metadata": {},
   "source": [
    "p-value = 0.959 это намного больше порога 0.05, это значит различий в среднем чеке между группами нет, а вот здесь средний чек группы B оказался на 1.4% меньше чем средний чек группы А, в сырых данных был больше на 26%, это всё из-за тех больших заказов. "
   ]
  },
  {
   "cell_type": "markdown",
   "metadata": {},
   "source": [
    "## Примите решение по результатам теста и объясните его."
   ]
  },
  {
   "cell_type": "markdown",
   "metadata": {},
   "source": [
    "Вывод: \n",
    "\n",
    "1) По обоим видам данных(сырые/очищенные) конверсия группы В лучше конверсии группы А (13.8%/15.1%)\n",
    "\n",
    "2) По среднему чеку ситуация такая: по сырым данным средний чек группы В выше среднего чека группы А (26%), а вот по очищенныйм данным средний чек группы В ниже среднего чека группы А на 1.4%, вот такой большой вклад внесли несколько большых заказов.\n",
    "\n",
    "Тест можно остановить, зафиксировать победу группы В при лучшей конверсии и практически одинаковом среднем чеке."
   ]
  }
 ],
 "metadata": {
  "ExecuteTimeLog": [
   {
    "duration": 1134,
    "start_time": "2022-04-28T10:08:04.701Z"
   },
   {
    "duration": 14,
    "start_time": "2022-04-28T10:08:34.032Z"
   },
   {
    "duration": 12,
    "start_time": "2022-04-28T10:08:48.726Z"
   },
   {
    "duration": 42,
    "start_time": "2022-04-28T10:09:15.024Z"
   },
   {
    "duration": 132,
    "start_time": "2022-04-28T10:11:34.186Z"
   },
   {
    "duration": 19,
    "start_time": "2022-04-28T10:11:47.568Z"
   },
   {
    "duration": 23,
    "start_time": "2022-04-28T10:12:31.455Z"
   },
   {
    "duration": 30,
    "start_time": "2022-04-28T10:14:00.721Z"
   },
   {
    "duration": 1066,
    "start_time": "2022-04-28T10:23:17.164Z"
   },
   {
    "duration": 30,
    "start_time": "2022-04-28T10:23:18.233Z"
   },
   {
    "duration": 1182,
    "start_time": "2022-04-28T10:23:48.224Z"
   },
   {
    "duration": 0,
    "start_time": "2022-04-28T10:23:49.408Z"
   },
   {
    "duration": 1288,
    "start_time": "2022-04-28T10:24:03.634Z"
   },
   {
    "duration": 37,
    "start_time": "2022-04-28T10:24:04.925Z"
   },
   {
    "duration": 1074,
    "start_time": "2022-04-28T11:00:49.151Z"
   },
   {
    "duration": 31,
    "start_time": "2022-04-28T11:00:50.227Z"
   },
   {
    "duration": 5,
    "start_time": "2022-04-28T13:28:55.901Z"
   },
   {
    "duration": 22,
    "start_time": "2022-04-28T13:29:01.821Z"
   },
   {
    "duration": 17,
    "start_time": "2022-04-28T13:32:54.193Z"
   },
   {
    "duration": 30,
    "start_time": "2022-04-28T14:06:08.514Z"
   },
   {
    "duration": 45,
    "start_time": "2022-04-28T14:07:02.067Z"
   },
   {
    "duration": 44,
    "start_time": "2022-04-28T14:08:13.189Z"
   },
   {
    "duration": 21,
    "start_time": "2022-04-28T14:13:51.779Z"
   },
   {
    "duration": 1409,
    "start_time": "2022-04-28T14:14:39.361Z"
   },
   {
    "duration": 48,
    "start_time": "2022-04-28T14:14:40.773Z"
   },
   {
    "duration": 23,
    "start_time": "2022-04-28T14:14:40.823Z"
   },
   {
    "duration": 45,
    "start_time": "2022-04-28T14:14:40.850Z"
   },
   {
    "duration": 70,
    "start_time": "2022-04-28T14:14:40.897Z"
   },
   {
    "duration": 573,
    "start_time": "2022-04-28T14:14:40.969Z"
   },
   {
    "duration": 1372,
    "start_time": "2022-04-28T14:14:55.586Z"
   },
   {
    "duration": 48,
    "start_time": "2022-04-28T14:14:56.961Z"
   },
   {
    "duration": 22,
    "start_time": "2022-04-28T14:14:57.012Z"
   },
   {
    "duration": 17,
    "start_time": "2022-04-28T14:14:57.037Z"
   },
   {
    "duration": 69,
    "start_time": "2022-04-28T14:14:57.056Z"
   },
   {
    "duration": 36,
    "start_time": "2022-04-28T14:14:57.127Z"
   },
   {
    "duration": 11,
    "start_time": "2022-04-28T14:15:24.599Z"
   },
   {
    "duration": 12,
    "start_time": "2022-04-28T14:15:41.383Z"
   },
   {
    "duration": 18,
    "start_time": "2022-04-28T14:15:55.190Z"
   },
   {
    "duration": 29,
    "start_time": "2022-04-28T14:16:10.055Z"
   },
   {
    "duration": 4,
    "start_time": "2022-04-28T14:25:24.841Z"
   },
   {
    "duration": 1167,
    "start_time": "2022-04-28T14:28:15.862Z"
   },
   {
    "duration": 28,
    "start_time": "2022-04-28T14:28:17.032Z"
   },
   {
    "duration": 29,
    "start_time": "2022-04-28T14:28:17.062Z"
   },
   {
    "duration": 15,
    "start_time": "2022-04-28T14:28:17.094Z"
   },
   {
    "duration": 56,
    "start_time": "2022-04-28T14:28:17.111Z"
   },
   {
    "duration": 22,
    "start_time": "2022-04-28T14:28:17.169Z"
   },
   {
    "duration": 27,
    "start_time": "2022-04-28T14:28:17.194Z"
   },
   {
    "duration": 140,
    "start_time": "2022-04-28T14:35:25.123Z"
   },
   {
    "duration": 692,
    "start_time": "2022-04-28T14:37:23.339Z"
   },
   {
    "duration": 613,
    "start_time": "2022-04-28T14:39:29.096Z"
   },
   {
    "duration": 686,
    "start_time": "2022-04-28T14:39:36.523Z"
   },
   {
    "duration": 433,
    "start_time": "2022-04-28T14:41:20.693Z"
   },
   {
    "duration": 441,
    "start_time": "2022-04-28T14:43:05.195Z"
   },
   {
    "duration": 77,
    "start_time": "2022-04-29T08:35:26.973Z"
   },
   {
    "duration": 1157,
    "start_time": "2022-04-29T08:35:35.805Z"
   },
   {
    "duration": 29,
    "start_time": "2022-04-29T08:35:36.966Z"
   },
   {
    "duration": 30,
    "start_time": "2022-04-29T08:35:36.997Z"
   },
   {
    "duration": 16,
    "start_time": "2022-04-29T08:35:37.029Z"
   },
   {
    "duration": 52,
    "start_time": "2022-04-29T08:35:37.048Z"
   },
   {
    "duration": 31,
    "start_time": "2022-04-29T08:35:37.102Z"
   },
   {
    "duration": 29,
    "start_time": "2022-04-29T08:35:37.135Z"
   },
   {
    "duration": 502,
    "start_time": "2022-04-29T08:35:37.166Z"
   },
   {
    "duration": 581,
    "start_time": "2022-04-29T08:35:37.670Z"
   },
   {
    "duration": 351,
    "start_time": "2022-04-29T08:35:38.254Z"
   },
   {
    "duration": 474,
    "start_time": "2022-04-29T08:37:51.621Z"
   },
   {
    "duration": 405,
    "start_time": "2022-04-29T08:38:23.267Z"
   },
   {
    "duration": 604,
    "start_time": "2022-04-29T08:39:14.101Z"
   },
   {
    "duration": 404,
    "start_time": "2022-04-29T08:39:22.252Z"
   },
   {
    "duration": 593,
    "start_time": "2022-04-29T09:00:49.077Z"
   },
   {
    "duration": 480,
    "start_time": "2022-04-29T09:12:23.827Z"
   },
   {
    "duration": 425,
    "start_time": "2022-04-29T09:14:31.859Z"
   },
   {
    "duration": 300,
    "start_time": "2022-04-29T09:14:59.634Z"
   },
   {
    "duration": 446,
    "start_time": "2022-04-29T09:15:24.040Z"
   },
   {
    "duration": 446,
    "start_time": "2022-04-29T09:15:31.860Z"
   },
   {
    "duration": 521,
    "start_time": "2022-04-29T09:39:56.821Z"
   },
   {
    "duration": 12,
    "start_time": "2022-04-29T09:53:35.375Z"
   },
   {
    "duration": 18,
    "start_time": "2022-04-29T09:53:55.864Z"
   },
   {
    "duration": 16,
    "start_time": "2022-04-29T09:54:43.886Z"
   },
   {
    "duration": 191,
    "start_time": "2022-04-29T09:55:50.790Z"
   },
   {
    "duration": 17,
    "start_time": "2022-04-29T09:59:52.177Z"
   },
   {
    "duration": 4,
    "start_time": "2022-04-29T10:01:50.195Z"
   },
   {
    "duration": 820,
    "start_time": "2022-04-29T10:01:55.266Z"
   },
   {
    "duration": 32,
    "start_time": "2022-04-29T10:01:56.089Z"
   },
   {
    "duration": 17,
    "start_time": "2022-04-29T10:01:56.123Z"
   },
   {
    "duration": 16,
    "start_time": "2022-04-29T10:01:56.142Z"
   },
   {
    "duration": 47,
    "start_time": "2022-04-29T10:01:56.160Z"
   },
   {
    "duration": 30,
    "start_time": "2022-04-29T10:01:56.209Z"
   },
   {
    "duration": 28,
    "start_time": "2022-04-29T10:01:56.241Z"
   },
   {
    "duration": 590,
    "start_time": "2022-04-29T10:01:56.272Z"
   },
   {
    "duration": 563,
    "start_time": "2022-04-29T10:01:56.864Z"
   },
   {
    "duration": 426,
    "start_time": "2022-04-29T10:01:57.430Z"
   },
   {
    "duration": 494,
    "start_time": "2022-04-29T10:01:57.858Z"
   },
   {
    "duration": 555,
    "start_time": "2022-04-29T10:01:58.354Z"
   },
   {
    "duration": 551,
    "start_time": "2022-04-29T10:01:58.911Z"
   },
   {
    "duration": 16,
    "start_time": "2022-04-29T10:01:59.464Z"
   },
   {
    "duration": 191,
    "start_time": "2022-04-29T10:01:59.482Z"
   },
   {
    "duration": 3,
    "start_time": "2022-04-29T10:01:59.675Z"
   },
   {
    "duration": 7,
    "start_time": "2022-04-29T10:04:59.496Z"
   },
   {
    "duration": 8,
    "start_time": "2022-04-29T10:05:06.238Z"
   },
   {
    "duration": 7,
    "start_time": "2022-04-29T10:11:25.039Z"
   },
   {
    "duration": 217,
    "start_time": "2022-04-29T10:12:47.446Z"
   },
   {
    "duration": 318,
    "start_time": "2022-04-29T10:13:27.132Z"
   },
   {
    "duration": 343,
    "start_time": "2022-04-29T10:13:31.534Z"
   },
   {
    "duration": 8,
    "start_time": "2022-04-29T10:17:19.920Z"
   },
   {
    "duration": 287,
    "start_time": "2022-04-29T10:29:56.299Z"
   },
   {
    "duration": 255,
    "start_time": "2022-04-29T10:31:31.324Z"
   },
   {
    "duration": 295,
    "start_time": "2022-04-29T10:32:35.790Z"
   },
   {
    "duration": 281,
    "start_time": "2022-04-29T10:32:52.058Z"
   },
   {
    "duration": 622,
    "start_time": "2022-04-29T10:33:00.956Z"
   },
   {
    "duration": 1468,
    "start_time": "2022-04-29T10:33:46.873Z"
   },
   {
    "duration": 94,
    "start_time": "2022-04-29T10:33:48.344Z"
   },
   {
    "duration": 19,
    "start_time": "2022-04-29T10:33:48.440Z"
   },
   {
    "duration": 49,
    "start_time": "2022-04-29T10:33:48.462Z"
   },
   {
    "duration": 52,
    "start_time": "2022-04-29T10:33:48.514Z"
   },
   {
    "duration": 24,
    "start_time": "2022-04-29T10:33:48.568Z"
   },
   {
    "duration": 42,
    "start_time": "2022-04-29T10:33:48.594Z"
   },
   {
    "duration": 499,
    "start_time": "2022-04-29T10:33:48.639Z"
   },
   {
    "duration": 568,
    "start_time": "2022-04-29T10:33:49.141Z"
   },
   {
    "duration": 430,
    "start_time": "2022-04-29T10:33:49.713Z"
   },
   {
    "duration": 494,
    "start_time": "2022-04-29T10:33:50.145Z"
   },
   {
    "duration": 500,
    "start_time": "2022-04-29T10:33:50.641Z"
   },
   {
    "duration": 506,
    "start_time": "2022-04-29T10:33:51.143Z"
   },
   {
    "duration": 17,
    "start_time": "2022-04-29T10:33:51.652Z"
   },
   {
    "duration": 340,
    "start_time": "2022-04-29T10:33:51.672Z"
   },
   {
    "duration": 12,
    "start_time": "2022-04-29T10:33:52.014Z"
   },
   {
    "duration": 354,
    "start_time": "2022-04-29T10:33:52.029Z"
   },
   {
    "duration": 7,
    "start_time": "2022-04-29T10:33:52.385Z"
   },
   {
    "duration": 702,
    "start_time": "2022-04-29T10:33:52.394Z"
   },
   {
    "duration": 933,
    "start_time": "2022-04-29T10:34:48.328Z"
   },
   {
    "duration": 632,
    "start_time": "2022-04-29T10:34:58.952Z"
   },
   {
    "duration": 635,
    "start_time": "2022-04-29T10:35:37.353Z"
   },
   {
    "duration": 658,
    "start_time": "2022-04-29T10:36:38.720Z"
   },
   {
    "duration": 855,
    "start_time": "2022-04-29T11:16:29.374Z"
   },
   {
    "duration": 16,
    "start_time": "2022-04-29T11:16:34.923Z"
   },
   {
    "duration": 19,
    "start_time": "2022-04-29T11:17:16.843Z"
   },
   {
    "duration": 17,
    "start_time": "2022-04-29T11:26:49.790Z"
   },
   {
    "duration": 2149,
    "start_time": "2022-04-29T11:31:38.487Z"
   },
   {
    "duration": 1653,
    "start_time": "2022-04-29T11:32:27.840Z"
   },
   {
    "duration": 1349,
    "start_time": "2022-04-29T11:32:39.029Z"
   },
   {
    "duration": 87,
    "start_time": "2022-04-29T11:32:40.380Z"
   },
   {
    "duration": 17,
    "start_time": "2022-04-29T11:32:40.469Z"
   },
   {
    "duration": 38,
    "start_time": "2022-04-29T11:32:40.488Z"
   },
   {
    "duration": 48,
    "start_time": "2022-04-29T11:32:40.528Z"
   },
   {
    "duration": 22,
    "start_time": "2022-04-29T11:32:40.578Z"
   },
   {
    "duration": 34,
    "start_time": "2022-04-29T11:32:40.603Z"
   },
   {
    "duration": 516,
    "start_time": "2022-04-29T11:32:40.639Z"
   },
   {
    "duration": 573,
    "start_time": "2022-04-29T11:32:41.158Z"
   },
   {
    "duration": 428,
    "start_time": "2022-04-29T11:32:41.735Z"
   },
   {
    "duration": 522,
    "start_time": "2022-04-29T11:32:42.166Z"
   },
   {
    "duration": 478,
    "start_time": "2022-04-29T11:32:42.691Z"
   },
   {
    "duration": 516,
    "start_time": "2022-04-29T11:32:43.172Z"
   },
   {
    "duration": 33,
    "start_time": "2022-04-29T11:32:43.691Z"
   },
   {
    "duration": 325,
    "start_time": "2022-04-29T11:32:43.726Z"
   },
   {
    "duration": 7,
    "start_time": "2022-04-29T11:32:44.054Z"
   },
   {
    "duration": 362,
    "start_time": "2022-04-29T11:32:44.063Z"
   },
   {
    "duration": 7,
    "start_time": "2022-04-29T11:32:44.427Z"
   },
   {
    "duration": 656,
    "start_time": "2022-04-29T11:32:44.436Z"
   },
   {
    "duration": 33,
    "start_time": "2022-04-29T11:32:45.094Z"
   },
   {
    "duration": 1770,
    "start_time": "2022-04-29T11:32:45.130Z"
   },
   {
    "duration": 1911,
    "start_time": "2022-04-29T11:33:29.162Z"
   },
   {
    "duration": 650,
    "start_time": "2022-04-29T11:34:09.706Z"
   },
   {
    "duration": 1526,
    "start_time": "2022-04-29T11:34:21.174Z"
   },
   {
    "duration": 14,
    "start_time": "2022-04-29T11:35:08.970Z"
   },
   {
    "duration": 12,
    "start_time": "2022-04-29T11:38:26.451Z"
   },
   {
    "duration": 41,
    "start_time": "2022-04-29T11:40:03.388Z"
   },
   {
    "duration": 39,
    "start_time": "2022-04-29T11:40:30.448Z"
   },
   {
    "duration": 234,
    "start_time": "2022-04-29T11:44:31.504Z"
   },
   {
    "duration": 16,
    "start_time": "2022-04-29T11:50:03.913Z"
   },
   {
    "duration": 44,
    "start_time": "2022-04-29T11:50:11.876Z"
   },
   {
    "duration": 23,
    "start_time": "2022-04-29T11:51:47.242Z"
   },
   {
    "duration": 22,
    "start_time": "2022-04-29T11:54:22.506Z"
   },
   {
    "duration": 21,
    "start_time": "2022-04-29T11:54:33.683Z"
   },
   {
    "duration": 24,
    "start_time": "2022-04-29T11:56:28.179Z"
   },
   {
    "duration": 24,
    "start_time": "2022-04-29T11:56:36.594Z"
   },
   {
    "duration": 464,
    "start_time": "2022-04-29T12:19:05.927Z"
   },
   {
    "duration": 635,
    "start_time": "2022-04-29T12:19:22.008Z"
   },
   {
    "duration": 583,
    "start_time": "2022-04-29T12:19:51.406Z"
   },
   {
    "duration": 548,
    "start_time": "2022-04-29T12:20:32.663Z"
   },
   {
    "duration": 463,
    "start_time": "2022-04-29T12:20:59.152Z"
   },
   {
    "duration": 747,
    "start_time": "2022-04-29T12:21:23.960Z"
   },
   {
    "duration": 435,
    "start_time": "2022-04-29T12:21:51.329Z"
   },
   {
    "duration": 461,
    "start_time": "2022-04-29T12:22:16.607Z"
   },
   {
    "duration": 1417,
    "start_time": "2022-04-29T12:22:34.257Z"
   },
   {
    "duration": 130,
    "start_time": "2022-04-29T12:22:35.678Z"
   },
   {
    "duration": 23,
    "start_time": "2022-04-29T12:22:35.811Z"
   },
   {
    "duration": 19,
    "start_time": "2022-04-29T12:22:35.837Z"
   },
   {
    "duration": 48,
    "start_time": "2022-04-29T12:22:35.858Z"
   },
   {
    "duration": 22,
    "start_time": "2022-04-29T12:22:35.925Z"
   },
   {
    "duration": 30,
    "start_time": "2022-04-29T12:22:35.950Z"
   },
   {
    "duration": 834,
    "start_time": "2022-04-29T12:22:35.983Z"
   },
   {
    "duration": 606,
    "start_time": "2022-04-29T12:22:36.824Z"
   },
   {
    "duration": 457,
    "start_time": "2022-04-29T12:22:37.434Z"
   },
   {
    "duration": 573,
    "start_time": "2022-04-29T12:22:37.893Z"
   },
   {
    "duration": 489,
    "start_time": "2022-04-29T12:22:38.469Z"
   },
   {
    "duration": 601,
    "start_time": "2022-04-29T12:22:38.961Z"
   },
   {
    "duration": 25,
    "start_time": "2022-04-29T12:22:39.565Z"
   },
   {
    "duration": 387,
    "start_time": "2022-04-29T12:22:39.593Z"
   },
   {
    "duration": 7,
    "start_time": "2022-04-29T12:22:39.982Z"
   },
   {
    "duration": 493,
    "start_time": "2022-04-29T12:22:39.992Z"
   },
   {
    "duration": 10,
    "start_time": "2022-04-29T12:22:40.489Z"
   },
   {
    "duration": 1070,
    "start_time": "2022-04-29T12:22:40.523Z"
   },
   {
    "duration": 45,
    "start_time": "2022-04-29T12:22:41.596Z"
   },
   {
    "duration": 25,
    "start_time": "2022-04-29T12:22:41.644Z"
   },
   {
    "duration": 100,
    "start_time": "2022-04-29T12:22:41.673Z"
   },
   {
    "duration": 53,
    "start_time": "2022-04-29T12:22:41.776Z"
   },
   {
    "duration": 1833,
    "start_time": "2022-04-29T12:23:24.308Z"
   },
   {
    "duration": 117,
    "start_time": "2022-04-29T12:23:26.144Z"
   },
   {
    "duration": 20,
    "start_time": "2022-04-29T12:23:26.264Z"
   },
   {
    "duration": 58,
    "start_time": "2022-04-29T12:23:26.288Z"
   },
   {
    "duration": 61,
    "start_time": "2022-04-29T12:23:26.348Z"
   },
   {
    "duration": 29,
    "start_time": "2022-04-29T12:23:26.412Z"
   },
   {
    "duration": 29,
    "start_time": "2022-04-29T12:23:26.444Z"
   },
   {
    "duration": 802,
    "start_time": "2022-04-29T12:23:26.475Z"
   },
   {
    "duration": 615,
    "start_time": "2022-04-29T12:23:27.280Z"
   },
   {
    "duration": 468,
    "start_time": "2022-04-29T12:23:27.899Z"
   },
   {
    "duration": 576,
    "start_time": "2022-04-29T12:23:28.370Z"
   },
   {
    "duration": 678,
    "start_time": "2022-04-29T12:23:28.949Z"
   },
   {
    "duration": 670,
    "start_time": "2022-04-29T12:23:29.631Z"
   },
   {
    "duration": 44,
    "start_time": "2022-04-29T12:23:30.303Z"
   },
   {
    "duration": 344,
    "start_time": "2022-04-29T12:23:30.349Z"
   },
   {
    "duration": 7,
    "start_time": "2022-04-29T12:23:30.696Z"
   },
   {
    "duration": 370,
    "start_time": "2022-04-29T12:23:30.725Z"
   },
   {
    "duration": 8,
    "start_time": "2022-04-29T12:23:31.099Z"
   },
   {
    "duration": 718,
    "start_time": "2022-04-29T12:23:31.110Z"
   },
   {
    "duration": 22,
    "start_time": "2022-04-29T12:23:31.836Z"
   },
   {
    "duration": 37,
    "start_time": "2022-04-29T12:23:31.860Z"
   },
   {
    "duration": 80,
    "start_time": "2022-04-29T12:23:31.899Z"
   },
   {
    "duration": 59,
    "start_time": "2022-04-29T12:23:31.982Z"
   },
   {
    "duration": 1475,
    "start_time": "2022-04-29T12:24:09.249Z"
   },
   {
    "duration": 112,
    "start_time": "2022-04-29T12:24:10.729Z"
   },
   {
    "duration": 18,
    "start_time": "2022-04-29T12:24:10.844Z"
   },
   {
    "duration": 17,
    "start_time": "2022-04-29T12:24:10.864Z"
   },
   {
    "duration": 79,
    "start_time": "2022-04-29T12:24:10.884Z"
   },
   {
    "duration": 22,
    "start_time": "2022-04-29T12:24:10.966Z"
   },
   {
    "duration": 49,
    "start_time": "2022-04-29T12:24:10.991Z"
   },
   {
    "duration": 182,
    "start_time": "2022-04-29T12:24:11.044Z"
   },
   {
    "duration": 0,
    "start_time": "2022-04-29T12:24:11.229Z"
   },
   {
    "duration": 0,
    "start_time": "2022-04-29T12:24:11.233Z"
   },
   {
    "duration": 0,
    "start_time": "2022-04-29T12:24:11.235Z"
   },
   {
    "duration": 0,
    "start_time": "2022-04-29T12:24:11.239Z"
   },
   {
    "duration": 0,
    "start_time": "2022-04-29T12:24:11.243Z"
   },
   {
    "duration": 0,
    "start_time": "2022-04-29T12:24:11.245Z"
   },
   {
    "duration": 0,
    "start_time": "2022-04-29T12:24:11.247Z"
   },
   {
    "duration": 0,
    "start_time": "2022-04-29T12:24:11.251Z"
   },
   {
    "duration": 0,
    "start_time": "2022-04-29T12:24:11.253Z"
   },
   {
    "duration": 0,
    "start_time": "2022-04-29T12:24:11.254Z"
   },
   {
    "duration": 0,
    "start_time": "2022-04-29T12:24:11.256Z"
   },
   {
    "duration": 0,
    "start_time": "2022-04-29T12:24:11.258Z"
   },
   {
    "duration": 0,
    "start_time": "2022-04-29T12:24:11.259Z"
   },
   {
    "duration": 0,
    "start_time": "2022-04-29T12:24:11.261Z"
   },
   {
    "duration": 0,
    "start_time": "2022-04-29T12:24:11.262Z"
   },
   {
    "duration": 1912,
    "start_time": "2022-04-29T12:24:37.719Z"
   },
   {
    "duration": 124,
    "start_time": "2022-04-29T12:24:39.634Z"
   },
   {
    "duration": 18,
    "start_time": "2022-04-29T12:24:39.761Z"
   },
   {
    "duration": 44,
    "start_time": "2022-04-29T12:24:39.782Z"
   },
   {
    "duration": 62,
    "start_time": "2022-04-29T12:24:39.829Z"
   },
   {
    "duration": 49,
    "start_time": "2022-04-29T12:24:39.894Z"
   },
   {
    "duration": 40,
    "start_time": "2022-04-29T12:24:39.946Z"
   },
   {
    "duration": 858,
    "start_time": "2022-04-29T12:24:39.990Z"
   },
   {
    "duration": 920,
    "start_time": "2022-04-29T12:24:40.851Z"
   },
   {
    "duration": 469,
    "start_time": "2022-04-29T12:24:41.776Z"
   },
   {
    "duration": 549,
    "start_time": "2022-04-29T12:24:42.248Z"
   },
   {
    "duration": 546,
    "start_time": "2022-04-29T12:24:42.800Z"
   },
   {
    "duration": 723,
    "start_time": "2022-04-29T12:24:43.356Z"
   },
   {
    "duration": 41,
    "start_time": "2022-04-29T12:24:44.082Z"
   },
   {
    "duration": 413,
    "start_time": "2022-04-29T12:24:44.127Z"
   },
   {
    "duration": 10,
    "start_time": "2022-04-29T12:24:44.544Z"
   },
   {
    "duration": 393,
    "start_time": "2022-04-29T12:24:44.558Z"
   },
   {
    "duration": 9,
    "start_time": "2022-04-29T12:24:44.954Z"
   },
   {
    "duration": 1116,
    "start_time": "2022-04-29T12:24:44.967Z"
   },
   {
    "duration": 44,
    "start_time": "2022-04-29T12:24:46.085Z"
   },
   {
    "duration": 26,
    "start_time": "2022-04-29T12:24:46.132Z"
   },
   {
    "duration": 83,
    "start_time": "2022-04-29T12:24:46.161Z"
   },
   {
    "duration": 28,
    "start_time": "2022-04-29T12:24:46.247Z"
   },
   {
    "duration": 1950,
    "start_time": "2022-04-29T12:30:27.229Z"
   },
   {
    "duration": 102,
    "start_time": "2022-04-29T12:30:29.186Z"
   },
   {
    "duration": 35,
    "start_time": "2022-04-29T12:30:29.291Z"
   },
   {
    "duration": 26,
    "start_time": "2022-04-29T12:30:29.328Z"
   },
   {
    "duration": 42,
    "start_time": "2022-04-29T12:30:29.357Z"
   },
   {
    "duration": 44,
    "start_time": "2022-04-29T12:30:29.401Z"
   },
   {
    "duration": 28,
    "start_time": "2022-04-29T12:30:29.447Z"
   },
   {
    "duration": 528,
    "start_time": "2022-04-29T12:30:29.477Z"
   },
   {
    "duration": 618,
    "start_time": "2022-04-29T12:30:30.010Z"
   },
   {
    "duration": 577,
    "start_time": "2022-04-29T12:30:30.631Z"
   },
   {
    "duration": 548,
    "start_time": "2022-04-29T12:30:31.211Z"
   },
   {
    "duration": 509,
    "start_time": "2022-04-29T12:30:31.762Z"
   },
   {
    "duration": 590,
    "start_time": "2022-04-29T12:30:32.274Z"
   },
   {
    "duration": 19,
    "start_time": "2022-04-29T12:30:32.866Z"
   },
   {
    "duration": 396,
    "start_time": "2022-04-29T12:30:32.887Z"
   },
   {
    "duration": 9,
    "start_time": "2022-04-29T12:30:33.286Z"
   },
   {
    "duration": 558,
    "start_time": "2022-04-29T12:30:33.298Z"
   },
   {
    "duration": 9,
    "start_time": "2022-04-29T12:30:33.859Z"
   },
   {
    "duration": 685,
    "start_time": "2022-04-29T12:30:33.870Z"
   },
   {
    "duration": 17,
    "start_time": "2022-04-29T12:30:34.557Z"
   },
   {
    "duration": 47,
    "start_time": "2022-04-29T12:30:34.577Z"
   },
   {
    "duration": 42,
    "start_time": "2022-04-29T12:30:34.633Z"
   },
   {
    "duration": 57,
    "start_time": "2022-04-29T12:30:34.677Z"
   },
   {
    "duration": 50,
    "start_time": "2022-04-30T17:21:24.708Z"
   },
   {
    "duration": 1183,
    "start_time": "2022-04-30T17:21:32.235Z"
   },
   {
    "duration": 89,
    "start_time": "2022-04-30T17:21:33.420Z"
   },
   {
    "duration": 13,
    "start_time": "2022-04-30T17:21:33.511Z"
   },
   {
    "duration": 12,
    "start_time": "2022-04-30T17:21:33.526Z"
   },
   {
    "duration": 36,
    "start_time": "2022-04-30T17:21:33.540Z"
   },
   {
    "duration": 14,
    "start_time": "2022-04-30T17:21:33.578Z"
   },
   {
    "duration": 29,
    "start_time": "2022-04-30T17:21:33.594Z"
   },
   {
    "duration": 119,
    "start_time": "2022-04-30T17:21:33.625Z"
   },
   {
    "duration": 0,
    "start_time": "2022-04-30T17:21:33.746Z"
   },
   {
    "duration": 0,
    "start_time": "2022-04-30T17:21:33.748Z"
   },
   {
    "duration": 0,
    "start_time": "2022-04-30T17:21:33.749Z"
   },
   {
    "duration": 0,
    "start_time": "2022-04-30T17:21:33.750Z"
   },
   {
    "duration": 0,
    "start_time": "2022-04-30T17:21:33.751Z"
   },
   {
    "duration": 0,
    "start_time": "2022-04-30T17:21:33.752Z"
   },
   {
    "duration": 0,
    "start_time": "2022-04-30T17:21:33.753Z"
   },
   {
    "duration": 0,
    "start_time": "2022-04-30T17:21:33.754Z"
   },
   {
    "duration": 0,
    "start_time": "2022-04-30T17:21:33.755Z"
   },
   {
    "duration": 0,
    "start_time": "2022-04-30T17:21:33.757Z"
   },
   {
    "duration": 0,
    "start_time": "2022-04-30T17:21:33.758Z"
   },
   {
    "duration": 0,
    "start_time": "2022-04-30T17:21:33.759Z"
   },
   {
    "duration": 0,
    "start_time": "2022-04-30T17:21:33.760Z"
   },
   {
    "duration": 0,
    "start_time": "2022-04-30T17:21:33.761Z"
   },
   {
    "duration": 0,
    "start_time": "2022-04-30T17:21:33.762Z"
   },
   {
    "duration": 1018,
    "start_time": "2022-04-30T17:24:02.520Z"
   },
   {
    "duration": 77,
    "start_time": "2022-04-30T17:24:03.540Z"
   },
   {
    "duration": 15,
    "start_time": "2022-04-30T17:24:03.619Z"
   },
   {
    "duration": 11,
    "start_time": "2022-04-30T17:24:03.636Z"
   },
   {
    "duration": 39,
    "start_time": "2022-04-30T17:24:03.650Z"
   },
   {
    "duration": 21,
    "start_time": "2022-04-30T17:24:03.690Z"
   },
   {
    "duration": 22,
    "start_time": "2022-04-30T17:24:03.713Z"
   },
   {
    "duration": 67,
    "start_time": "2022-04-30T17:24:03.737Z"
   },
   {
    "duration": 0,
    "start_time": "2022-04-30T17:24:03.806Z"
   },
   {
    "duration": 0,
    "start_time": "2022-04-30T17:24:03.807Z"
   },
   {
    "duration": 0,
    "start_time": "2022-04-30T17:24:03.808Z"
   },
   {
    "duration": 0,
    "start_time": "2022-04-30T17:24:03.809Z"
   },
   {
    "duration": 0,
    "start_time": "2022-04-30T17:24:03.811Z"
   },
   {
    "duration": 0,
    "start_time": "2022-04-30T17:24:03.812Z"
   },
   {
    "duration": 0,
    "start_time": "2022-04-30T17:24:03.813Z"
   },
   {
    "duration": 0,
    "start_time": "2022-04-30T17:24:03.815Z"
   },
   {
    "duration": 0,
    "start_time": "2022-04-30T17:24:03.816Z"
   },
   {
    "duration": 0,
    "start_time": "2022-04-30T17:24:03.817Z"
   },
   {
    "duration": 0,
    "start_time": "2022-04-30T17:24:03.819Z"
   },
   {
    "duration": 0,
    "start_time": "2022-04-30T17:24:03.820Z"
   },
   {
    "duration": 0,
    "start_time": "2022-04-30T17:24:03.821Z"
   },
   {
    "duration": 0,
    "start_time": "2022-04-30T17:24:03.823Z"
   },
   {
    "duration": 0,
    "start_time": "2022-04-30T17:24:03.824Z"
   },
   {
    "duration": 1019,
    "start_time": "2022-04-30T17:24:59.234Z"
   },
   {
    "duration": 73,
    "start_time": "2022-04-30T17:25:00.255Z"
   },
   {
    "duration": 14,
    "start_time": "2022-04-30T17:25:00.330Z"
   },
   {
    "duration": 12,
    "start_time": "2022-04-30T17:25:00.345Z"
   },
   {
    "duration": 52,
    "start_time": "2022-04-30T17:25:00.359Z"
   },
   {
    "duration": 14,
    "start_time": "2022-04-30T17:25:00.413Z"
   },
   {
    "duration": 23,
    "start_time": "2022-04-30T17:25:00.429Z"
   },
   {
    "duration": 308,
    "start_time": "2022-04-30T17:25:00.453Z"
   },
   {
    "duration": 339,
    "start_time": "2022-04-30T17:25:00.763Z"
   },
   {
    "duration": 262,
    "start_time": "2022-04-30T17:25:01.104Z"
   },
   {
    "duration": 402,
    "start_time": "2022-04-30T17:25:01.369Z"
   },
   {
    "duration": 299,
    "start_time": "2022-04-30T17:25:01.773Z"
   },
   {
    "duration": 365,
    "start_time": "2022-04-30T17:25:02.073Z"
   },
   {
    "duration": 13,
    "start_time": "2022-04-30T17:25:02.441Z"
   },
   {
    "duration": 194,
    "start_time": "2022-04-30T17:25:02.455Z"
   },
   {
    "duration": 5,
    "start_time": "2022-04-30T17:25:02.651Z"
   },
   {
    "duration": 207,
    "start_time": "2022-04-30T17:25:02.657Z"
   },
   {
    "duration": 4,
    "start_time": "2022-04-30T17:25:02.865Z"
   },
   {
    "duration": 369,
    "start_time": "2022-04-30T17:25:02.871Z"
   },
   {
    "duration": 12,
    "start_time": "2022-04-30T17:25:03.241Z"
   },
   {
    "duration": 11,
    "start_time": "2022-04-30T17:25:03.254Z"
   },
   {
    "duration": 60,
    "start_time": "2022-04-30T17:25:03.266Z"
   },
   {
    "duration": 15,
    "start_time": "2022-04-30T17:25:03.327Z"
   }
  ],
  "kernelspec": {
   "display_name": "Python 3 (ipykernel)",
   "language": "python",
   "name": "python3"
  },
  "language_info": {
   "codemirror_mode": {
    "name": "ipython",
    "version": 3
   },
   "file_extension": ".py",
   "mimetype": "text/x-python",
   "name": "python",
   "nbconvert_exporter": "python",
   "pygments_lexer": "ipython3",
   "version": "3.7.8"
  },
  "toc": {
   "base_numbering": 1,
   "nav_menu": {},
   "number_sections": true,
   "sideBar": true,
   "skip_h1_title": true,
   "title_cell": "Table of Contents",
   "title_sidebar": "Contents",
   "toc_cell": false,
   "toc_position": {},
   "toc_section_display": true,
   "toc_window_display": false
  }
 },
 "nbformat": 4,
 "nbformat_minor": 2
}
